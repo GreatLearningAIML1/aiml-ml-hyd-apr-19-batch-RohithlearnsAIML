{
  "nbformat": 4,
  "nbformat_minor": 0,
  "metadata": {
    "colab": {
      "name": "CV_Project2_Dog_Breed_Classification_Questions-1.ipynb",
      "provenance": [],
      "collapsed_sections": [],
      "toc_visible": true
    },
    "kernelspec": {
      "display_name": "Python 3",
      "language": "python",
      "name": "python3"
    },
    "accelerator": "GPU"
  },
  "cells": [
    {
      "cell_type": "markdown",
      "metadata": {
        "colab_type": "text",
        "id": "2kIWaR5ZpKlJ"
      },
      "source": [
        "## Dog Breed Classification\n",
        "\n",
        "In this project we will use traditional CNN, CNN with data augmentation and finally transfer Learning by VGG16 model with weights pre-trained on Imagenet to solve the dog breed classification problem"
      ]
    },
    {
      "cell_type": "markdown",
      "metadata": {
        "colab_type": "text",
        "id": "F7MDmaAw2xGO"
      },
      "source": [
        "### Load Dataset Files"
      ]
    },
    {
      "cell_type": "code",
      "metadata": {
        "colab_type": "code",
        "id": "BZWpQv1OwqYK",
        "colab": {}
      },
      "source": [
        "import os\n",
        "from tqdm import tqdm \n",
        "from sklearn import preprocessing\n",
        "from sklearn.model_selection import train_test_split\n",
        "import cv2\n",
        "import numpy as np # linear algebra\n",
        "import pandas as pd # data processing, CSV file I/O (e.g. pd.read_csv)\n",
        "import keras\n",
        "from keras.applications.vgg19 import VGG19\n",
        "from keras.models import Model\n",
        "from keras.layers import Dense, Dropout, Flatten,BatchNormalization\n",
        "import matplotlib.pyplot as plt "
      ],
      "execution_count": 0,
      "outputs": []
    },
    {
      "cell_type": "code",
      "metadata": {
        "colab_type": "code",
        "id": "fVhB9OopxFbX",
        "colab": {}
      },
      "source": [
        ""
      ],
      "execution_count": 0,
      "outputs": []
    },
    {
      "cell_type": "code",
      "metadata": {
        "id": "XojYwbr5apHi",
        "colab_type": "code",
        "colab": {
          "base_uri": "https://localhost:8080/",
          "height": 124
        },
        "outputId": "97465db4-22c5-432c-e804-60c7f8810344"
      },
      "source": [
        "from google.colab import drive\n",
        "drive.mount('/content/drive')"
      ],
      "execution_count": 2,
      "outputs": [
        {
          "output_type": "stream",
          "text": [
            "Go to this URL in a browser: https://accounts.google.com/o/oauth2/auth?client_id=947318989803-6bn6qk8qdgf4n4g3pfee6491hc0brc4i.apps.googleusercontent.com&redirect_uri=urn%3aietf%3awg%3aoauth%3a2.0%3aoob&response_type=code&scope=email%20https%3a%2f%2fwww.googleapis.com%2fauth%2fdocs.test%20https%3a%2f%2fwww.googleapis.com%2fauth%2fdrive%20https%3a%2f%2fwww.googleapis.com%2fauth%2fdrive.photos.readonly%20https%3a%2f%2fwww.googleapis.com%2fauth%2fpeopleapi.readonly\n",
            "\n",
            "Enter your authorization code:\n",
            "··········\n",
            "Mounted at /content/drive\n"
          ],
          "name": "stdout"
        }
      ]
    },
    {
      "cell_type": "markdown",
      "metadata": {
        "colab_type": "text",
        "id": "1q2zzIaUprk_"
      },
      "source": [
        "Now, upload the given dataset file shared with you in your google drive and give its path for the below given `project_path` variable. For example, a path is given below according to the file path in our google drive. You need to change this to match the path of yours."
      ]
    },
    {
      "cell_type": "code",
      "metadata": {
        "colab_type": "code",
        "id": "Tp6FvAToxUFs",
        "colab": {}
      },
      "source": [
        "project_path = \"/content/drive/My Drive/DogBreed_Classification\""
      ],
      "execution_count": 0,
      "outputs": []
    },
    {
      "cell_type": "markdown",
      "metadata": {
        "colab_type": "text",
        "id": "rydR_j8lqUei"
      },
      "source": [
        "Run the below code to extract all the images in the train.zip files given in the dataset. We are going to use these images as train and validation sets and their labels in further steps."
      ]
    },
    {
      "cell_type": "code",
      "metadata": {
        "colab_type": "code",
        "id": "3350WZM4w4EL",
        "colab": {
          "base_uri": "https://localhost:8080/",
          "height": 346
        },
        "outputId": "b98969d6-adc6-40e9-feea-4e16774ac02e"
      },
      "source": [
        "from zipfile import ZipFile\n",
        "with ZipFile(project_path+'/train.zip', 'r') as z:\n",
        "  z.extractall('/content/drive/My Drive/DogTrain')"
      ],
      "execution_count": 7,
      "outputs": [
        {
          "output_type": "error",
          "ename": "OSError",
          "evalue": "ignored",
          "traceback": [
            "\u001b[0;31m---------------------------------------------------------------------------\u001b[0m",
            "\u001b[0;31mOSError\u001b[0m                                   Traceback (most recent call last)",
            "\u001b[0;32m<ipython-input-7-d380015d1904>\u001b[0m in \u001b[0;36m<module>\u001b[0;34m()\u001b[0m\n\u001b[1;32m      1\u001b[0m \u001b[0;32mfrom\u001b[0m \u001b[0mzipfile\u001b[0m \u001b[0;32mimport\u001b[0m \u001b[0mZipFile\u001b[0m\u001b[0;34m\u001b[0m\u001b[0;34m\u001b[0m\u001b[0m\n\u001b[1;32m      2\u001b[0m \u001b[0;32mwith\u001b[0m \u001b[0mZipFile\u001b[0m\u001b[0;34m(\u001b[0m\u001b[0mproject_path\u001b[0m\u001b[0;34m+\u001b[0m\u001b[0;34m'/train.zip'\u001b[0m\u001b[0;34m,\u001b[0m \u001b[0;34m'r'\u001b[0m\u001b[0;34m)\u001b[0m \u001b[0;32mas\u001b[0m \u001b[0mz\u001b[0m\u001b[0;34m:\u001b[0m\u001b[0;34m\u001b[0m\u001b[0;34m\u001b[0m\u001b[0m\n\u001b[0;32m----> 3\u001b[0;31m   \u001b[0mz\u001b[0m\u001b[0;34m.\u001b[0m\u001b[0mextractall\u001b[0m\u001b[0;34m(\u001b[0m\u001b[0;34m'/content/drive/My Drive/DogBreed_Classification'\u001b[0m\u001b[0;34m)\u001b[0m\u001b[0;34m\u001b[0m\u001b[0;34m\u001b[0m\u001b[0m\n\u001b[0m",
            "\u001b[0;32m/usr/lib/python3.6/zipfile.py\u001b[0m in \u001b[0;36mextractall\u001b[0;34m(self, path, members, pwd)\u001b[0m\n\u001b[1;32m   1522\u001b[0m \u001b[0;34m\u001b[0m\u001b[0m\n\u001b[1;32m   1523\u001b[0m         \u001b[0;32mfor\u001b[0m \u001b[0mzipinfo\u001b[0m \u001b[0;32min\u001b[0m \u001b[0mmembers\u001b[0m\u001b[0;34m:\u001b[0m\u001b[0;34m\u001b[0m\u001b[0;34m\u001b[0m\u001b[0m\n\u001b[0;32m-> 1524\u001b[0;31m             \u001b[0mself\u001b[0m\u001b[0;34m.\u001b[0m\u001b[0m_extract_member\u001b[0m\u001b[0;34m(\u001b[0m\u001b[0mzipinfo\u001b[0m\u001b[0;34m,\u001b[0m \u001b[0mpath\u001b[0m\u001b[0;34m,\u001b[0m \u001b[0mpwd\u001b[0m\u001b[0;34m)\u001b[0m\u001b[0;34m\u001b[0m\u001b[0;34m\u001b[0m\u001b[0m\n\u001b[0m\u001b[1;32m   1525\u001b[0m \u001b[0;34m\u001b[0m\u001b[0m\n\u001b[1;32m   1526\u001b[0m     \u001b[0;34m@\u001b[0m\u001b[0mclassmethod\u001b[0m\u001b[0;34m\u001b[0m\u001b[0;34m\u001b[0m\u001b[0m\n",
            "\u001b[0;32m/usr/lib/python3.6/zipfile.py\u001b[0m in \u001b[0;36m_extract_member\u001b[0;34m(self, member, targetpath, pwd)\u001b[0m\n\u001b[1;32m   1572\u001b[0m         \u001b[0;32mif\u001b[0m \u001b[0mmember\u001b[0m\u001b[0;34m.\u001b[0m\u001b[0mis_dir\u001b[0m\u001b[0;34m(\u001b[0m\u001b[0;34m)\u001b[0m\u001b[0;34m:\u001b[0m\u001b[0;34m\u001b[0m\u001b[0;34m\u001b[0m\u001b[0m\n\u001b[1;32m   1573\u001b[0m             \u001b[0;32mif\u001b[0m \u001b[0;32mnot\u001b[0m \u001b[0mos\u001b[0m\u001b[0;34m.\u001b[0m\u001b[0mpath\u001b[0m\u001b[0;34m.\u001b[0m\u001b[0misdir\u001b[0m\u001b[0;34m(\u001b[0m\u001b[0mtargetpath\u001b[0m\u001b[0;34m)\u001b[0m\u001b[0;34m:\u001b[0m\u001b[0;34m\u001b[0m\u001b[0;34m\u001b[0m\u001b[0m\n\u001b[0;32m-> 1574\u001b[0;31m                 \u001b[0mos\u001b[0m\u001b[0;34m.\u001b[0m\u001b[0mmkdir\u001b[0m\u001b[0;34m(\u001b[0m\u001b[0mtargetpath\u001b[0m\u001b[0;34m)\u001b[0m\u001b[0;34m\u001b[0m\u001b[0;34m\u001b[0m\u001b[0m\n\u001b[0m\u001b[1;32m   1575\u001b[0m             \u001b[0;32mreturn\u001b[0m \u001b[0mtargetpath\u001b[0m\u001b[0;34m\u001b[0m\u001b[0;34m\u001b[0m\u001b[0m\n\u001b[1;32m   1576\u001b[0m \u001b[0;34m\u001b[0m\u001b[0m\n",
            "\u001b[0;31mOSError\u001b[0m: [Errno 30] Read-only file system: '/content/drive/My Drive/DogBreed_Classification/train'"
          ]
        }
      ]
    },
    {
      "cell_type": "markdown",
      "metadata": {
        "id": "3NHq1iBCfFjE",
        "colab_type": "text"
      },
      "source": [
        "Repeat the same step for test.zip"
      ]
    },
    {
      "cell_type": "code",
      "metadata": {
        "colab_type": "code",
        "id": "_fxzynvB2YCb",
        "colab": {}
      },
      "source": [
        "from zipfile import ZipFile\n",
        "with ZipFile(project_path+'/test.zip', 'r') as z:\n",
        "  z.extractall('/content/drive/My Drive/DogTrain')"
      ],
      "execution_count": 0,
      "outputs": []
    },
    {
      "cell_type": "markdown",
      "metadata": {
        "id": "jnUMhQrDfJmz",
        "colab_type": "text"
      },
      "source": [
        "Repeat the same step for sample_submission.csv.zip"
      ]
    },
    {
      "cell_type": "code",
      "metadata": {
        "colab_type": "code",
        "id": "4PyTxE8q2jLf",
        "colab": {}
      },
      "source": [
        "from zipfile import ZipFile\n",
        "with ZipFile('/content/drive/My Drive/DogBreed_Classification/sample_submission.csv.zip', 'r') as z:\n",
        "  z.extractall('/content/drive/My Drive/DogTrain')"
      ],
      "execution_count": 0,
      "outputs": []
    },
    {
      "cell_type": "markdown",
      "metadata": {
        "id": "2G9RIxB-fOLT",
        "colab_type": "text"
      },
      "source": [
        "Repeat the same step for labels.csv.zip"
      ]
    },
    {
      "cell_type": "code",
      "metadata": {
        "colab_type": "code",
        "id": "rXtnEoEixbgi",
        "colab": {}
      },
      "source": [
        "from zipfile import ZipFile\n",
        "with ZipFile('/content/drive/My Drive/DogBreed_Classification/labels.csv.zip', 'r') as z:\n",
        "  z.extractall('/content/drive/My Drive/DogTrain')"
      ],
      "execution_count": 0,
      "outputs": []
    },
    {
      "cell_type": "markdown",
      "metadata": {
        "id": "sJc1lVrW_jmL",
        "colab_type": "text"
      },
      "source": [
        "After this process, we will have 4 files - Train folder, test folder and labels.csv and sample_submission.csv as part of your google drive"
      ]
    },
    {
      "cell_type": "markdown",
      "metadata": {
        "colab_type": "text",
        "id": "aYmJKmDqqpng"
      },
      "source": [
        "### Read labels.csv file using pandas"
      ]
    },
    {
      "cell_type": "code",
      "metadata": {
        "id": "WmlJ2VMY96IZ",
        "colab_type": "code",
        "colab": {}
      },
      "source": [
        "df_train = pd.read_csv('/content/drive/My Drive/DogTrain/labels.csv')"
      ],
      "execution_count": 0,
      "outputs": []
    },
    {
      "cell_type": "code",
      "metadata": {
        "id": "0CDQ4_4ojCze",
        "colab_type": "code",
        "colab": {}
      },
      "source": [
        "df_test = pd.read_csv('/content/drive/My Drive/DogTrain/sample_submission.csv')\n"
      ],
      "execution_count": 0,
      "outputs": []
    },
    {
      "cell_type": "code",
      "metadata": {
        "id": "hPvb1RSc96If",
        "colab_type": "code",
        "colab": {
          "base_uri": "https://localhost:8080/",
          "height": 202
        },
        "outputId": "f9f7e05c-2b28-4225-fcf5-5e5c77ab445c"
      },
      "source": [
        "df_train.head()"
      ],
      "execution_count": 12,
      "outputs": [
        {
          "output_type": "execute_result",
          "data": {
            "text/html": [
              "<div>\n",
              "<style scoped>\n",
              "    .dataframe tbody tr th:only-of-type {\n",
              "        vertical-align: middle;\n",
              "    }\n",
              "\n",
              "    .dataframe tbody tr th {\n",
              "        vertical-align: top;\n",
              "    }\n",
              "\n",
              "    .dataframe thead th {\n",
              "        text-align: right;\n",
              "    }\n",
              "</style>\n",
              "<table border=\"1\" class=\"dataframe\">\n",
              "  <thead>\n",
              "    <tr style=\"text-align: right;\">\n",
              "      <th></th>\n",
              "      <th>id</th>\n",
              "      <th>breed</th>\n",
              "    </tr>\n",
              "  </thead>\n",
              "  <tbody>\n",
              "    <tr>\n",
              "      <th>0</th>\n",
              "      <td>000bec180eb18c7604dcecc8fe0dba07</td>\n",
              "      <td>boston_bull</td>\n",
              "    </tr>\n",
              "    <tr>\n",
              "      <th>1</th>\n",
              "      <td>001513dfcb2ffafc82cccf4d8bbaba97</td>\n",
              "      <td>dingo</td>\n",
              "    </tr>\n",
              "    <tr>\n",
              "      <th>2</th>\n",
              "      <td>001cdf01b096e06d78e9e5112d419397</td>\n",
              "      <td>pekinese</td>\n",
              "    </tr>\n",
              "    <tr>\n",
              "      <th>3</th>\n",
              "      <td>00214f311d5d2247d5dfe4fe24b2303d</td>\n",
              "      <td>bluetick</td>\n",
              "    </tr>\n",
              "    <tr>\n",
              "      <th>4</th>\n",
              "      <td>0021f9ceb3235effd7fcde7f7538ed62</td>\n",
              "      <td>golden_retriever</td>\n",
              "    </tr>\n",
              "  </tbody>\n",
              "</table>\n",
              "</div>"
            ],
            "text/plain": [
              "                                 id             breed\n",
              "0  000bec180eb18c7604dcecc8fe0dba07       boston_bull\n",
              "1  001513dfcb2ffafc82cccf4d8bbaba97             dingo\n",
              "2  001cdf01b096e06d78e9e5112d419397          pekinese\n",
              "3  00214f311d5d2247d5dfe4fe24b2303d          bluetick\n",
              "4  0021f9ceb3235effd7fcde7f7538ed62  golden_retriever"
            ]
          },
          "metadata": {
            "tags": []
          },
          "execution_count": 12
        }
      ]
    },
    {
      "cell_type": "markdown",
      "metadata": {
        "colab_type": "text",
        "id": "QP8YAzQvqyK-"
      },
      "source": [
        "### Print the count of each category of Dogs given in the dataset\n",
        "\n"
      ]
    },
    {
      "cell_type": "code",
      "metadata": {
        "id": "3L2naXlr96Im",
        "colab_type": "code",
        "colab": {
          "base_uri": "https://localhost:8080/",
          "height": 225
        },
        "outputId": "7538f154-d768-424c-9ba6-dbf59d21154b"
      },
      "source": [
        "df_train['breed'].value_counts()"
      ],
      "execution_count": 16,
      "outputs": [
        {
          "output_type": "execute_result",
          "data": {
            "text/plain": [
              "scottish_deerhound      126\n",
              "maltese_dog             117\n",
              "afghan_hound            116\n",
              "entlebucher             115\n",
              "bernese_mountain_dog    114\n",
              "                       ... \n",
              "brabancon_griffon        67\n",
              "golden_retriever         67\n",
              "komondor                 67\n",
              "briard                   66\n",
              "eskimo_dog               66\n",
              "Name: breed, Length: 120, dtype: int64"
            ]
          },
          "metadata": {
            "tags": []
          },
          "execution_count": 16
        }
      ]
    },
    {
      "cell_type": "code",
      "metadata": {
        "id": "CLm3W5RN96Ir",
        "colab_type": "code",
        "colab": {}
      },
      "source": [
        ""
      ],
      "execution_count": 0,
      "outputs": []
    },
    {
      "cell_type": "markdown",
      "metadata": {
        "colab_type": "text",
        "id": "WI94_Qcc0D4M"
      },
      "source": [
        "### Get one-hot encodings of labels"
      ]
    },
    {
      "cell_type": "code",
      "metadata": {
        "id": "iWs5RDnjgnOA",
        "colab_type": "code",
        "colab": {}
      },
      "source": [
        "targets_series = pd.Series(df_train['breed']) \n"
      ],
      "execution_count": 0,
      "outputs": []
    },
    {
      "cell_type": "code",
      "metadata": {
        "id": "9nlWmRNM96I8",
        "colab_type": "code",
        "colab": {}
      },
      "source": [
        "one_hot = pd.get_dummies(targets_series, sparse = True) \n"
      ],
      "execution_count": 0,
      "outputs": []
    },
    {
      "cell_type": "code",
      "metadata": {
        "id": "vgomx24rgeXF",
        "colab_type": "code",
        "colab": {}
      },
      "source": [
        "one_hot_labels = np.asarray(one_hot)\n"
      ],
      "execution_count": 0,
      "outputs": []
    },
    {
      "cell_type": "code",
      "metadata": {
        "id": "euvUbiEqg58W",
        "colab_type": "code",
        "colab": {
          "base_uri": "https://localhost:8080/",
          "height": 139
        },
        "outputId": "e43baa92-2751-4bfb-f1db-0f0c4c5b8904"
      },
      "source": [
        "one_hot_labels"
      ],
      "execution_count": 27,
      "outputs": [
        {
          "output_type": "execute_result",
          "data": {
            "text/plain": [
              "array([[0, 0, 0, ..., 0, 0, 0],\n",
              "       [0, 0, 0, ..., 0, 0, 0],\n",
              "       [0, 0, 0, ..., 0, 0, 0],\n",
              "       ...,\n",
              "       [0, 0, 0, ..., 0, 0, 0],\n",
              "       [0, 0, 0, ..., 0, 0, 0],\n",
              "       [0, 0, 0, ..., 0, 0, 0]], dtype=uint8)"
            ]
          },
          "metadata": {
            "tags": []
          },
          "execution_count": 27
        }
      ]
    },
    {
      "cell_type": "markdown",
      "metadata": {
        "id": "VWaJ9naXfoiU",
        "colab_type": "text"
      },
      "source": [
        "## Preparing training dataset\n",
        "1. Write a code which reads each and every id from labels.csv file and loads the corresponding image (in RGB - 128, 128, 3) from the train folder. <br>\n",
        "2. Create 2 variables <br> \n",
        "     a.  x_train - Should have all the images of the dogs from train folder <br>\n",
        "     b.  y_train - Corresponding label of the dog <br>\n",
        "<u>Note:</u> The id of the dog images and its corresponding labels are available in labels.csv file   \n",
        "<u>Hint:</u> Watch the video shared on \"Preparing the training dataset\" if you face issue on creating the training dataset"
      ]
    },
    {
      "cell_type": "code",
      "metadata": {
        "colab_type": "code",
        "id": "aC2f9ecR0XGR",
        "colab": {}
      },
      "source": [
        "im_size = 128\n",
        "\n",
        "x_train = []\n",
        "y_train = []\n",
        "x_test = []"
      ],
      "execution_count": 0,
      "outputs": []
    },
    {
      "cell_type": "code",
      "metadata": {
        "colab_type": "code",
        "id": "nkkZEpOe0ipk",
        "colab": {
          "base_uri": "https://localhost:8080/",
          "height": 35
        },
        "outputId": "d54c5940-0ba7-4ad4-af1e-fb316a6a1f12"
      },
      "source": [
        "i = 0 \n",
        "for f, breed in tqdm(df_train.values): #tqdm은 반복문의 진행상황을 알려준다.\n",
        "    img = cv2.imread('/content/drive/My Drive/DogTrain/train/{}.jpg'.format(f))\n",
        "    label = one_hot_labels[i]\n",
        "    x_train.append(cv2.resize(img, (im_size, im_size)))\n",
        "    y_train.append(label)\n",
        "    i += 1"
      ],
      "execution_count": 29,
      "outputs": [
        {
          "output_type": "stream",
          "text": [
            "100%|██████████| 10222/10222 [01:16<00:00, 132.83it/s]\n"
          ],
          "name": "stderr"
        }
      ]
    },
    {
      "cell_type": "code",
      "metadata": {
        "id": "3VzRNu3tjhzW",
        "colab_type": "code",
        "colab": {
          "base_uri": "https://localhost:8080/",
          "height": 52
        },
        "outputId": "d5c4da31-8190-4041-e1ac-16bf09e095fc"
      },
      "source": [
        "print(np.asarray(x_train).shape)\n",
        "print(np.asarray(y_train).shape)"
      ],
      "execution_count": 38,
      "outputs": [
        {
          "output_type": "stream",
          "text": [
            "(10222, 128, 128, 3)\n",
            "(10222, 120)\n"
          ],
          "name": "stdout"
        }
      ]
    },
    {
      "cell_type": "code",
      "metadata": {
        "id": "ip7cWbcZiVru",
        "colab_type": "code",
        "colab": {
          "base_uri": "https://localhost:8080/",
          "height": 35
        },
        "outputId": "37352cfc-c748-4ead-9356-9a3ee1781b4d"
      },
      "source": [
        "for f in tqdm(df_test['id'].values):\n",
        "    img = cv2.imread('/content/drive/My Drive/DogTrain/test/{}.jpg'.format(f))\n",
        "    x_test.append(cv2.resize(img, (im_size, im_size)))"
      ],
      "execution_count": 33,
      "outputs": [
        {
          "output_type": "stream",
          "text": [
            "100%|██████████| 10357/10357 [01:13<00:00, 141.22it/s]\n"
          ],
          "name": "stderr"
        }
      ]
    },
    {
      "cell_type": "markdown",
      "metadata": {
        "id": "6ioWDEgElBOs",
        "colab_type": "text"
      },
      "source": [
        "Normalize the training data and convert into 4 dimensions so that it can be used as an input to conv layers in the model"
      ]
    },
    {
      "cell_type": "code",
      "metadata": {
        "colab_type": "code",
        "id": "ARn76j3U1CDa",
        "colab": {}
      },
      "source": [
        "y_train_raw = np.array(y_train, np.uint8)\n",
        "x_train_raw = np.array(x_train, np.float32) / 255.\n",
        "x_test  = np.array(x_test, np.float32) / 255. "
      ],
      "execution_count": 0,
      "outputs": []
    },
    {
      "cell_type": "markdown",
      "metadata": {
        "colab_type": "text",
        "id": "bdCXuAE11gZL"
      },
      "source": [
        "### Split the training and validation data from `x_train_data` and `y_train_data` obtained from above step"
      ]
    },
    {
      "cell_type": "code",
      "metadata": {
        "id": "kpWx-pgV96Jv",
        "colab_type": "code",
        "colab": {
          "base_uri": "https://localhost:8080/",
          "height": 69
        },
        "outputId": "990d8389-b062-4270-e978-84161ea898fc"
      },
      "source": [
        "print(x_train_raw.shape)\n",
        "print(y_train_raw.shape)\n",
        "print(x_test.shape)"
      ],
      "execution_count": 40,
      "outputs": [
        {
          "output_type": "stream",
          "text": [
            "(10222, 128, 128, 3)\n",
            "(10222, 120)\n",
            "(10357, 128, 128, 3)\n"
          ],
          "name": "stdout"
        }
      ]
    },
    {
      "cell_type": "code",
      "metadata": {
        "id": "vNjVCADSkf3O",
        "colab_type": "code",
        "colab": {}
      },
      "source": [
        "X_train, X_valid, Y_train, Y_valid = train_test_split(x_train_raw, y_train_raw, test_size=0.3, random_state=1)\n"
      ],
      "execution_count": 0,
      "outputs": []
    },
    {
      "cell_type": "code",
      "metadata": {
        "id": "r7fmFbE2rP3F",
        "colab_type": "code",
        "colab": {
          "base_uri": "https://localhost:8080/",
          "height": 52
        },
        "outputId": "4ec4ddd3-a891-4548-c1d8-86c6697a3e66"
      },
      "source": [
        "print(X_train.shape)\n",
        "print(X_valid.shape)"
      ],
      "execution_count": 56,
      "outputs": [
        {
          "output_type": "stream",
          "text": [
            "(7155, 128, 128, 3)\n",
            "(3067, 128, 128, 3)\n"
          ],
          "name": "stdout"
        }
      ]
    },
    {
      "cell_type": "markdown",
      "metadata": {
        "colab_type": "text",
        "id": "XkL-N1jDsU8m"
      },
      "source": [
        "### Loading the test data\n",
        "Read the id column from the samples_submission.csv and store it in test_img"
      ]
    },
    {
      "cell_type": "code",
      "metadata": {
        "colab_type": "code",
        "id": "DnpXdpd9b3E7",
        "colab": {}
      },
      "source": [
        "#This step was done above"
      ],
      "execution_count": 0,
      "outputs": []
    },
    {
      "cell_type": "markdown",
      "metadata": {
        "id": "DEJqZIMbm0Jo",
        "colab_type": "text"
      },
      "source": [
        "Run the below code to load the test image files in x_test_feature"
      ]
    },
    {
      "cell_type": "code",
      "metadata": {
        "colab_type": "code",
        "id": "zf7n4WG-b3Hv",
        "colab": {}
      },
      "source": [
        "#This has been done abve"
      ],
      "execution_count": 0,
      "outputs": []
    },
    {
      "cell_type": "markdown",
      "metadata": {
        "id": "9My6qSyDnE-_",
        "colab_type": "text"
      },
      "source": [
        "Normalize the test data and convert it into 4 dimensions"
      ]
    },
    {
      "cell_type": "code",
      "metadata": {
        "id": "93n-IntMnJGI",
        "colab_type": "code",
        "colab": {}
      },
      "source": [
        "#This was done above"
      ],
      "execution_count": 0,
      "outputs": []
    },
    {
      "cell_type": "markdown",
      "metadata": {
        "colab_type": "text",
        "id": "zKezNJVMsocP"
      },
      "source": [
        "### Build a basic conv neural network with 2 conv layers (kernel sizes - 5 and 3) add layers as mentioned below for classification.\n",
        "\n",
        "1. Add a Dense layer with 256 neurons with `relu` activation\n",
        "\n",
        "2. Add a Dense layer with 120 neurons as final layer (as there are 120 classes in the given dataset) with `softmax` activation for classifiaction. "
      ]
    },
    {
      "cell_type": "code",
      "metadata": {
        "id": "D2jxTY2S96J4",
        "colab_type": "code",
        "colab": {
          "base_uri": "https://localhost:8080/",
          "height": 537
        },
        "outputId": "f6db1111-0a14-44e6-ddc3-4a22587d6d42"
      },
      "source": [
        "from keras.models import Sequential\n",
        "from keras.layers.convolutional import Conv2D, MaxPooling2D\n",
        "from keras.layers.core import Activation, Flatten, Dense\n",
        "from keras.optimizers import Adam\n",
        "# initialize the model\n",
        "\n",
        "inputShape = (128, 128, 3)\n",
        "EPOCHS = 10\n",
        "INIT_LR = 1e-3\n",
        "BS = 128\n",
        "\n",
        "model = Sequential()\n",
        "model.add(Conv2D(32, (5, 5), padding=\"same\", input_shape=inputShape)) \n",
        "model.add(Activation(\"relu\"))\n",
        "\n",
        "model.add(MaxPooling2D(pool_size=(2, 2)))\n",
        "model.add(Conv2D(64, (3, 3), padding=\"same\"))\n",
        "model.add(Activation(\"relu\"))\n",
        "\n",
        "model.add(MaxPooling2D(pool_size=(2, 2)))\n",
        "\n",
        "model.add(Flatten())\n",
        "model.add(Dense(units=256))\n",
        "model.add(Activation(\"relu\"))\n",
        "\n",
        "# softmax classifier\n",
        "model.add(Dense(units=120))\n",
        "model.add(Activation(\"softmax\"))\n",
        "   \n",
        "opt = Adam(lr=INIT_LR, decay=INIT_LR / EPOCHS)\n",
        "model.compile(loss=\"categorical_crossentropy\", optimizer=opt, metrics=[\"accuracy\"])\n",
        "model.summary()"
      ],
      "execution_count": 59,
      "outputs": [
        {
          "output_type": "stream",
          "text": [
            "Model: \"sequential_2\"\n",
            "_________________________________________________________________\n",
            "Layer (type)                 Output Shape              Param #   \n",
            "=================================================================\n",
            "conv2d_3 (Conv2D)            (None, 128, 128, 32)      2432      \n",
            "_________________________________________________________________\n",
            "activation_5 (Activation)    (None, 128, 128, 32)      0         \n",
            "_________________________________________________________________\n",
            "max_pooling2d_3 (MaxPooling2 (None, 64, 64, 32)        0         \n",
            "_________________________________________________________________\n",
            "conv2d_4 (Conv2D)            (None, 64, 64, 64)        18496     \n",
            "_________________________________________________________________\n",
            "activation_6 (Activation)    (None, 64, 64, 64)        0         \n",
            "_________________________________________________________________\n",
            "max_pooling2d_4 (MaxPooling2 (None, 32, 32, 64)        0         \n",
            "_________________________________________________________________\n",
            "flatten_2 (Flatten)          (None, 65536)             0         \n",
            "_________________________________________________________________\n",
            "dense_3 (Dense)              (None, 256)               16777472  \n",
            "_________________________________________________________________\n",
            "activation_7 (Activation)    (None, 256)               0         \n",
            "_________________________________________________________________\n",
            "dense_4 (Dense)              (None, 120)               30840     \n",
            "_________________________________________________________________\n",
            "activation_8 (Activation)    (None, 120)               0         \n",
            "=================================================================\n",
            "Total params: 16,829,240\n",
            "Trainable params: 16,829,240\n",
            "Non-trainable params: 0\n",
            "_________________________________________________________________\n"
          ],
          "name": "stdout"
        }
      ]
    },
    {
      "cell_type": "code",
      "metadata": {
        "id": "f_BAvCzo96J6",
        "colab_type": "code",
        "colab": {}
      },
      "source": [
        ""
      ],
      "execution_count": 0,
      "outputs": []
    },
    {
      "cell_type": "markdown",
      "metadata": {
        "id": "ui8EXw6_oqpR",
        "colab_type": "text"
      },
      "source": [
        "### Use batch_size = 128 and epochs = 10 and execute the model"
      ]
    },
    {
      "cell_type": "code",
      "metadata": {
        "id": "IriIc37NozbK",
        "colab_type": "code",
        "colab": {
          "base_uri": "https://localhost:8080/",
          "height": 748
        },
        "outputId": "a8d42e27-7d8f-4dbf-cfca-1dcf08b991e3"
      },
      "source": [
        "\n",
        "#Training on the dataset\n",
        "model.fit(X_train, Y_train,\n",
        "          batch_size=128,\n",
        "          epochs=10,\n",
        "          verbose=1,\n",
        "          validation_data=(X_valid, Y_valid))"
      ],
      "execution_count": 45,
      "outputs": [
        {
          "output_type": "stream",
          "text": [
            "WARNING:tensorflow:From /usr/local/lib/python3.6/dist-packages/tensorflow_core/python/ops/math_grad.py:1424: where (from tensorflow.python.ops.array_ops) is deprecated and will be removed in a future version.\n",
            "Instructions for updating:\n",
            "Use tf.where in 2.0, which has the same broadcast rule as np.where\n",
            "WARNING:tensorflow:From /usr/local/lib/python3.6/dist-packages/keras/backend/tensorflow_backend.py:1033: The name tf.assign_add is deprecated. Please use tf.compat.v1.assign_add instead.\n",
            "\n",
            "WARNING:tensorflow:From /usr/local/lib/python3.6/dist-packages/keras/backend/tensorflow_backend.py:1020: The name tf.assign is deprecated. Please use tf.compat.v1.assign instead.\n",
            "\n",
            "WARNING:tensorflow:From /usr/local/lib/python3.6/dist-packages/keras/backend/tensorflow_backend.py:3005: The name tf.Session is deprecated. Please use tf.compat.v1.Session instead.\n",
            "\n",
            "Train on 7155 samples, validate on 3067 samples\n",
            "Epoch 1/10\n",
            "WARNING:tensorflow:From /usr/local/lib/python3.6/dist-packages/keras/backend/tensorflow_backend.py:190: The name tf.get_default_session is deprecated. Please use tf.compat.v1.get_default_session instead.\n",
            "\n",
            "WARNING:tensorflow:From /usr/local/lib/python3.6/dist-packages/keras/backend/tensorflow_backend.py:197: The name tf.ConfigProto is deprecated. Please use tf.compat.v1.ConfigProto instead.\n",
            "\n",
            "WARNING:tensorflow:From /usr/local/lib/python3.6/dist-packages/keras/backend/tensorflow_backend.py:207: The name tf.global_variables is deprecated. Please use tf.compat.v1.global_variables instead.\n",
            "\n",
            "WARNING:tensorflow:From /usr/local/lib/python3.6/dist-packages/keras/backend/tensorflow_backend.py:216: The name tf.is_variable_initialized is deprecated. Please use tf.compat.v1.is_variable_initialized instead.\n",
            "\n",
            "WARNING:tensorflow:From /usr/local/lib/python3.6/dist-packages/keras/backend/tensorflow_backend.py:223: The name tf.variables_initializer is deprecated. Please use tf.compat.v1.variables_initializer instead.\n",
            "\n",
            "7155/7155 [==============================] - 19s 3ms/step - loss: 4.9703 - acc: 0.0105 - val_loss: 4.7900 - val_acc: 0.0104\n",
            "Epoch 2/10\n",
            "7155/7155 [==============================] - 3s 487us/step - loss: 4.7488 - acc: 0.0198 - val_loss: 4.7331 - val_acc: 0.0192\n",
            "Epoch 3/10\n",
            "7155/7155 [==============================] - 3s 481us/step - loss: 4.4799 - acc: 0.0514 - val_loss: 4.6229 - val_acc: 0.0333\n",
            "Epoch 4/10\n",
            "7155/7155 [==============================] - 4s 492us/step - loss: 3.6432 - acc: 0.1823 - val_loss: 4.8556 - val_acc: 0.0333\n",
            "Epoch 5/10\n",
            "7155/7155 [==============================] - 3s 489us/step - loss: 2.2929 - acc: 0.4618 - val_loss: 5.8989 - val_acc: 0.0372\n",
            "Epoch 6/10\n",
            "7155/7155 [==============================] - 4s 490us/step - loss: 1.0607 - acc: 0.7507 - val_loss: 7.5867 - val_acc: 0.0352\n",
            "Epoch 7/10\n",
            "7155/7155 [==============================] - 3s 486us/step - loss: 0.3895 - acc: 0.9196 - val_loss: 9.0155 - val_acc: 0.0388\n",
            "Epoch 8/10\n",
            "7155/7155 [==============================] - 3s 487us/step - loss: 0.1569 - acc: 0.9700 - val_loss: 9.8262 - val_acc: 0.0372\n",
            "Epoch 9/10\n",
            "7155/7155 [==============================] - 3s 488us/step - loss: 0.0867 - acc: 0.9848 - val_loss: 9.9859 - val_acc: 0.0320\n",
            "Epoch 10/10\n",
            "7155/7155 [==============================] - 3s 488us/step - loss: 0.0547 - acc: 0.9918 - val_loss: 10.6833 - val_acc: 0.0352\n"
          ],
          "name": "stdout"
        },
        {
          "output_type": "execute_result",
          "data": {
            "text/plain": [
              "<keras.callbacks.History at 0x7f5a9102a828>"
            ]
          },
          "metadata": {
            "tags": []
          },
          "execution_count": 45
        }
      ]
    },
    {
      "cell_type": "code",
      "metadata": {
        "id": "0PR9j5_Xozmd",
        "colab_type": "code",
        "colab": {
          "base_uri": "https://localhost:8080/",
          "height": 35
        },
        "outputId": "6b7dda00-0d6c-45f1-ba4f-7f1eecac4595"
      },
      "source": [
        "loss,accuracy=model.evaluate(X_valid,Y_valid)"
      ],
      "execution_count": 48,
      "outputs": [
        {
          "output_type": "stream",
          "text": [
            "3067/3067 [==============================] - 1s 209us/step\n"
          ],
          "name": "stdout"
        }
      ]
    },
    {
      "cell_type": "code",
      "metadata": {
        "id": "FbBqFPSSnOMN",
        "colab_type": "code",
        "colab": {
          "base_uri": "https://localhost:8080/",
          "height": 35
        },
        "outputId": "230e3faf-c7ff-4b5b-b33f-c0997d072be7"
      },
      "source": [
        "accuracy"
      ],
      "execution_count": 49,
      "outputs": [
        {
          "output_type": "execute_result",
          "data": {
            "text/plain": [
              "0.03521356375035922"
            ]
          },
          "metadata": {
            "tags": []
          },
          "execution_count": 49
        }
      ]
    },
    {
      "cell_type": "markdown",
      "metadata": {
        "id": "Z8hWaKmjoz69",
        "colab_type": "text"
      },
      "source": [
        "#The model accuracy is very poor !!!!"
      ]
    },
    {
      "cell_type": "markdown",
      "metadata": {
        "colab_type": "text",
        "id": "agJKkc6xtKiq"
      },
      "source": [
        "### Use Data Augmentation in the above model to see if the accuracy improves\n"
      ]
    },
    {
      "cell_type": "code",
      "metadata": {
        "colab_type": "code",
        "id": "31Mn8qnZb3Ru",
        "colab": {}
      },
      "source": [
        "from keras.preprocessing.image import ImageDataGenerator\n",
        "\n",
        "traingen = ImageDataGenerator(rotation_range=30, width_shift_range=0.1, \n",
        "    height_shift_range=0.1, shear_range=0.2, zoom_range=0.2,\n",
        "   horizontal_flip=True, fill_mode=\"nearest\")\n",
        "valgen = ImageDataGenerator(rotation_range=30, width_shift_range=0.1, \n",
        "    height_shift_range=0.1, shear_range=0.2, zoom_range=0.2,\n",
        "   horizontal_flip=True, fill_mode=\"nearest\")"
      ],
      "execution_count": 0,
      "outputs": []
    },
    {
      "cell_type": "code",
      "metadata": {
        "id": "gDLQVFDP96KI",
        "colab_type": "code",
        "colab": {
          "base_uri": "https://localhost:8080/",
          "height": 384
        },
        "outputId": "cdbfc246-1411-4c48-cd78-8e449db632c3"
      },
      "source": [
        "\n",
        "H = model.fit_generator(aug.flow(X_train, Y_train, batch_size=BS), \n",
        "                        validation_data=(X_valid, Y_valid), \n",
        "                        steps_per_epoch=len(x_train) // BS, \n",
        "                        epochs=10, verbose=1)"
      ],
      "execution_count": 53,
      "outputs": [
        {
          "output_type": "stream",
          "text": [
            "Epoch 1/10\n",
            "79/79 [==============================] - 36s 460ms/step - loss: 5.0676 - acc: 0.0147 - val_loss: 4.7740 - val_acc: 0.0150\n",
            "Epoch 2/10\n",
            "79/79 [==============================] - 35s 444ms/step - loss: 4.7482 - acc: 0.0174 - val_loss: 4.7540 - val_acc: 0.0209\n",
            "Epoch 3/10\n",
            "79/79 [==============================] - 36s 449ms/step - loss: 4.6900 - acc: 0.0234 - val_loss: 4.6946 - val_acc: 0.0313\n",
            "Epoch 4/10\n",
            "79/79 [==============================] - 35s 441ms/step - loss: 4.6124 - acc: 0.0290 - val_loss: 4.6379 - val_acc: 0.0241\n",
            "Epoch 5/10\n",
            "79/79 [==============================] - 35s 447ms/step - loss: 4.5371 - acc: 0.0399 - val_loss: 4.5747 - val_acc: 0.0398\n",
            "Epoch 6/10\n",
            "79/79 [==============================] - 35s 445ms/step - loss: 4.4612 - acc: 0.0444 - val_loss: 4.5629 - val_acc: 0.0381\n",
            "Epoch 7/10\n",
            "79/79 [==============================] - 34s 437ms/step - loss: 4.3961 - acc: 0.0483 - val_loss: 4.4872 - val_acc: 0.0450\n",
            "Epoch 8/10\n",
            "79/79 [==============================] - 36s 451ms/step - loss: 4.3589 - acc: 0.0512 - val_loss: 4.4638 - val_acc: 0.0486\n",
            "Epoch 9/10\n",
            "79/79 [==============================] - 35s 442ms/step - loss: 4.2946 - acc: 0.0614 - val_loss: 4.4519 - val_acc: 0.0535\n",
            "Epoch 10/10\n",
            "79/79 [==============================] - 34s 436ms/step - loss: 4.2399 - acc: 0.0666 - val_loss: 4.4269 - val_acc: 0.0535\n"
          ],
          "name": "stdout"
        }
      ]
    },
    {
      "cell_type": "code",
      "metadata": {
        "colab_type": "code",
        "id": "bqTlW0qHb3Xb",
        "colab": {}
      },
      "source": [
        ""
      ],
      "execution_count": 0,
      "outputs": []
    },
    {
      "cell_type": "markdown",
      "metadata": {
        "colab_type": "text",
        "id": "6sssbaTfxlkk"
      },
      "source": [
        "### Using the above objects, create the image generators with variable names `train_generator` and `val_generator`\n",
        "\n",
        "You need to use train_datagen.flow() and val_datagen.flow()"
      ]
    },
    {
      "cell_type": "code",
      "metadata": {
        "id": "sehaRgT-96KQ",
        "colab_type": "code",
        "colab": {}
      },
      "source": [
        "train_generator=traingen.flow(X_train, Y_train, batch_size=BS)\n",
        "val_generator=valgen.flow(X_valid, Y_valid, batch_size=BS)\n"
      ],
      "execution_count": 0,
      "outputs": []
    },
    {
      "cell_type": "markdown",
      "metadata": {
        "colab_type": "text",
        "id": "TVFQJZw3x4-C"
      },
      "source": [
        "### Fit the model using fit_generator() using `train_generator` and `val_generator` from the above step with 10 epochs"
      ]
    },
    {
      "cell_type": "code",
      "metadata": {
        "colab_type": "code",
        "id": "J1K2MqHbuPUa",
        "colab": {
          "base_uri": "https://localhost:8080/",
          "height": 384
        },
        "outputId": "8f9ce50e-3d43-48c9-b747-22ff58404331"
      },
      "source": [
        "\n",
        "H = model.fit_generator(train_generator, \n",
        "                        validation_data=val_generator, \n",
        "                        steps_per_epoch=100, \n",
        "                        epochs=10,validation_steps=50, verbose=1\n",
        "                        )"
      ],
      "execution_count": 60,
      "outputs": [
        {
          "output_type": "stream",
          "text": [
            "Epoch 1/10\n",
            "100/100 [==============================] - 69s 690ms/step - loss: 4.8256 - acc: 0.0118 - val_loss: 4.7220 - val_acc: 0.0147\n",
            "Epoch 2/10\n",
            "100/100 [==============================] - 63s 632ms/step - loss: 4.6001 - acc: 0.0290 - val_loss: 4.5529 - val_acc: 0.0310\n",
            "Epoch 3/10\n",
            "100/100 [==============================] - 65s 648ms/step - loss: 4.3827 - acc: 0.0466 - val_loss: 4.4242 - val_acc: 0.0413\n",
            "Epoch 4/10\n",
            "100/100 [==============================] - 65s 649ms/step - loss: 4.2716 - acc: 0.0617 - val_loss: 4.3542 - val_acc: 0.0507\n",
            "Epoch 5/10\n",
            "100/100 [==============================] - 63s 634ms/step - loss: 4.1835 - acc: 0.0706 - val_loss: 4.3313 - val_acc: 0.0515\n",
            "Epoch 6/10\n",
            "100/100 [==============================] - 67s 673ms/step - loss: 4.1046 - acc: 0.0823 - val_loss: 4.3923 - val_acc: 0.0562\n",
            "Epoch 7/10\n",
            "100/100 [==============================] - 64s 642ms/step - loss: 4.0392 - acc: 0.0936 - val_loss: 4.3072 - val_acc: 0.0643\n",
            "Epoch 8/10\n",
            "100/100 [==============================] - 64s 640ms/step - loss: 3.9458 - acc: 0.1058 - val_loss: 4.3885 - val_acc: 0.0673\n",
            "Epoch 9/10\n",
            "100/100 [==============================] - 64s 641ms/step - loss: 3.9059 - acc: 0.1120 - val_loss: 4.3024 - val_acc: 0.0701\n",
            "Epoch 10/10\n",
            " 99/100 [============================>.] - ETA: 0s - loss: 3.8176 - acc: 0.1256"
          ],
          "name": "stdout"
        }
      ]
    },
    {
      "cell_type": "markdown",
      "metadata": {
        "id": "Q2zmLztqo5DY",
        "colab_type": "text"
      },
      "source": [
        "# Model accuracy is still poor!!!"
      ]
    },
    {
      "cell_type": "markdown",
      "metadata": {
        "id": "rSTATrhsAo7L",
        "colab_type": "text"
      },
      "source": [
        "### Lets use Transfer Learning\n",
        "\n",
        "Download the vgg wieght file from here : https://github.com/MinerKasch/applied_deep_learning/blob/master/vgg16_weights_tf_dim_ordering_tf_kernels_notop.h5"
      ]
    },
    {
      "cell_type": "markdown",
      "metadata": {
        "id": "zy5JdbW6pIvD",
        "colab_type": "text"
      },
      "source": [
        "Use the below code to load VGG16 weights trained on ImageNet"
      ]
    },
    {
      "cell_type": "code",
      "metadata": {
        "id": "GPgWWiRPzfvY",
        "colab_type": "code",
        "colab": {}
      },
      "source": [
        ""
      ],
      "execution_count": 0,
      "outputs": []
    },
    {
      "cell_type": "code",
      "metadata": {
        "id": "yrqs0zg7ApNw",
        "colab_type": "code",
        "colab": {}
      },
      "source": [
        "from keras.applications.vgg16 import VGG16, preprocess_input\n",
        "# Instantiate the model with the pre-trained weights (no top)\n",
        "base_model= VGG16(weights=('/content/vgg16_weights_tf_dim_ordering_tf_kernels_notop (1).h5'),\n",
        "                 include_top=False, pooling='avg')"
      ],
      "execution_count": 0,
      "outputs": []
    },
    {
      "cell_type": "markdown",
      "metadata": {
        "id": "EItOlRBGpV_A",
        "colab_type": "text"
      },
      "source": [
        "Print the summary of the base_model"
      ]
    },
    {
      "cell_type": "code",
      "metadata": {
        "id": "lQsEBgnlpHjH",
        "colab_type": "code",
        "colab": {
          "base_uri": "https://localhost:8080/",
          "height": 849
        },
        "outputId": "d792f252-64de-4189-b623-9ef1b9129cc2"
      },
      "source": [
        "base_model.summary()"
      ],
      "execution_count": 73,
      "outputs": [
        {
          "output_type": "stream",
          "text": [
            "Model: \"vgg16\"\n",
            "_________________________________________________________________\n",
            "Layer (type)                 Output Shape              Param #   \n",
            "=================================================================\n",
            "input_4 (InputLayer)         (None, None, None, 3)     0         \n",
            "_________________________________________________________________\n",
            "block1_conv1 (Conv2D)        (None, None, None, 64)    1792      \n",
            "_________________________________________________________________\n",
            "block1_conv2 (Conv2D)        (None, None, None, 64)    36928     \n",
            "_________________________________________________________________\n",
            "block1_pool (MaxPooling2D)   (None, None, None, 64)    0         \n",
            "_________________________________________________________________\n",
            "block2_conv1 (Conv2D)        (None, None, None, 128)   73856     \n",
            "_________________________________________________________________\n",
            "block2_conv2 (Conv2D)        (None, None, None, 128)   147584    \n",
            "_________________________________________________________________\n",
            "block2_pool (MaxPooling2D)   (None, None, None, 128)   0         \n",
            "_________________________________________________________________\n",
            "block3_conv1 (Conv2D)        (None, None, None, 256)   295168    \n",
            "_________________________________________________________________\n",
            "block3_conv2 (Conv2D)        (None, None, None, 256)   590080    \n",
            "_________________________________________________________________\n",
            "block3_conv3 (Conv2D)        (None, None, None, 256)   590080    \n",
            "_________________________________________________________________\n",
            "block3_pool (MaxPooling2D)   (None, None, None, 256)   0         \n",
            "_________________________________________________________________\n",
            "block4_conv1 (Conv2D)        (None, None, None, 512)   1180160   \n",
            "_________________________________________________________________\n",
            "block4_conv2 (Conv2D)        (None, None, None, 512)   2359808   \n",
            "_________________________________________________________________\n",
            "block4_conv3 (Conv2D)        (None, None, None, 512)   2359808   \n",
            "_________________________________________________________________\n",
            "block4_pool (MaxPooling2D)   (None, None, None, 512)   0         \n",
            "_________________________________________________________________\n",
            "block5_conv1 (Conv2D)        (None, None, None, 512)   2359808   \n",
            "_________________________________________________________________\n",
            "block5_conv2 (Conv2D)        (None, None, None, 512)   2359808   \n",
            "_________________________________________________________________\n",
            "block5_conv3 (Conv2D)        (None, None, None, 512)   2359808   \n",
            "_________________________________________________________________\n",
            "block5_pool (MaxPooling2D)   (None, None, None, 512)   0         \n",
            "_________________________________________________________________\n",
            "global_average_pooling2d_4 ( (None, 512)               0         \n",
            "=================================================================\n",
            "Total params: 14,714,688\n",
            "Trainable params: 14,714,688\n",
            "Non-trainable params: 0\n",
            "_________________________________________________________________\n"
          ],
          "name": "stdout"
        }
      ]
    },
    {
      "cell_type": "markdown",
      "metadata": {
        "id": "fHpeOyW0qauW",
        "colab_type": "text"
      },
      "source": [
        "### Add the following classification layers to the imported VGG Model <br>\n",
        "1. Flatten Layer\n",
        "2. Dense layer with 1024 neurons with activation as Relu\n",
        "3. Dense layer with 256 neurons with activation as Relu\n",
        "4. Dense layer with 120 neurons with activation as Softmax"
      ]
    },
    {
      "cell_type": "code",
      "metadata": {
        "id": "izYulmDw8Vya",
        "colab_type": "code",
        "colab": {}
      },
      "source": [
        "x = base_model.output\n",
        "x = Flatten()(x)\n",
        "predictions = Dense(120, activation='softmax')(x)"
      ],
      "execution_count": 0,
      "outputs": []
    },
    {
      "cell_type": "code",
      "metadata": {
        "id": "0BpT4MLkqoaO",
        "colab_type": "code",
        "colab": {
          "base_uri": "https://localhost:8080/",
          "height": 124
        },
        "outputId": "fea450d5-c68a-4e46-bc3e-21ebde9c3413"
      },
      "source": [
        "my_new_model = Sequential()\n",
        "my_new_model.add((VGG16(weights=('/content/vgg16_weights_tf_dim_ordering_tf_kernels_notop (1).h5'),\n",
        "                 include_top=False, pooling='avg')))\n",
        "my_new_model.add(Dense(units=1024))\n",
        "my_new_model.add(Activation('relu'))\n",
        "my_new_model.add(Dropout(0.5))\n",
        "my_new_model.add(Dense(256))\n",
        "my_new_model.add(Activation('relu'))\n",
        "my_new_model.add(Dropout(0.5))\n",
        "my_new_model.add(Dense(120, activation='softmax'))"
      ],
      "execution_count": 83,
      "outputs": [
        {
          "output_type": "stream",
          "text": [
            "WARNING:tensorflow:From /usr/local/lib/python3.6/dist-packages/keras/backend/tensorflow_backend.py:148: The name tf.placeholder_with_default is deprecated. Please use tf.compat.v1.placeholder_with_default instead.\n",
            "\n",
            "WARNING:tensorflow:From /usr/local/lib/python3.6/dist-packages/keras/backend/tensorflow_backend.py:3733: calling dropout (from tensorflow.python.ops.nn_ops) with keep_prob is deprecated and will be removed in a future version.\n",
            "Instructions for updating:\n",
            "Please use `rate` instead of `keep_prob`. Rate should be set to `rate = 1 - keep_prob`.\n"
          ],
          "name": "stdout"
        }
      ]
    },
    {
      "cell_type": "markdown",
      "metadata": {
        "id": "LeQem0pHITIj",
        "colab_type": "text"
      },
      "source": [
        "### Make all the layers in the base_model (VGG16) to be non-trainable"
      ]
    },
    {
      "cell_type": "code",
      "metadata": {
        "id": "sHXmBjw59zOD",
        "colab_type": "code",
        "colab": {}
      },
      "source": [
        "opt = Adam(lr=INIT_LR, decay=INIT_LR / EPOCHS)\n",
        "my_new_model.compile(loss=\"categorical_crossentropy\", optimizer=opt, metrics=[\"accuracy\"])"
      ],
      "execution_count": 0,
      "outputs": []
    },
    {
      "cell_type": "code",
      "metadata": {
        "id": "C7w9CSPvIRnX",
        "colab_type": "code",
        "colab": {
          "base_uri": "https://localhost:8080/",
          "height": 433
        },
        "outputId": "33aadb94-6443-4d6f-b9d1-6f723bf6d446"
      },
      "source": [
        "my_new_model.summary()"
      ],
      "execution_count": 84,
      "outputs": [
        {
          "output_type": "stream",
          "text": [
            "Model: \"sequential_4\"\n",
            "_________________________________________________________________\n",
            "Layer (type)                 Output Shape              Param #   \n",
            "=================================================================\n",
            "vgg16 (Model)                (None, 512)               14714688  \n",
            "_________________________________________________________________\n",
            "dense_5 (Dense)              (None, 1024)              525312    \n",
            "_________________________________________________________________\n",
            "activation_9 (Activation)    (None, 1024)              0         \n",
            "_________________________________________________________________\n",
            "dropout_1 (Dropout)          (None, 1024)              0         \n",
            "_________________________________________________________________\n",
            "dense_6 (Dense)              (None, 256)               262400    \n",
            "_________________________________________________________________\n",
            "activation_10 (Activation)   (None, 256)               0         \n",
            "_________________________________________________________________\n",
            "dropout_2 (Dropout)          (None, 256)               0         \n",
            "_________________________________________________________________\n",
            "dense_7 (Dense)              (None, 120)               30840     \n",
            "=================================================================\n",
            "Total params: 15,533,240\n",
            "Trainable params: 15,533,240\n",
            "Non-trainable params: 0\n",
            "_________________________________________________________________\n"
          ],
          "name": "stdout"
        }
      ]
    },
    {
      "cell_type": "code",
      "metadata": {
        "id": "3lkgoLCe9Gmx",
        "colab_type": "code",
        "colab": {}
      },
      "source": [
        "for layer in my_new_model.layers:\n",
        "  if('dense' not in layer.name): #prefix detection to freeze layers which does not have dense\n",
        "    #Freezing a layer\n",
        "    layer.trainable = False"
      ],
      "execution_count": 0,
      "outputs": []
    },
    {
      "cell_type": "code",
      "metadata": {
        "id": "qjGuuJNS9Q0F",
        "colab_type": "code",
        "colab": {
          "base_uri": "https://localhost:8080/",
          "height": 295
        },
        "outputId": "5641ffd5-f4d8-4785-f13f-4a2812519365"
      },
      "source": [
        "\n",
        "#Module to print colourful statements\n",
        "from termcolor import colored\n",
        "\n",
        "#Check which layers have been frozen \n",
        "for layer in my_new_model.layers:\n",
        "  print (colored(layer.name, 'blue'))\n",
        "  print (colored(layer.trainable, 'red'))"
      ],
      "execution_count": 87,
      "outputs": [
        {
          "output_type": "stream",
          "text": [
            "\u001b[34mvgg16\u001b[0m\n",
            "\u001b[31mFalse\u001b[0m\n",
            "\u001b[34mdense_5\u001b[0m\n",
            "\u001b[31mTrue\u001b[0m\n",
            "\u001b[34mactivation_9\u001b[0m\n",
            "\u001b[31mFalse\u001b[0m\n",
            "\u001b[34mdropout_1\u001b[0m\n",
            "\u001b[31mFalse\u001b[0m\n",
            "\u001b[34mdense_6\u001b[0m\n",
            "\u001b[31mTrue\u001b[0m\n",
            "\u001b[34mactivation_10\u001b[0m\n",
            "\u001b[31mFalse\u001b[0m\n",
            "\u001b[34mdropout_2\u001b[0m\n",
            "\u001b[31mFalse\u001b[0m\n",
            "\u001b[34mdense_7\u001b[0m\n",
            "\u001b[31mTrue\u001b[0m\n"
          ],
          "name": "stdout"
        }
      ]
    },
    {
      "cell_type": "markdown",
      "metadata": {
        "id": "kj-BwqgfIkdv",
        "colab_type": "text"
      },
      "source": [
        "### Fit and compile the model with batch_size = 128 and epochs = 10 and execute the model"
      ]
    },
    {
      "cell_type": "markdown",
      "metadata": {
        "id": "YD5fAgVQIpKZ",
        "colab_type": "text"
      },
      "source": [
        "Try to get training and validation accuracy to be more than 90%"
      ]
    },
    {
      "cell_type": "code",
      "metadata": {
        "id": "SZk2SWvjIoRP",
        "colab_type": "code",
        "colab": {
          "base_uri": "https://localhost:8080/",
          "height": 1000
        },
        "outputId": "31d5199d-150a-44d9-9bba-a940ccda023f"
      },
      "source": [
        "my_new_model.fit(X_train, Y_train,\n",
        "          batch_size=128,\n",
        "          epochs=50,\n",
        "          verbose=1,\n",
        "          validation_data=(X_valid, Y_valid))"
      ],
      "execution_count": 91,
      "outputs": [
        {
          "output_type": "stream",
          "text": [
            "Train on 7155 samples, validate on 3067 samples\n",
            "Epoch 1/50\n",
            "7155/7155 [==============================] - 8s 1ms/step - loss: 3.5007 - acc: 0.1588 - val_loss: 3.4074 - val_acc: 0.1842\n",
            "Epoch 2/50\n",
            "7155/7155 [==============================] - 8s 1ms/step - loss: 3.4316 - acc: 0.1725 - val_loss: 3.3860 - val_acc: 0.1894\n",
            "Epoch 3/50\n",
            "7155/7155 [==============================] - 8s 1ms/step - loss: 3.3584 - acc: 0.1744 - val_loss: 3.3238 - val_acc: 0.1940\n",
            "Epoch 4/50\n",
            "7155/7155 [==============================] - 8s 1ms/step - loss: 3.2945 - acc: 0.1901 - val_loss: 3.3020 - val_acc: 0.1943\n",
            "Epoch 5/50\n",
            "7155/7155 [==============================] - 8s 1ms/step - loss: 3.2300 - acc: 0.2015 - val_loss: 3.2789 - val_acc: 0.1982\n",
            "Epoch 6/50\n",
            "7155/7155 [==============================] - 8s 1ms/step - loss: 3.1747 - acc: 0.2122 - val_loss: 3.2248 - val_acc: 0.2080\n",
            "Epoch 7/50\n",
            "7155/7155 [==============================] - 8s 1ms/step - loss: 3.1179 - acc: 0.2217 - val_loss: 3.2374 - val_acc: 0.2067\n",
            "Epoch 8/50\n",
            "7155/7155 [==============================] - 8s 1ms/step - loss: 3.0541 - acc: 0.2291 - val_loss: 3.1677 - val_acc: 0.2224\n",
            "Epoch 9/50\n",
            "7155/7155 [==============================] - 8s 1ms/step - loss: 3.0104 - acc: 0.2412 - val_loss: 3.1623 - val_acc: 0.2165\n",
            "Epoch 10/50\n",
            "7155/7155 [==============================] - 8s 1ms/step - loss: 2.9629 - acc: 0.2510 - val_loss: 3.1523 - val_acc: 0.2207\n",
            "Epoch 11/50\n",
            "7155/7155 [==============================] - 8s 1ms/step - loss: 2.9154 - acc: 0.2584 - val_loss: 3.1352 - val_acc: 0.2260\n",
            "Epoch 12/50\n",
            "7155/7155 [==============================] - 8s 1ms/step - loss: 2.9057 - acc: 0.2630 - val_loss: 3.1101 - val_acc: 0.2318\n",
            "Epoch 13/50\n",
            "7155/7155 [==============================] - 8s 1ms/step - loss: 2.8691 - acc: 0.2679 - val_loss: 3.1049 - val_acc: 0.2269\n",
            "Epoch 14/50\n",
            "7155/7155 [==============================] - 8s 1ms/step - loss: 2.8458 - acc: 0.2776 - val_loss: 3.1117 - val_acc: 0.2331\n",
            "Epoch 15/50\n",
            "7155/7155 [==============================] - 8s 1ms/step - loss: 2.7823 - acc: 0.2872 - val_loss: 3.1079 - val_acc: 0.2331\n",
            "Epoch 16/50\n",
            "7155/7155 [==============================] - 8s 1ms/step - loss: 2.7557 - acc: 0.2955 - val_loss: 3.1145 - val_acc: 0.2250\n",
            "Epoch 17/50\n",
            "7155/7155 [==============================] - 8s 1ms/step - loss: 2.7115 - acc: 0.3044 - val_loss: 3.0777 - val_acc: 0.2452\n",
            "Epoch 18/50\n",
            "7155/7155 [==============================] - 8s 1ms/step - loss: 2.6633 - acc: 0.3090 - val_loss: 3.0971 - val_acc: 0.2387\n",
            "Epoch 19/50\n",
            "7155/7155 [==============================] - 8s 1ms/step - loss: 2.6380 - acc: 0.3108 - val_loss: 3.0890 - val_acc: 0.2439\n",
            "Epoch 20/50\n",
            "7155/7155 [==============================] - 8s 1ms/step - loss: 2.6092 - acc: 0.3188 - val_loss: 3.0789 - val_acc: 0.2429\n",
            "Epoch 21/50\n",
            "7155/7155 [==============================] - 8s 1ms/step - loss: 2.5869 - acc: 0.3277 - val_loss: 3.0851 - val_acc: 0.2390\n",
            "Epoch 22/50\n",
            "7155/7155 [==============================] - 8s 1ms/step - loss: 2.5807 - acc: 0.3290 - val_loss: 3.0740 - val_acc: 0.2374\n",
            "Epoch 23/50\n",
            "7155/7155 [==============================] - 8s 1ms/step - loss: 2.5069 - acc: 0.3389 - val_loss: 3.0887 - val_acc: 0.2282\n",
            "Epoch 24/50\n",
            "7155/7155 [==============================] - 8s 1ms/step - loss: 2.5071 - acc: 0.3371 - val_loss: 3.0865 - val_acc: 0.2449\n",
            "Epoch 25/50\n",
            "7155/7155 [==============================] - 8s 1ms/step - loss: 2.4625 - acc: 0.3512 - val_loss: 3.0723 - val_acc: 0.2452\n",
            "Epoch 26/50\n",
            "7155/7155 [==============================] - 8s 1ms/step - loss: 2.4366 - acc: 0.3556 - val_loss: 3.0913 - val_acc: 0.2406\n",
            "Epoch 27/50\n",
            "7155/7155 [==============================] - 8s 1ms/step - loss: 2.4025 - acc: 0.3646 - val_loss: 3.0646 - val_acc: 0.2507\n",
            "Epoch 28/50\n",
            "7155/7155 [==============================] - 8s 1ms/step - loss: 2.3879 - acc: 0.3607 - val_loss: 3.0871 - val_acc: 0.2429\n",
            "Epoch 29/50\n",
            "7155/7155 [==============================] - 8s 1ms/step - loss: 2.3586 - acc: 0.3729 - val_loss: 3.0913 - val_acc: 0.2488\n",
            "Epoch 30/50\n",
            "7155/7155 [==============================] - 8s 1ms/step - loss: 2.3329 - acc: 0.3708 - val_loss: 3.0939 - val_acc: 0.2377\n",
            "Epoch 31/50\n",
            "7155/7155 [==============================] - 8s 1ms/step - loss: 2.3015 - acc: 0.3811 - val_loss: 3.0806 - val_acc: 0.2491\n",
            "Epoch 32/50\n",
            "7155/7155 [==============================] - 8s 1ms/step - loss: 2.2783 - acc: 0.3876 - val_loss: 3.0851 - val_acc: 0.2452\n",
            "Epoch 33/50\n",
            "7155/7155 [==============================] - 8s 1ms/step - loss: 2.2581 - acc: 0.3911 - val_loss: 3.0823 - val_acc: 0.2413\n",
            "Epoch 34/50\n",
            "7155/7155 [==============================] - 8s 1ms/step - loss: 2.2259 - acc: 0.4075 - val_loss: 3.0973 - val_acc: 0.2485\n",
            "Epoch 35/50\n",
            "7155/7155 [==============================] - 8s 1ms/step - loss: 2.1845 - acc: 0.4157 - val_loss: 3.1003 - val_acc: 0.2458\n",
            "Epoch 36/50\n",
            "7155/7155 [==============================] - 8s 1ms/step - loss: 2.1613 - acc: 0.4088 - val_loss: 3.1071 - val_acc: 0.2543\n",
            "Epoch 37/50\n",
            "7155/7155 [==============================] - 8s 1ms/step - loss: 2.1438 - acc: 0.4249 - val_loss: 3.0944 - val_acc: 0.2576\n",
            "Epoch 38/50\n",
            "7155/7155 [==============================] - 8s 1ms/step - loss: 2.1208 - acc: 0.4267 - val_loss: 3.1164 - val_acc: 0.2511\n",
            "Epoch 39/50\n",
            "7155/7155 [==============================] - 8s 1ms/step - loss: 2.1082 - acc: 0.4256 - val_loss: 3.1003 - val_acc: 0.2540\n",
            "Epoch 40/50\n",
            "7155/7155 [==============================] - 8s 1ms/step - loss: 2.0820 - acc: 0.4275 - val_loss: 3.1271 - val_acc: 0.2507\n",
            "Epoch 41/50\n",
            "7155/7155 [==============================] - 8s 1ms/step - loss: 2.0463 - acc: 0.4416 - val_loss: 3.1463 - val_acc: 0.2514\n",
            "Epoch 42/50\n",
            "7155/7155 [==============================] - 8s 1ms/step - loss: 2.0179 - acc: 0.4479 - val_loss: 3.1206 - val_acc: 0.2543\n",
            "Epoch 43/50\n",
            "7155/7155 [==============================] - 8s 1ms/step - loss: 2.0082 - acc: 0.4461 - val_loss: 3.1406 - val_acc: 0.2517\n",
            "Epoch 44/50\n",
            "7155/7155 [==============================] - 8s 1ms/step - loss: 2.0030 - acc: 0.4500 - val_loss: 3.1568 - val_acc: 0.2494\n",
            "Epoch 45/50\n",
            "7155/7155 [==============================] - 8s 1ms/step - loss: 1.9989 - acc: 0.4545 - val_loss: 3.1411 - val_acc: 0.2540\n",
            "Epoch 46/50\n",
            "7155/7155 [==============================] - 8s 1ms/step - loss: 1.9402 - acc: 0.4706 - val_loss: 3.1703 - val_acc: 0.2481\n",
            "Epoch 47/50\n",
            "7155/7155 [==============================] - 8s 1ms/step - loss: 1.9346 - acc: 0.4664 - val_loss: 3.1600 - val_acc: 0.2566\n",
            "Epoch 48/50\n",
            "7155/7155 [==============================] - 8s 1ms/step - loss: 1.9184 - acc: 0.4720 - val_loss: 3.1791 - val_acc: 0.2530\n",
            "Epoch 49/50\n",
            "7155/7155 [==============================] - 8s 1ms/step - loss: 1.8775 - acc: 0.4776 - val_loss: 3.1777 - val_acc: 0.2533\n",
            "Epoch 50/50\n",
            "7155/7155 [==============================] - 8s 1ms/step - loss: 1.8486 - acc: 0.4816 - val_loss: 3.1920 - val_acc: 0.2566\n"
          ],
          "name": "stdout"
        },
        {
          "output_type": "execute_result",
          "data": {
            "text/plain": [
              "<keras.callbacks.History at 0x7f5a90aa1b38>"
            ]
          },
          "metadata": {
            "tags": []
          },
          "execution_count": 91
        }
      ]
    },
    {
      "cell_type": "code",
      "metadata": {
        "id": "1zGUmk7aBy5l",
        "colab_type": "code",
        "colab": {}
      },
      "source": [
        "#Optimising the model using BatchNorm and DropOut"
      ],
      "execution_count": 0,
      "outputs": []
    },
    {
      "cell_type": "code",
      "metadata": {
        "id": "IkbIUQszAACp",
        "colab_type": "code",
        "colab": {}
      },
      "source": [
        "my_new_model = Sequential()\n",
        "my_new_model.add((VGG16(weights=('/content/vgg16_weights_tf_dim_ordering_tf_kernels_notop (1).h5'),\n",
        "                 include_top=False, pooling='avg')))\n",
        "my_new_model.add(Dense(units=1024))\n",
        "my_new_model.add(BatchNormalization())\n",
        "my_new_model.add(Activation('relu'))\n",
        "my_new_model.add(Dropout(0.5))\n",
        "my_new_model.add(Dense(256))\n",
        "my_new_model.add(BatchNormalization())\n",
        "my_new_model.add(Activation('relu'))\n",
        "my_new_model.add(Dropout(0.5))\n",
        "my_new_model.add(Dense(120, activation='softmax'))"
      ],
      "execution_count": 0,
      "outputs": []
    },
    {
      "cell_type": "code",
      "metadata": {
        "id": "aAeN1nDuBSK6",
        "colab_type": "code",
        "colab": {
          "base_uri": "https://localhost:8080/",
          "height": 503
        },
        "outputId": "7a23d8e9-b782-4378-84f9-287292572720"
      },
      "source": [
        "my_new_model.summary()"
      ],
      "execution_count": 96,
      "outputs": [
        {
          "output_type": "stream",
          "text": [
            "Model: \"sequential_6\"\n",
            "_________________________________________________________________\n",
            "Layer (type)                 Output Shape              Param #   \n",
            "=================================================================\n",
            "vgg16 (Model)                (None, 512)               14714688  \n",
            "_________________________________________________________________\n",
            "dense_9 (Dense)              (None, 1024)              525312    \n",
            "_________________________________________________________________\n",
            "batch_normalization_1 (Batch (None, 1024)              4096      \n",
            "_________________________________________________________________\n",
            "activation_11 (Activation)   (None, 1024)              0         \n",
            "_________________________________________________________________\n",
            "dropout_3 (Dropout)          (None, 1024)              0         \n",
            "_________________________________________________________________\n",
            "dense_10 (Dense)             (None, 256)               262400    \n",
            "_________________________________________________________________\n",
            "batch_normalization_2 (Batch (None, 256)               1024      \n",
            "_________________________________________________________________\n",
            "activation_12 (Activation)   (None, 256)               0         \n",
            "_________________________________________________________________\n",
            "dropout_4 (Dropout)          (None, 256)               0         \n",
            "_________________________________________________________________\n",
            "dense_11 (Dense)             (None, 120)               30840     \n",
            "=================================================================\n",
            "Total params: 15,538,360\n",
            "Trainable params: 15,535,800\n",
            "Non-trainable params: 2,560\n",
            "_________________________________________________________________\n"
          ],
          "name": "stdout"
        }
      ]
    },
    {
      "cell_type": "code",
      "metadata": {
        "id": "QPJsPMRCBMoN",
        "colab_type": "code",
        "colab": {}
      },
      "source": [
        "for layer in my_new_model.layers:\n",
        "  if('dense' not in layer.name and 'batch' not in layer.name): #prefix detection to freeze layers which does not have dense\n",
        "    #Freezing a layer\n",
        "    layer.trainable = False"
      ],
      "execution_count": 0,
      "outputs": []
    },
    {
      "cell_type": "code",
      "metadata": {
        "id": "3R3cbTH_Bq9Y",
        "colab_type": "code",
        "colab": {
          "base_uri": "https://localhost:8080/",
          "height": 364
        },
        "outputId": "5f9a0c49-fc98-4279-85c3-6d35ff0b3ffb"
      },
      "source": [
        "for layer in my_new_model.layers:\n",
        "  print (colored(layer.name, 'blue'))\n",
        "  print (colored(layer.trainable, 'red'))"
      ],
      "execution_count": 98,
      "outputs": [
        {
          "output_type": "stream",
          "text": [
            "\u001b[34mvgg16\u001b[0m\n",
            "\u001b[31mFalse\u001b[0m\n",
            "\u001b[34mdense_9\u001b[0m\n",
            "\u001b[31mTrue\u001b[0m\n",
            "\u001b[34mbatch_normalization_1\u001b[0m\n",
            "\u001b[31mTrue\u001b[0m\n",
            "\u001b[34mactivation_11\u001b[0m\n",
            "\u001b[31mFalse\u001b[0m\n",
            "\u001b[34mdropout_3\u001b[0m\n",
            "\u001b[31mFalse\u001b[0m\n",
            "\u001b[34mdense_10\u001b[0m\n",
            "\u001b[31mTrue\u001b[0m\n",
            "\u001b[34mbatch_normalization_2\u001b[0m\n",
            "\u001b[31mTrue\u001b[0m\n",
            "\u001b[34mactivation_12\u001b[0m\n",
            "\u001b[31mFalse\u001b[0m\n",
            "\u001b[34mdropout_4\u001b[0m\n",
            "\u001b[31mFalse\u001b[0m\n",
            "\u001b[34mdense_11\u001b[0m\n",
            "\u001b[31mTrue\u001b[0m\n"
          ],
          "name": "stdout"
        }
      ]
    },
    {
      "cell_type": "code",
      "metadata": {
        "id": "E3IodEH9CEts",
        "colab_type": "code",
        "colab": {}
      },
      "source": [
        "opt = Adam(lr=INIT_LR, decay=INIT_LR / EPOCHS)\n",
        "my_new_model.compile(loss=\"categorical_crossentropy\", optimizer=opt, metrics=[\"accuracy\"])"
      ],
      "execution_count": 0,
      "outputs": []
    },
    {
      "cell_type": "code",
      "metadata": {
        "id": "jyNXxXBuCGuf",
        "colab_type": "code",
        "colab": {
          "base_uri": "https://localhost:8080/",
          "height": 1000
        },
        "outputId": "debe2a6f-ebf8-41b8-fe71-14bc6a27f66e"
      },
      "source": [
        "my_new_model.fit(X_train, Y_train,\n",
        "          batch_size=128,\n",
        "          epochs=50,\n",
        "          verbose=1,\n",
        "          validation_data=(X_valid, Y_valid))"
      ],
      "execution_count": 101,
      "outputs": [
        {
          "output_type": "stream",
          "text": [
            "Train on 7155 samples, validate on 3067 samples\n",
            "Epoch 1/50\n",
            "7155/7155 [==============================] - 9s 1ms/step - loss: 5.0087 - acc: 0.0238 - val_loss: 4.3558 - val_acc: 0.0717\n",
            "Epoch 2/50\n",
            "7155/7155 [==============================] - 8s 1ms/step - loss: 4.3352 - acc: 0.0801 - val_loss: 4.0210 - val_acc: 0.1171\n",
            "Epoch 3/50\n",
            "7155/7155 [==============================] - 8s 1ms/step - loss: 3.9253 - acc: 0.1276 - val_loss: 3.8206 - val_acc: 0.1477\n",
            "Epoch 4/50\n",
            "7155/7155 [==============================] - 8s 1ms/step - loss: 3.6205 - acc: 0.1739 - val_loss: 3.6770 - val_acc: 0.1722\n",
            "Epoch 5/50\n",
            "7155/7155 [==============================] - 8s 1ms/step - loss: 3.4158 - acc: 0.2048 - val_loss: 3.5909 - val_acc: 0.1881\n",
            "Epoch 6/50\n",
            "7155/7155 [==============================] - 8s 1ms/step - loss: 3.2262 - acc: 0.2331 - val_loss: 3.4634 - val_acc: 0.2028\n",
            "Epoch 7/50\n",
            "7155/7155 [==============================] - 8s 1ms/step - loss: 3.0413 - acc: 0.2615 - val_loss: 3.4468 - val_acc: 0.1940\n",
            "Epoch 8/50\n",
            "7155/7155 [==============================] - 8s 1ms/step - loss: 2.9085 - acc: 0.2840 - val_loss: 3.3929 - val_acc: 0.2035\n",
            "Epoch 9/50\n",
            "7155/7155 [==============================] - 8s 1ms/step - loss: 2.7696 - acc: 0.3107 - val_loss: 3.3253 - val_acc: 0.2149\n",
            "Epoch 10/50\n",
            "7155/7155 [==============================] - 8s 1ms/step - loss: 2.6693 - acc: 0.3402 - val_loss: 3.2491 - val_acc: 0.2162\n",
            "Epoch 11/50\n",
            "7155/7155 [==============================] - 8s 1ms/step - loss: 2.5705 - acc: 0.3526 - val_loss: 3.2048 - val_acc: 0.2286\n",
            "Epoch 12/50\n",
            "7155/7155 [==============================] - 8s 1ms/step - loss: 2.4641 - acc: 0.3743 - val_loss: 3.2357 - val_acc: 0.2276\n",
            "Epoch 13/50\n",
            "7155/7155 [==============================] - 8s 1ms/step - loss: 2.3787 - acc: 0.3878 - val_loss: 3.1523 - val_acc: 0.2328\n",
            "Epoch 14/50\n",
            "7155/7155 [==============================] - 8s 1ms/step - loss: 2.2886 - acc: 0.4067 - val_loss: 3.2712 - val_acc: 0.2139\n",
            "Epoch 15/50\n",
            "7155/7155 [==============================] - 8s 1ms/step - loss: 2.2012 - acc: 0.4310 - val_loss: 3.2121 - val_acc: 0.2273\n",
            "Epoch 16/50\n",
            "7155/7155 [==============================] - 8s 1ms/step - loss: 2.1513 - acc: 0.4398 - val_loss: 3.2515 - val_acc: 0.2256\n",
            "Epoch 17/50\n",
            "7155/7155 [==============================] - 8s 1ms/step - loss: 2.0601 - acc: 0.4566 - val_loss: 3.1927 - val_acc: 0.2383\n",
            "Epoch 18/50\n",
            "7155/7155 [==============================] - 8s 1ms/step - loss: 1.9973 - acc: 0.4769 - val_loss: 3.1613 - val_acc: 0.2432\n",
            "Epoch 19/50\n",
            "7155/7155 [==============================] - 8s 1ms/step - loss: 1.9398 - acc: 0.4813 - val_loss: 3.2013 - val_acc: 0.2445\n",
            "Epoch 20/50\n",
            "7155/7155 [==============================] - 8s 1ms/step - loss: 1.8679 - acc: 0.4945 - val_loss: 3.1951 - val_acc: 0.2364\n",
            "Epoch 21/50\n",
            "7155/7155 [==============================] - 8s 1ms/step - loss: 1.7979 - acc: 0.5184 - val_loss: 3.2803 - val_acc: 0.2224\n",
            "Epoch 22/50\n",
            "7155/7155 [==============================] - 8s 1ms/step - loss: 1.7528 - acc: 0.5219 - val_loss: 3.2861 - val_acc: 0.2325\n",
            "Epoch 23/50\n",
            "7155/7155 [==============================] - 8s 1ms/step - loss: 1.6613 - acc: 0.5507 - val_loss: 3.2932 - val_acc: 0.2250\n",
            "Epoch 24/50\n",
            "7155/7155 [==============================] - 8s 1ms/step - loss: 1.6183 - acc: 0.5577 - val_loss: 3.3543 - val_acc: 0.2204\n",
            "Epoch 25/50\n",
            "7155/7155 [==============================] - 8s 1ms/step - loss: 1.5583 - acc: 0.5701 - val_loss: 3.2810 - val_acc: 0.2331\n",
            "Epoch 26/50\n",
            "7155/7155 [==============================] - 8s 1ms/step - loss: 1.5357 - acc: 0.5795 - val_loss: 3.2985 - val_acc: 0.2312\n",
            "Epoch 27/50\n",
            "7155/7155 [==============================] - 8s 1ms/step - loss: 1.4768 - acc: 0.5895 - val_loss: 3.3385 - val_acc: 0.2315\n",
            "Epoch 28/50\n",
            "7155/7155 [==============================] - 8s 1ms/step - loss: 1.4150 - acc: 0.6075 - val_loss: 3.3657 - val_acc: 0.2240\n",
            "Epoch 29/50\n",
            "7155/7155 [==============================] - 8s 1ms/step - loss: 1.3528 - acc: 0.6172 - val_loss: 3.3143 - val_acc: 0.2308\n",
            "Epoch 30/50\n",
            "7155/7155 [==============================] - 8s 1ms/step - loss: 1.3188 - acc: 0.6285 - val_loss: 3.4210 - val_acc: 0.2354\n",
            "Epoch 31/50\n",
            "7155/7155 [==============================] - 8s 1ms/step - loss: 1.2705 - acc: 0.6432 - val_loss: 3.3408 - val_acc: 0.2367\n",
            "Epoch 32/50\n",
            "7155/7155 [==============================] - 8s 1ms/step - loss: 1.2547 - acc: 0.6492 - val_loss: 3.3730 - val_acc: 0.2445\n",
            "Epoch 33/50\n",
            "7155/7155 [==============================] - 8s 1ms/step - loss: 1.1933 - acc: 0.6639 - val_loss: 3.4254 - val_acc: 0.2354\n",
            "Epoch 34/50\n",
            "7155/7155 [==============================] - 8s 1ms/step - loss: 1.1848 - acc: 0.6639 - val_loss: 3.4676 - val_acc: 0.2387\n",
            "Epoch 35/50\n",
            "7155/7155 [==============================] - 8s 1ms/step - loss: 1.1188 - acc: 0.6808 - val_loss: 3.4552 - val_acc: 0.2331\n",
            "Epoch 36/50\n",
            "7155/7155 [==============================] - 8s 1ms/step - loss: 1.1267 - acc: 0.6776 - val_loss: 3.4585 - val_acc: 0.2419\n",
            "Epoch 37/50\n",
            "7155/7155 [==============================] - 8s 1ms/step - loss: 1.0840 - acc: 0.6903 - val_loss: 3.4826 - val_acc: 0.2374\n",
            "Epoch 38/50\n",
            "7155/7155 [==============================] - 8s 1ms/step - loss: 1.0380 - acc: 0.7024 - val_loss: 3.4826 - val_acc: 0.2390\n",
            "Epoch 39/50\n",
            "7155/7155 [==============================] - 8s 1ms/step - loss: 1.0063 - acc: 0.7149 - val_loss: 3.5512 - val_acc: 0.2364\n",
            "Epoch 40/50\n",
            "7155/7155 [==============================] - 8s 1ms/step - loss: 0.9518 - acc: 0.7233 - val_loss: 3.5197 - val_acc: 0.2452\n",
            "Epoch 41/50\n",
            "7155/7155 [==============================] - 8s 1ms/step - loss: 0.9142 - acc: 0.7370 - val_loss: 3.5105 - val_acc: 0.2348\n",
            "Epoch 42/50\n",
            "7155/7155 [==============================] - 8s 1ms/step - loss: 0.8998 - acc: 0.7417 - val_loss: 3.5463 - val_acc: 0.2387\n",
            "Epoch 43/50\n",
            "7155/7155 [==============================] - 8s 1ms/step - loss: 0.8838 - acc: 0.7463 - val_loss: 3.5734 - val_acc: 0.2462\n",
            "Epoch 44/50\n",
            "7155/7155 [==============================] - 8s 1ms/step - loss: 0.8855 - acc: 0.7413 - val_loss: 3.5859 - val_acc: 0.2478\n",
            "Epoch 45/50\n",
            "7155/7155 [==============================] - 8s 1ms/step - loss: 0.8347 - acc: 0.7558 - val_loss: 3.6601 - val_acc: 0.2289\n",
            "Epoch 46/50\n",
            "7155/7155 [==============================] - 8s 1ms/step - loss: 0.8134 - acc: 0.7564 - val_loss: 3.7134 - val_acc: 0.2246\n",
            "Epoch 47/50\n",
            "7155/7155 [==============================] - 8s 1ms/step - loss: 0.7969 - acc: 0.7658 - val_loss: 3.6626 - val_acc: 0.2315\n",
            "Epoch 48/50\n",
            "7155/7155 [==============================] - 8s 1ms/step - loss: 0.7801 - acc: 0.7757 - val_loss: 3.7097 - val_acc: 0.2400\n",
            "Epoch 49/50\n",
            "7155/7155 [==============================] - 8s 1ms/step - loss: 0.7566 - acc: 0.7765 - val_loss: 3.7492 - val_acc: 0.2442\n",
            "Epoch 50/50\n",
            "7155/7155 [==============================] - 8s 1ms/step - loss: 0.7091 - acc: 0.7891 - val_loss: 3.7833 - val_acc: 0.2318\n"
          ],
          "name": "stdout"
        },
        {
          "output_type": "execute_result",
          "data": {
            "text/plain": [
              "<keras.callbacks.History at 0x7f587b830320>"
            ]
          },
          "metadata": {
            "tags": []
          },
          "execution_count": 101
        }
      ]
    }
  ]
}