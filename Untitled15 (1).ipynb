{
  "nbformat": 4,
  "nbformat_minor": 0,
  "metadata": {
    "colab": {
      "name": "Untitled15.ipynb",
      "provenance": [],
      "collapsed_sections": []
    },
    "kernelspec": {
      "name": "python3",
      "display_name": "Python 3"
    },
    "language_info": {
      "name": "python"
    }
  },
  "cells": [
    {
      "cell_type": "code",
      "metadata": {
        "colab": {
          "base_uri": "https://localhost:8080/"
        },
        "id": "aG7sXXv7cWfy",
        "outputId": "130f5e3e-f91c-412e-b1fd-045b152bb5d5"
      },
      "source": [
        "!apt-get install poppler-utils"
      ],
      "execution_count": 1,
      "outputs": [
        {
          "output_type": "stream",
          "text": [
            "Reading package lists... Done\n",
            "Building dependency tree       \n",
            "Reading state information... Done\n",
            "The following package was automatically installed and is no longer required:\n",
            "  libnvidia-common-460\n",
            "Use 'apt autoremove' to remove it.\n",
            "The following NEW packages will be installed:\n",
            "  poppler-utils\n",
            "0 upgraded, 1 newly installed, 0 to remove and 34 not upgraded.\n",
            "Need to get 154 kB of archives.\n",
            "After this operation, 613 kB of additional disk space will be used.\n",
            "Get:1 http://archive.ubuntu.com/ubuntu bionic-updates/main amd64 poppler-utils amd64 0.62.0-2ubuntu2.12 [154 kB]\n",
            "Fetched 154 kB in 1s (198 kB/s)\n",
            "Selecting previously unselected package poppler-utils.\n",
            "(Reading database ... 160706 files and directories currently installed.)\n",
            "Preparing to unpack .../poppler-utils_0.62.0-2ubuntu2.12_amd64.deb ...\n",
            "Unpacking poppler-utils (0.62.0-2ubuntu2.12) ...\n",
            "Setting up poppler-utils (0.62.0-2ubuntu2.12) ...\n",
            "Processing triggers for man-db (2.8.3-2ubuntu0.1) ...\n"
          ],
          "name": "stdout"
        }
      ]
    },
    {
      "cell_type": "code",
      "metadata": {
        "id": "0cx9P_q4eeRy",
        "colab": {
          "base_uri": "https://localhost:8080/"
        },
        "outputId": "2502fbe1-b59e-4727-94fa-48e292b403b9"
      },
      "source": [
        "!pip install pdf2image\n"
      ],
      "execution_count": 2,
      "outputs": [
        {
          "output_type": "stream",
          "text": [
            "Collecting pdf2image\n",
            "  Downloading https://files.pythonhosted.org/packages/7a/17/debc231f9bdb499e93389bb8679c7091ee9e4993dd92ed2da18aa896e2b6/pdf2image-1.15.1-py3-none-any.whl\n",
            "Requirement already satisfied: pillow in /usr/local/lib/python3.7/dist-packages (from pdf2image) (7.1.2)\n",
            "Installing collected packages: pdf2image\n",
            "Successfully installed pdf2image-1.15.1\n"
          ],
          "name": "stdout"
        }
      ]
    },
    {
      "cell_type": "code",
      "metadata": {
        "colab": {
          "base_uri": "https://localhost:8080/"
        },
        "id": "XEtNWkf54LO5",
        "outputId": "b8fa99e3-0773-477b-fe88-e0c29695b5be"
      },
      "source": [
        "\n",
        "# import module\n",
        "from pdf2image import convert_from_path\n",
        " \n",
        " \n",
        "# Store Pdf with convert_from_path function\n",
        "images = convert_from_path('Rentreceiptformat.pdf')\n",
        "print(images)\n",
        "for i in range(len(images)):\n",
        "   \n",
        "      # Save pages as images in the pdf\n",
        "    images[i].save('Rent'+ str(i) +'.png', 'PNG')"
      ],
      "execution_count": 1,
      "outputs": [
        {
          "output_type": "stream",
          "text": [
            "[<PIL.PpmImagePlugin.PpmImageFile image mode=RGB size=1700x2200 at 0x7F37C7A50590>]\n"
          ],
          "name": "stdout"
        }
      ]
    },
    {
      "cell_type": "code",
      "metadata": {
        "colab": {
          "base_uri": "https://localhost:8080/"
        },
        "id": "60eGlYKb60ix",
        "outputId": "1a94769a-7ca1-4f2a-de37-7f04e0edb77e"
      },
      "source": [
        " \n",
        "# Store Pdf with convert_from_path function\n",
        "images = convert_from_path('scannedrent.pdf')\n",
        "print(images)\n",
        "for i in range(len(images)):\n",
        "   \n",
        "      # Save pages as images in the pdf\n",
        "    images[i].save('ScannedRent'+ str(i) +'.png', 'PNG')"
      ],
      "execution_count": 2,
      "outputs": [
        {
          "output_type": "stream",
          "text": [
            "[<PIL.PpmImagePlugin.PpmImageFile image mode=RGB size=1653x2339 at 0x7F37CD4CBB10>]\n"
          ],
          "name": "stdout"
        }
      ]
    },
    {
      "cell_type": "code",
      "metadata": {
        "id": "OX1G3VRW4dJN"
      },
      "source": [
        "#Align Images\n",
        "import cv2\n",
        "ref_image = cv2.imread('/content/Rent0.png', cv2.IMREAD_COLOR)\n",
        "scan_image = cv2.imread('/content/ScannedRent0.png', cv2.IMREAD_COLOR)"
      ],
      "execution_count": 3,
      "outputs": []
    },
    {
      "cell_type": "code",
      "metadata": {
        "id": "3W7ARUvcwnh-"
      },
      "source": [
        "#convert to gray\n",
        "gray_scan = cv2.cvtColor(scan_image, cv2.COLOR_BGR2GRAY)\n",
        "gray_ref = cv2.cvtColor(ref_image, cv2.COLOR_BGR2GRAY)\n",
        "\n"
      ],
      "execution_count": 4,
      "outputs": []
    },
    {
      "cell_type": "code",
      "metadata": {
        "id": "oEn7-hMBw7DG"
      },
      "source": [
        "#ORB features\n",
        "import numpy as np\n",
        "MAX_FEATURES = 500\n",
        "GOOD_MATCH_PERCENT = 0.15"
      ],
      "execution_count": 5,
      "outputs": []
    },
    {
      "cell_type": "code",
      "metadata": {
        "id": "VTH-TnW6yWQB"
      },
      "source": [
        "orb=cv2.ORB_create(MAX_FEATURES)\n",
        "scankeypoints,scandescriptors=orb.detectAndCompute(gray_scan,None)"
      ],
      "execution_count": 6,
      "outputs": []
    },
    {
      "cell_type": "code",
      "metadata": {
        "id": "TkR-l27syzpd"
      },
      "source": [
        "refkeypoints,refdescriptors=orb.detectAndCompute(gray_ref,None)"
      ],
      "execution_count": 7,
      "outputs": []
    },
    {
      "cell_type": "code",
      "metadata": {
        "id": "iF2dFrrCzChK"
      },
      "source": [
        "matcher=cv2.DescriptorMatcher_create(cv2.DESCRIPTOR_MATCHER_BRUTEFORCE_HAMMING)"
      ],
      "execution_count": 8,
      "outputs": []
    },
    {
      "cell_type": "code",
      "metadata": {
        "id": "S0vUiNeHzU7h"
      },
      "source": [
        "matches=matcher.match(scandescriptors,refdescriptors,None)\n",
        "matches.sort(key=lambda x: x.distance, reverse=False)\n",
        "numGoodMatches = int(len(matches) * GOOD_MATCH_PERCENT)\n",
        "matches = matches[:numGoodMatches]\n"
      ],
      "execution_count": 9,
      "outputs": []
    },
    {
      "cell_type": "code",
      "metadata": {
        "colab": {
          "base_uri": "https://localhost:8080/"
        },
        "id": "uHoDgO_ZzguX",
        "outputId": "92f01156-d929-4fdb-fd8c-972f11d90dae"
      },
      "source": [
        "print(matches)"
      ],
      "execution_count": 10,
      "outputs": [
        {
          "output_type": "stream",
          "text": [
            "[<DMatch 0x7f37be787790>, <DMatch 0x7f37be787ab0>, <DMatch 0x7f37be787a30>, <DMatch 0x7f37be787cb0>, <DMatch 0x7f37be787f70>, <DMatch 0x7f37be7880b0>, <DMatch 0x7f37be7790b0>, <DMatch 0x7f37be786590>, <DMatch 0x7f37be787b10>, <DMatch 0x7f37be787750>, <DMatch 0x7f37be787df0>, <DMatch 0x7f37be787930>, <DMatch 0x7f37be787f30>, <DMatch 0x7f37be787330>, <DMatch 0x7f37be787610>, <DMatch 0x7f37be787770>, <DMatch 0x7f37be7877b0>, <DMatch 0x7f37be7877f0>, <DMatch 0x7f37be787870>, <DMatch 0x7f37be787910>, <DMatch 0x7f37be7879d0>, <DMatch 0x7f37be787d30>, <DMatch 0x7f37be787350>, <DMatch 0x7f37be7876f0>, <DMatch 0x7f37be785210>, <DMatch 0x7f37be786d30>, <DMatch 0x7f37be786e50>, <DMatch 0x7f37be787310>, <DMatch 0x7f37be787710>, <DMatch 0x7f37be787830>, <DMatch 0x7f37be787e70>, <DMatch 0x7f37be787ef0>, <DMatch 0x7f37be787f50>, <DMatch 0x7f37be7867d0>, <DMatch 0x7f37be786c90>, <DMatch 0x7f37be787590>, <DMatch 0x7f37be787b30>, <DMatch 0x7f37be787b70>, <DMatch 0x7f37be787bd0>, <DMatch 0x7f37be787ed0>, <DMatch 0x7f37be7865b0>, <DMatch 0x7f37be786db0>, <DMatch 0x7f37be786f30>, <DMatch 0x7f37be787150>, <DMatch 0x7f37be787810>, <DMatch 0x7f37be787a70>, <DMatch 0x7f37be786050>, <DMatch 0x7f37be786090>, <DMatch 0x7f37be786d70>, <DMatch 0x7f37be786e30>, <DMatch 0x7f37be787470>, <DMatch 0x7f37be787950>, <DMatch 0x7f37be779410>, <DMatch 0x7f37be785cb0>, <DMatch 0x7f37be786df0>, <DMatch 0x7f37be787890>, <DMatch 0x7f37be779650>, <DMatch 0x7f37be786d10>, <DMatch 0x7f37be787490>, <DMatch 0x7f37be787c10>, <DMatch 0x7f37be788070>, <DMatch 0x7f37be7851b0>, <DMatch 0x7f37be786610>, <DMatch 0x7f37be787170>, <DMatch 0x7f37be787190>, <DMatch 0x7f37be787730>, <DMatch 0x7f37be787a90>, <DMatch 0x7f37be787ad0>, <DMatch 0x7f37be787e30>, <DMatch 0x7f37be785050>, <DMatch 0x7f37be785d50>, <DMatch 0x7f37be786750>, <DMatch 0x7f37be786850>, <DMatch 0x7f37be7873b0>, <DMatch 0x7f37be787b90>]\n"
          ],
          "name": "stdout"
        }
      ]
    },
    {
      "cell_type": "code",
      "metadata": {
        "id": "swELb5ZMzlrg"
      },
      "source": [
        "im_matches=cv2.drawMatches(scan_image,scankeypoints,ref_image,refkeypoints,matches,None)"
      ],
      "execution_count": 11,
      "outputs": []
    },
    {
      "cell_type": "code",
      "metadata": {
        "colab": {
          "base_uri": "https://localhost:8080/"
        },
        "id": "aotVIpWG0Dpq",
        "outputId": "045be3fc-fdf0-49f6-b409-ece3a25e7116"
      },
      "source": [
        "cv2.imwrite('matched.png',im_matches)"
      ],
      "execution_count": 12,
      "outputs": [
        {
          "output_type": "execute_result",
          "data": {
            "text/plain": [
              "True"
            ]
          },
          "metadata": {
            "tags": []
          },
          "execution_count": 12
        }
      ]
    },
    {
      "cell_type": "code",
      "metadata": {
        "id": "ZTEi_7xF0LB5"
      },
      "source": [
        "#Location of good matches\n",
        "scanpoints = np.zeros((len(matches), 2), dtype=np.float32)\n",
        "refpoints = np.zeros((len(matches), 2), dtype=np.float32)\n",
        "for i, match in enumerate(matches):\n",
        "    scanpoints[i, :] = scankeypoints[match.queryIdx].pt\n",
        "    refpoints[i, :] = refkeypoints[match.trainIdx].pt"
      ],
      "execution_count": 13,
      "outputs": []
    },
    {
      "cell_type": "code",
      "metadata": {
        "id": "umRdwn4r3reO"
      },
      "source": [
        "h, mask = cv2.findHomography(scanpoints, refpoints, cv2.RANSAC)\n",
        "# Use homography\n",
        "height, width, channels = ref_image.shape\n",
        "alignedImg = cv2.warpPerspective(scan_image, h, (width, height))\n"
      ],
      "execution_count": 14,
      "outputs": []
    },
    {
      "cell_type": "code",
      "metadata": {
        "colab": {
          "base_uri": "https://localhost:8080/"
        },
        "id": "5-_rV7774gVV",
        "outputId": "b0bfe22d-413d-4a9e-c069-9660b9021fd7"
      },
      "source": [
        "cv2.imwrite('alignedimage.png',alignedImg)"
      ],
      "execution_count": 15,
      "outputs": [
        {
          "output_type": "execute_result",
          "data": {
            "text/plain": [
              "True"
            ]
          },
          "metadata": {
            "tags": []
          },
          "execution_count": 15
        }
      ]
    },
    {
      "cell_type": "code",
      "metadata": {
        "colab": {
          "base_uri": "https://localhost:8080/"
        },
        "id": "oo8vEkpF4nSa",
        "outputId": "85fc97e4-e770-467a-f68b-c06d028490b9"
      },
      "source": [
        "print(ref_image.shape)\n",
        "print(alignedImg.shape)"
      ],
      "execution_count": 16,
      "outputs": [
        {
          "output_type": "stream",
          "text": [
            "(2200, 1700, 3)\n",
            "(2200, 1700, 3)\n"
          ],
          "name": "stdout"
        }
      ]
    },
    {
      "cell_type": "code",
      "metadata": {
        "colab": {
          "base_uri": "https://localhost:8080/"
        },
        "id": "i_PJzLvG5PYP",
        "outputId": "97891fbb-5f17-4e29-ccd5-0973cd609c85"
      },
      "source": [
        "print(h)"
      ],
      "execution_count": 17,
      "outputs": [
        {
          "output_type": "stream",
          "text": [
            "[[ 1.00711326e+00 -1.46316951e-02  9.50578103e+01]\n",
            " [-5.61032903e-03  1.01194385e+00 -1.21910993e+02]\n",
            " [ 2.55548885e-05 -4.87324610e-06  1.00000000e+00]]\n"
          ],
          "name": "stdout"
        }
      ]
    },
    {
      "cell_type": "code",
      "metadata": {
        "id": "pczTSXf_5WhW"
      },
      "source": [
        "import imutils\n",
        "aligned = imutils.resize(alignedImg, width=700)\n",
        "template = imutils.resize(ref_image, width=700)\n",
        "# our first output visualization of the image alignment will be a\n",
        "# side-by-side comparison of the output aligned image and the\n",
        "# template\n",
        "stacked = np.hstack([aligned, template])"
      ],
      "execution_count": 18,
      "outputs": []
    },
    {
      "cell_type": "code",
      "metadata": {
        "colab": {
          "base_uri": "https://localhost:8080/"
        },
        "id": "Izv3DOlA7r9x",
        "outputId": "cb9ffbeb-0d1f-4a0c-9251-fa3f36e62d6a"
      },
      "source": [
        "cv2.imwrite(\"stacked.png\", stacked)"
      ],
      "execution_count": 19,
      "outputs": [
        {
          "output_type": "execute_result",
          "data": {
            "text/plain": [
              "True"
            ]
          },
          "metadata": {
            "tags": []
          },
          "execution_count": 19
        }
      ]
    },
    {
      "cell_type": "code",
      "metadata": {
        "id": "FZhCDVr07zl6"
      },
      "source": [
        "roi = alignedImg[289:289+59, 202:202+1320]"
      ],
      "execution_count": 20,
      "outputs": []
    },
    {
      "cell_type": "code",
      "metadata": {
        "colab": {
          "base_uri": "https://localhost:8080/"
        },
        "id": "m_aWiu5dCDAe",
        "outputId": "250019f3-dff9-41e1-d811-ca7bb0fd70e5"
      },
      "source": [
        "cv2.imwrite(\"roi.png\", roi)"
      ],
      "execution_count": 131,
      "outputs": [
        {
          "output_type": "execute_result",
          "data": {
            "text/plain": [
              "True"
            ]
          },
          "metadata": {
            "tags": []
          },
          "execution_count": 131
        }
      ]
    },
    {
      "cell_type": "code",
      "metadata": {
        "id": "1K9OVSVmCJMP"
      },
      "source": [
        "roi = ref_image[289:289+59, 202:202+1320]"
      ],
      "execution_count": 119,
      "outputs": []
    },
    {
      "cell_type": "code",
      "metadata": {
        "colab": {
          "base_uri": "https://localhost:8080/"
        },
        "id": "zCQniGrsC1wE",
        "outputId": "c26ec759-0872-4171-ae6c-4395e51a61ef"
      },
      "source": [
        "!pip install easyocr"
      ],
      "execution_count": 123,
      "outputs": [
        {
          "output_type": "stream",
          "text": [
            "Collecting easyocr\n",
            "\u001b[?25l  Downloading https://files.pythonhosted.org/packages/6f/25/858a0245b7aa25ac955bff0e815551a27bde65f4f52a346b0fd3b8c3738e/easyocr-1.3.1-py3-none-any.whl (63.2MB)\n",
            "\u001b[K     |████████████████████████████████| 63.2MB 63kB/s \n",
            "\u001b[?25hRequirement already satisfied: torchvision>=0.5 in /usr/local/lib/python3.7/dist-packages (from easyocr) (0.9.1+cu101)\n",
            "Requirement already satisfied: numpy in /usr/local/lib/python3.7/dist-packages (from easyocr) (1.19.5)\n",
            "Requirement already satisfied: torch in /usr/local/lib/python3.7/dist-packages (from easyocr) (1.8.1+cu101)\n",
            "Requirement already satisfied: scipy in /usr/local/lib/python3.7/dist-packages (from easyocr) (1.4.1)\n",
            "Collecting python-bidi\n",
            "  Downloading https://files.pythonhosted.org/packages/33/b0/f942d146a2f457233baaafd6bdf624eba8e0f665045b4abd69d1b62d097d/python_bidi-0.4.2-py2.py3-none-any.whl\n",
            "Requirement already satisfied: PyYAML in /usr/local/lib/python3.7/dist-packages (from easyocr) (3.13)\n",
            "Requirement already satisfied: Pillow in /usr/local/lib/python3.7/dist-packages (from easyocr) (7.1.2)\n",
            "Requirement already satisfied: scikit-image in /usr/local/lib/python3.7/dist-packages (from easyocr) (0.16.2)\n",
            "Requirement already satisfied: opencv-python in /usr/local/lib/python3.7/dist-packages (from easyocr) (4.1.2.30)\n",
            "Requirement already satisfied: typing-extensions in /usr/local/lib/python3.7/dist-packages (from torch->easyocr) (3.7.4.3)\n",
            "Requirement already satisfied: six in /usr/local/lib/python3.7/dist-packages (from python-bidi->easyocr) (1.15.0)\n",
            "Requirement already satisfied: PyWavelets>=0.4.0 in /usr/local/lib/python3.7/dist-packages (from scikit-image->easyocr) (1.1.1)\n",
            "Requirement already satisfied: imageio>=2.3.0 in /usr/local/lib/python3.7/dist-packages (from scikit-image->easyocr) (2.4.1)\n",
            "Requirement already satisfied: matplotlib!=3.0.0,>=2.0.0 in /usr/local/lib/python3.7/dist-packages (from scikit-image->easyocr) (3.2.2)\n",
            "Requirement already satisfied: networkx>=2.0 in /usr/local/lib/python3.7/dist-packages (from scikit-image->easyocr) (2.5.1)\n",
            "Requirement already satisfied: cycler>=0.10 in /usr/local/lib/python3.7/dist-packages (from matplotlib!=3.0.0,>=2.0.0->scikit-image->easyocr) (0.10.0)\n",
            "Requirement already satisfied: kiwisolver>=1.0.1 in /usr/local/lib/python3.7/dist-packages (from matplotlib!=3.0.0,>=2.0.0->scikit-image->easyocr) (1.3.1)\n",
            "Requirement already satisfied: pyparsing!=2.0.4,!=2.1.2,!=2.1.6,>=2.0.1 in /usr/local/lib/python3.7/dist-packages (from matplotlib!=3.0.0,>=2.0.0->scikit-image->easyocr) (2.4.7)\n",
            "Requirement already satisfied: python-dateutil>=2.1 in /usr/local/lib/python3.7/dist-packages (from matplotlib!=3.0.0,>=2.0.0->scikit-image->easyocr) (2.8.1)\n",
            "Requirement already satisfied: decorator<5,>=4.3 in /usr/local/lib/python3.7/dist-packages (from networkx>=2.0->scikit-image->easyocr) (4.4.2)\n",
            "Installing collected packages: python-bidi, easyocr\n",
            "Successfully installed easyocr-1.3.1 python-bidi-0.4.2\n"
          ],
          "name": "stdout"
        }
      ]
    },
    {
      "cell_type": "code",
      "metadata": {
        "id": "Xnu3R2yNDHyR"
      },
      "source": [
        "from easyocr import Reader"
      ],
      "execution_count": 124,
      "outputs": []
    },
    {
      "cell_type": "code",
      "metadata": {
        "colab": {
          "base_uri": "https://localhost:8080/"
        },
        "id": "_hzC7F9cDirN",
        "outputId": "dbc58af3-e4bb-4251-f48d-856f455d42c7"
      },
      "source": [
        "reader = Reader(['en'])\n",
        "results = reader.readtext(roi)"
      ],
      "execution_count": 132,
      "outputs": [
        {
          "output_type": "stream",
          "text": [
            "CUDA not available - defaulting to CPU. Note: This module is much faster with a GPU.\n"
          ],
          "name": "stderr"
        }
      ]
    },
    {
      "cell_type": "code",
      "metadata": {
        "colab": {
          "base_uri": "https://localhost:8080/"
        },
        "id": "9WWSbAuXDr_i",
        "outputId": "ff1b4b7e-2df1-478f-ad47-316c49f66431"
      },
      "source": [
        "print(results)"
      ],
      "execution_count": 133,
      "outputs": [
        {
          "output_type": "stream",
          "text": [
            "[([[12, 0], [468, 0], [468, 38], [12, 38]], 'Received from (Employee Name)', 0.998769444666965)]\n"
          ],
          "name": "stdout"
        }
      ]
    },
    {
      "cell_type": "code",
      "metadata": {
        "colab": {
          "base_uri": "https://localhost:8080/",
          "height": 1000
        },
        "id": "y-STdkU9EZVK",
        "outputId": "a1142e14-e283-467e-aafd-b8446390b09b"
      },
      "source": [
        "pip install textract"
      ],
      "execution_count": 134,
      "outputs": [
        {
          "output_type": "stream",
          "text": [
            "Collecting textract\n",
            "  Downloading https://files.pythonhosted.org/packages/32/31/ef9451e6e48a1a57e337c5f20d4ef58c1a13d91560d2574c738b1320bb8d/textract-1.6.3-py3-none-any.whl\n",
            "Collecting SpeechRecognition==3.8.1\n",
            "\u001b[?25l  Downloading https://files.pythonhosted.org/packages/26/e1/7f5678cd94ec1234269d23756dbdaa4c8cfaed973412f88ae8adf7893a50/SpeechRecognition-3.8.1-py2.py3-none-any.whl (32.8MB)\n",
            "\u001b[K     |████████████████████████████████| 32.8MB 137kB/s \n",
            "\u001b[?25hCollecting pdfminer.six==20181108\n",
            "\u001b[?25l  Downloading https://files.pythonhosted.org/packages/8a/fd/6e8746e6965d1a7ea8e97253e3d79e625da5547e8f376f88de5d024bacb9/pdfminer.six-20181108-py2.py3-none-any.whl (5.6MB)\n",
            "\u001b[K     |████████████████████████████████| 5.6MB 22.1MB/s \n",
            "\u001b[?25hRequirement already satisfied: chardet==3.0.4 in /usr/local/lib/python3.7/dist-packages (from textract) (3.0.4)\n",
            "Collecting docx2txt==0.8\n",
            "  Downloading https://files.pythonhosted.org/packages/7d/7d/60ee3f2b16d9bfdfa72e8599470a2c1a5b759cb113c6fe1006be28359327/docx2txt-0.8.tar.gz\n",
            "Collecting six==1.12.0\n",
            "  Downloading https://files.pythonhosted.org/packages/73/fb/00a976f728d0d1fecfe898238ce23f502a721c0ac0ecfedb80e0d88c64e9/six-1.12.0-py2.py3-none-any.whl\n",
            "Collecting beautifulsoup4==4.8.0\n",
            "\u001b[?25l  Downloading https://files.pythonhosted.org/packages/1a/b7/34eec2fe5a49718944e215fde81288eec1fa04638aa3fb57c1c6cd0f98c3/beautifulsoup4-4.8.0-py3-none-any.whl (97kB)\n",
            "\u001b[K     |████████████████████████████████| 102kB 9.6MB/s \n",
            "\u001b[?25hCollecting python-pptx==0.6.18\n",
            "\u001b[?25l  Downloading https://files.pythonhosted.org/packages/bf/86/eb979f7b0333ec769041aae36df8b9f1bd8bea5bbad44620663890dce561/python-pptx-0.6.18.tar.gz (8.9MB)\n",
            "\u001b[K     |████████████████████████████████| 8.9MB 24.6MB/s \n",
            "\u001b[?25hCollecting xlrd==1.2.0\n",
            "\u001b[?25l  Downloading https://files.pythonhosted.org/packages/b0/16/63576a1a001752e34bf8ea62e367997530dc553b689356b9879339cf45a4/xlrd-1.2.0-py2.py3-none-any.whl (103kB)\n",
            "\u001b[K     |████████████████████████████████| 112kB 52.0MB/s \n",
            "\u001b[?25hCollecting argcomplete==1.10.0\n",
            "  Downloading https://files.pythonhosted.org/packages/4d/82/f44c9661e479207348a979b1f6f063625d11dc4ca6256af053719bbb0124/argcomplete-1.10.0-py2.py3-none-any.whl\n",
            "Collecting EbookLib==0.17.1\n",
            "\u001b[?25l  Downloading https://files.pythonhosted.org/packages/00/38/7d6ab2e569a9165249619d73b7bc6be0e713a899a3bc2513814b6598a84c/EbookLib-0.17.1.tar.gz (111kB)\n",
            "\u001b[K     |████████████████████████████████| 112kB 47.2MB/s \n",
            "\u001b[?25hCollecting extract-msg==0.23.1\n",
            "\u001b[?25l  Downloading https://files.pythonhosted.org/packages/a1/90/84485a914ed90adb5e87df17e626be04162fbba146dfecf34643659a4633/extract_msg-0.23.1-py2.py3-none-any.whl (45kB)\n",
            "\u001b[K     |████████████████████████████████| 51kB 5.6MB/s \n",
            "\u001b[?25hCollecting pycryptodome\n",
            "\u001b[?25l  Downloading https://files.pythonhosted.org/packages/ad/16/9627ab0493894a11c68e46000dbcc82f578c8ff06bc2980dcd016aea9bd3/pycryptodome-3.10.1-cp35-abi3-manylinux2010_x86_64.whl (1.9MB)\n",
            "\u001b[K     |████████████████████████████████| 1.9MB 27.8MB/s \n",
            "\u001b[?25hRequirement already satisfied: sortedcontainers in /usr/local/lib/python3.7/dist-packages (from pdfminer.six==20181108->textract) (2.3.0)\n",
            "Collecting soupsieve>=1.2\n",
            "  Downloading https://files.pythonhosted.org/packages/36/69/d82d04022f02733bf9a72bc3b96332d360c0c5307096d76f6bb7489f7e57/soupsieve-2.2.1-py3-none-any.whl\n",
            "Requirement already satisfied: lxml>=3.1.0 in /usr/local/lib/python3.7/dist-packages (from python-pptx==0.6.18->textract) (4.2.6)\n",
            "Requirement already satisfied: Pillow>=3.3.2 in /usr/local/lib/python3.7/dist-packages (from python-pptx==0.6.18->textract) (7.1.2)\n",
            "Collecting XlsxWriter>=0.5.7\n",
            "\u001b[?25l  Downloading https://files.pythonhosted.org/packages/2c/ce/74fd8d638a5b82ea0c6f08a5978f741c2655a38c3d6e82f73a0f084377e6/XlsxWriter-1.4.3-py2.py3-none-any.whl (149kB)\n",
            "\u001b[K     |████████████████████████████████| 153kB 44.4MB/s \n",
            "\u001b[?25hCollecting imapclient==2.1.0\n",
            "\u001b[?25l  Downloading https://files.pythonhosted.org/packages/dc/39/e1c2c2c6e2356ab6ea81fcfc0a74b044b311d6a91a45300811d9a6077ef7/IMAPClient-2.1.0-py2.py3-none-any.whl (73kB)\n",
            "\u001b[K     |████████████████████████████████| 81kB 8.6MB/s \n",
            "\u001b[?25hRequirement already satisfied: tzlocal==1.5.1 in /usr/local/lib/python3.7/dist-packages (from extract-msg==0.23.1->textract) (1.5.1)\n",
            "Collecting olefile==0.46\n",
            "\u001b[?25l  Downloading https://files.pythonhosted.org/packages/34/81/e1ac43c6b45b4c5f8d9352396a14144bba52c8fec72a80f425f6a4d653ad/olefile-0.46.zip (112kB)\n",
            "\u001b[K     |████████████████████████████████| 112kB 34.6MB/s \n",
            "\u001b[?25hRequirement already satisfied: pytz in /usr/local/lib/python3.7/dist-packages (from tzlocal==1.5.1->extract-msg==0.23.1->textract) (2018.9)\n",
            "Building wheels for collected packages: docx2txt, python-pptx, EbookLib, olefile\n",
            "  Building wheel for docx2txt (setup.py) ... \u001b[?25l\u001b[?25hdone\n",
            "  Created wheel for docx2txt: filename=docx2txt-0.8-cp37-none-any.whl size=3963 sha256=3a8c3fc1b742cca01e931e763890fba32f471db388fef5529680f8a61b9af4c5\n",
            "  Stored in directory: /root/.cache/pip/wheels/b2/1f/26/a051209bbb77fc6bcfae2bb7e01fa0ff941b82292ab084d596\n",
            "  Building wheel for python-pptx (setup.py) ... \u001b[?25l\u001b[?25hdone\n",
            "  Created wheel for python-pptx: filename=python_pptx-0.6.18-cp37-none-any.whl size=275704 sha256=f3aad21bf768caba221d1e7adfc83fdf1d9e64b3c4d9af6e8021974af0d27ce8\n",
            "  Stored in directory: /root/.cache/pip/wheels/1f/1f/2c/29acca422b420a0b5210bd2cd7e9669804520d602d2462f20b\n",
            "  Building wheel for EbookLib (setup.py) ... \u001b[?25l\u001b[?25hdone\n",
            "  Created wheel for EbookLib: filename=EbookLib-0.17.1-cp37-none-any.whl size=38165 sha256=a8e12f126cb13b610746f0b5db42fb2f1f840bf0eaa8c425a512ba5d1cc6a698\n",
            "  Stored in directory: /root/.cache/pip/wheels/84/11/01/951369cbbf8f96878786a1f4da68bd7ac19a5d945b38e03d54\n",
            "  Building wheel for olefile (setup.py) ... \u001b[?25l\u001b[?25hdone\n",
            "  Created wheel for olefile: filename=olefile-0.46-py2.py3-none-any.whl size=35416 sha256=ce3940570ea752dc2e39da6a90fc7cf618ac52bd162a5fca80828492e9868fd7\n",
            "  Stored in directory: /root/.cache/pip/wheels/4b/f4/11/bc4166107c27f07fd7bba707ffcb439619197638a1ac986df3\n",
            "Successfully built docx2txt python-pptx EbookLib olefile\n",
            "\u001b[31mERROR: tensorflow 2.4.1 has requirement six~=1.15.0, but you'll have six 1.12.0 which is incompatible.\u001b[0m\n",
            "\u001b[31mERROR: google-colab 1.0.0 has requirement six~=1.15.0, but you'll have six 1.12.0 which is incompatible.\u001b[0m\n",
            "\u001b[31mERROR: google-api-python-client 1.12.8 has requirement six<2dev,>=1.13.0, but you'll have six 1.12.0 which is incompatible.\u001b[0m\n",
            "\u001b[31mERROR: google-api-core 1.26.3 has requirement six>=1.13.0, but you'll have six 1.12.0 which is incompatible.\u001b[0m\n",
            "\u001b[31mERROR: datascience 0.10.6 has requirement folium==0.2.1, but you'll have folium 0.8.3 which is incompatible.\u001b[0m\n",
            "\u001b[31mERROR: albumentations 0.1.12 has requirement imgaug<0.2.7,>=0.2.5, but you'll have imgaug 0.2.9 which is incompatible.\u001b[0m\n",
            "Installing collected packages: SpeechRecognition, pycryptodome, six, pdfminer.six, docx2txt, soupsieve, beautifulsoup4, XlsxWriter, python-pptx, xlrd, argcomplete, EbookLib, imapclient, olefile, extract-msg, textract\n",
            "  Found existing installation: six 1.15.0\n",
            "    Uninstalling six-1.15.0:\n",
            "      Successfully uninstalled six-1.15.0\n",
            "  Found existing installation: beautifulsoup4 4.6.3\n",
            "    Uninstalling beautifulsoup4-4.6.3:\n",
            "      Successfully uninstalled beautifulsoup4-4.6.3\n",
            "  Found existing installation: xlrd 1.1.0\n",
            "    Uninstalling xlrd-1.1.0:\n",
            "      Successfully uninstalled xlrd-1.1.0\n",
            "Successfully installed EbookLib-0.17.1 SpeechRecognition-3.8.1 XlsxWriter-1.4.3 argcomplete-1.10.0 beautifulsoup4-4.8.0 docx2txt-0.8 extract-msg-0.23.1 imapclient-2.1.0 olefile-0.46 pdfminer.six-20181108 pycryptodome-3.10.1 python-pptx-0.6.18 six-1.12.0 soupsieve-2.2.1 textract-1.6.3 xlrd-1.2.0\n"
          ],
          "name": "stdout"
        },
        {
          "output_type": "display_data",
          "data": {
            "application/vnd.colab-display-data+json": {
              "pip_warning": {
                "packages": [
                  "six"
                ]
              }
            }
          },
          "metadata": {
            "tags": []
          }
        }
      ]
    },
    {
      "cell_type": "code",
      "metadata": {
        "colab": {
          "base_uri": "https://localhost:8080/",
          "height": 316
        },
        "id": "x2-g8vPzE-rJ",
        "outputId": "8a8843be-5cb7-4c07-b885-a70d54360052"
      },
      "source": [
        "import pytesseract\n",
        "text = textract.process('roi.png', method='tesseract')"
      ],
      "execution_count": 27,
      "outputs": [
        {
          "output_type": "error",
          "ename": "ModuleNotFoundError",
          "evalue": "ignored",
          "traceback": [
            "\u001b[0;31m---------------------------------------------------------------------------\u001b[0m",
            "\u001b[0;31mModuleNotFoundError\u001b[0m                       Traceback (most recent call last)",
            "\u001b[0;32m<ipython-input-27-fea7ef12c80b>\u001b[0m in \u001b[0;36m<module>\u001b[0;34m()\u001b[0m\n\u001b[0;32m----> 1\u001b[0;31m \u001b[0;32mimport\u001b[0m \u001b[0mpytesseract\u001b[0m\u001b[0;34m\u001b[0m\u001b[0;34m\u001b[0m\u001b[0m\n\u001b[0m\u001b[1;32m      2\u001b[0m \u001b[0mtext\u001b[0m \u001b[0;34m=\u001b[0m \u001b[0mtextract\u001b[0m\u001b[0;34m.\u001b[0m\u001b[0mprocess\u001b[0m\u001b[0;34m(\u001b[0m\u001b[0;34m'roi.png'\u001b[0m\u001b[0;34m,\u001b[0m \u001b[0mmethod\u001b[0m\u001b[0;34m=\u001b[0m\u001b[0;34m'tesseract'\u001b[0m\u001b[0;34m)\u001b[0m\u001b[0;34m\u001b[0m\u001b[0;34m\u001b[0m\u001b[0m\n",
            "\u001b[0;31mModuleNotFoundError\u001b[0m: No module named 'pytesseract'",
            "",
            "\u001b[0;31m---------------------------------------------------------------------------\u001b[0;32m\nNOTE: If your import is failing due to a missing package, you can\nmanually install dependencies using either !pip or !apt.\n\nTo view examples of installing some common dependencies, click the\n\"Open Examples\" button below.\n\u001b[0;31m---------------------------------------------------------------------------\u001b[0m\n"
          ]
        }
      ]
    },
    {
      "cell_type": "code",
      "metadata": {
        "colab": {
          "base_uri": "https://localhost:8080/"
        },
        "id": "nNAAi9PlGijN",
        "outputId": "c55b35e6-bb63-4a81-a520-c1964da12976"
      },
      "source": [
        "print(text)"
      ],
      "execution_count": 26,
      "outputs": [
        {
          "output_type": "stream",
          "text": [
            "b'| Received from (Employee A eae : ABC 7\\n\\n \\n\\x0c'\n"
          ],
          "name": "stdout"
        }
      ]
    },
    {
      "cell_type": "code",
      "metadata": {
        "colab": {
          "base_uri": "https://localhost:8080/"
        },
        "id": "jJe2sZdvFjlN",
        "outputId": "bc43dba6-bc2e-493c-a228-e57fffbb1502"
      },
      "source": [
        "!sudo apt install tesseract-ocr\n",
        "!pip install pytesseract"
      ],
      "execution_count": 28,
      "outputs": [
        {
          "output_type": "stream",
          "text": [
            "Reading package lists... Done\n",
            "Building dependency tree       \n",
            "Reading state information... Done\n",
            "tesseract-ocr is already the newest version (4.00~git2288-10f4998a-2).\n",
            "The following package was automatically installed and is no longer required:\n",
            "  libnvidia-common-460\n",
            "Use 'sudo apt autoremove' to remove it.\n",
            "0 upgraded, 0 newly installed, 0 to remove and 34 not upgraded.\n",
            "Collecting pytesseract\n",
            "  Downloading https://files.pythonhosted.org/packages/a0/e6/a4e9fc8a93c1318540e8de6d8d4beb5749b7960388a7c7f27799fc2dd016/pytesseract-0.3.7.tar.gz\n",
            "Requirement already satisfied: Pillow in /usr/local/lib/python3.7/dist-packages (from pytesseract) (7.1.2)\n",
            "Building wheels for collected packages: pytesseract\n",
            "  Building wheel for pytesseract (setup.py) ... \u001b[?25l\u001b[?25hdone\n",
            "  Created wheel for pytesseract: filename=pytesseract-0.3.7-py2.py3-none-any.whl size=13945 sha256=b30bdc7d6a589b5a67766200f176af7932268f0738a4bfb8ac18877e145f5478\n",
            "  Stored in directory: /root/.cache/pip/wheels/81/20/7e/1dd0daad1575d5260916bb1e9781246430647adaef4b3ca3b3\n",
            "Successfully built pytesseract\n",
            "Installing collected packages: pytesseract\n",
            "Successfully installed pytesseract-0.3.7\n"
          ],
          "name": "stdout"
        }
      ]
    },
    {
      "cell_type": "code",
      "metadata": {
        "id": "dhsDR_niGXsh"
      },
      "source": [
        "import pytesseract"
      ],
      "execution_count": 29,
      "outputs": []
    },
    {
      "cell_type": "code",
      "metadata": {
        "id": "AKXEthjxHIIo"
      },
      "source": [
        " custom_config = r'-c tessedit_char_whitelist=-01234567890ABCDEFGHIJKLMNOPQRSTUVWXYZabcdefghijklmnopqrstuvwxyz --oem 3 --psm 6'"
      ],
      "execution_count": 30,
      "outputs": []
    },
    {
      "cell_type": "code",
      "metadata": {
        "id": "3OKC_MnUIJWy"
      },
      "source": [
        "ocr_img=cv2.cvtColor(roi, cv2.COLOR_RGB2BGR)"
      ],
      "execution_count": 31,
      "outputs": []
    },
    {
      "cell_type": "code",
      "metadata": {
        "colab": {
          "base_uri": "https://localhost:8080/"
        },
        "id": "RJtg4T6ZIXQy",
        "outputId": "4ccc77e2-1443-4f2a-c111-25843d51f6f9"
      },
      "source": [
        "result_one = ocr_img.copy()\n",
        "gray = cv2.cvtColor(ocr_img,cv2.COLOR_BGR2GRAY)\n",
        "thresh = cv2.threshold(gray, 0, 255, cv2.THRESH_OTSU | cv2.THRESH_BINARY_INV)[1]\n",
        "horizontal_kernel = cv2.getStructuringElement(cv2.MORPH_RECT, (10,1))\n",
        "remove_horizontal = cv2.morphologyEx(thresh, cv2.MORPH_OPEN, horizontal_kernel, iterations=6)\n",
        "cnts = cv2.findContours(remove_horizontal, cv2.RETR_EXTERNAL, cv2.CHAIN_APPROX_SIMPLE)\n",
        "cnts = cnts[0] if len(cnts) == 2 else cnts[1]\n",
        "for c in cnts:\n",
        "  cv2.drawContours(result, [c], -1, (255,255,255), 2)\n",
        "image = ocr_img.copy() \n",
        "gray = cv2.cvtColor(image,cv2.COLOR_BGR2GRAY)\n",
        "thresh = cv2.threshold(gray, 0, 255, cv2.THRESH_BINARY_INV + cv2.THRESH_OTSU)[1]\n",
        "# Remove vertical lines+\n",
        "vertical_kernel = cv2.getStructuringElement(cv2.MORPH_RECT, (1,11))\n",
        "remove_vertical = cv2.morphologyEx(thresh, cv2.MORPH_OPEN, vertical_kernel, iterations=2)\n",
        "cnts = cv2.findContours(remove_vertical, cv2.RETR_EXTERNAL, cv2.CHAIN_APPROX_SIMPLE)\n",
        "cnts = cnts[0] if len(cnts) == 2 else cnts[1]\n",
        "for c in cnts:\n",
        "  cv2.drawContours(result, [c], -1, (255,255,255), 2)\n",
        "repair_kernel = cv2.getStructuringElement(cv2.MORPH_RECT, (1,1))\n",
        "result1 = 255 - cv2.morphologyEx(255 - result, cv2.MORPH_CLOSE, repair_kernel, iterations=1)\n",
        "filter = np.array([[-1, -1, -1], [-1, 9, -1], [-1, -1, -1]])\n",
        "pyr_result1=cv2.pyrUp(result_one)\n",
        "pyr_result2=cv2.pyrUp(pyr_result1)\n",
        "pyr_result1=cv2.filter2D(pyr_result1,-1,filter)\n",
        "pyr_result2=cv2.filter2D(pyr_result2,-1,filter)\n",
        "custom_config = r'-c tessedit_char_whitelist=-01234567890ABCDEFGHIJKLMNOPQRSTUVWXYZabcdefghijklmnopqrstuvwxyz --oem 3 --psm 6'\n",
        "pyr_ocr_text=pytesseract.image_to_string(pyr_result1,config=custom_config)\n",
        "ocr_text=pytesseract.image_to_string(result_one,config=custom_config)\n",
        "pyr_ocr_text2=pytesseract.image_to_string(pyr_result2,config=custom_config)\n",
        "ocr_text=''.join(e for e in ocr_text if e.isalnum())\n",
        "pyr_ocr_text=''.join(e for e in pyr_ocr_text if e.isalnum())\n",
        "pyr_ocr_text2=''.join(e for e in pyr_ocr_text2 if e.isalnum())\n",
        "print(ocr_text)\n",
        "print(pyr_ocr_text)"
      ],
      "execution_count": 38,
      "outputs": [
        {
          "output_type": "stream",
          "text": [
            "ReceivedfromEmployeeAeaeN2a\n",
            "ReceivedfromEmployeeNameABCce\n"
          ],
          "name": "stdout"
        }
      ]
    },
    {
      "cell_type": "code",
      "metadata": {
        "colab": {
          "base_uri": "https://localhost:8080/"
        },
        "id": "4QHbI4OtJu-J",
        "outputId": "d9263ba4-48b6-4441-e10c-b64e06046646"
      },
      "source": [
        "cv2.imwrite(\"roi.png\", pyr_result2)"
      ],
      "execution_count": 34,
      "outputs": [
        {
          "output_type": "execute_result",
          "data": {
            "text/plain": [
              "True"
            ]
          },
          "metadata": {
            "tags": []
          },
          "execution_count": 34
        }
      ]
    },
    {
      "cell_type": "code",
      "metadata": {
        "id": "7pa3j_QeKGJe"
      },
      "source": [
        ""
      ],
      "execution_count": null,
      "outputs": []
    }
  ]
}