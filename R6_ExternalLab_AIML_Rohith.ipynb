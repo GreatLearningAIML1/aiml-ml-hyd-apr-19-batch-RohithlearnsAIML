{
  "nbformat": 4,
  "nbformat_minor": 0,
  "metadata": {
    "colab": {
      "name": "R6_ExternalLab_AIML.ipynb",
      "provenance": []
    },
    "kernelspec": {
      "display_name": "Python 2",
      "language": "python",
      "name": "python2"
    }
  },
  "cells": [
    {
      "cell_type": "markdown",
      "metadata": {
        "id": "YYk8NG3yOIT9",
        "colab_type": "text"
      },
      "source": [
        "### A MNIST-like fashion product database\n",
        "\n",
        "In this, we classify the images into respective classes given in the dataset. We use a Neural Net and a Deep Neural Net in Keras to solve this and check the accuracy scores."
      ]
    },
    {
      "cell_type": "markdown",
      "metadata": {
        "id": "tFO6PuxzOIT_",
        "colab_type": "text"
      },
      "source": [
        "### Load tensorflow"
      ]
    },
    {
      "cell_type": "code",
      "metadata": {
        "id": "efNjNImfOIUC",
        "colab_type": "code",
        "colab": {}
      },
      "source": [
        "import tensorflow as tf\n",
        "tf.set_random_seed(42)"
      ],
      "execution_count": 0,
      "outputs": []
    },
    {
      "cell_type": "code",
      "metadata": {
        "id": "l9C4aAIGOIUH",
        "colab_type": "code",
        "outputId": "d6eab0e3-1ded-4c8c-9c37-b30fb30fec6d",
        "colab": {
          "base_uri": "https://localhost:8080/",
          "height": 35
        }
      },
      "source": [
        "tf.__version__"
      ],
      "execution_count": 2,
      "outputs": [
        {
          "output_type": "execute_result",
          "data": {
            "text/plain": [
              "'1.14.0'"
            ]
          },
          "metadata": {
            "tags": []
          },
          "execution_count": 2
        }
      ]
    },
    {
      "cell_type": "code",
      "metadata": {
        "id": "e0-JKrLFhCHF",
        "colab_type": "code",
        "colab": {
          "base_uri": "https://localhost:8080/",
          "height": 35
        },
        "outputId": "dac77bc1-edcb-4161-c26a-35c1c4815344"
      },
      "source": [
        "tf.enable_eager_execution"
      ],
      "execution_count": 9,
      "outputs": [
        {
          "output_type": "execute_result",
          "data": {
            "text/plain": [
              "<function tensorflow.python.framework.ops.enable_eager_execution>"
            ]
          },
          "metadata": {
            "tags": []
          },
          "execution_count": 9
        }
      ]
    },
    {
      "cell_type": "markdown",
      "metadata": {
        "id": "HcoZBStrOIUQ",
        "colab_type": "text"
      },
      "source": [
        "### Collect Data"
      ]
    },
    {
      "cell_type": "code",
      "metadata": {
        "id": "XA1WsFSeOIUS",
        "colab_type": "code",
        "colab": {}
      },
      "source": [
        "import keras"
      ],
      "execution_count": 0,
      "outputs": []
    },
    {
      "cell_type": "code",
      "metadata": {
        "id": "qnbx7TyQOIUY",
        "colab_type": "code",
        "colab": {}
      },
      "source": [
        "(trainX, trainY), (testX, testY) = keras.datasets.fashion_mnist.load_data()"
      ],
      "execution_count": 0,
      "outputs": []
    },
    {
      "cell_type": "code",
      "metadata": {
        "id": "UbiHj5YPOIUc",
        "colab_type": "code",
        "outputId": "cca1613a-2ede-495c-ee0e-374c7fb21c2b",
        "colab": {
          "base_uri": "https://localhost:8080/",
          "height": 35
        }
      },
      "source": [
        "print(testY[0:5])"
      ],
      "execution_count": 5,
      "outputs": [
        {
          "output_type": "stream",
          "text": [
            "[9 2 1 1 6]\n"
          ],
          "name": "stdout"
        }
      ]
    },
    {
      "cell_type": "code",
      "metadata": {
        "id": "MTsmLAzJg1f4",
        "colab_type": "code",
        "colab": {
          "base_uri": "https://localhost:8080/",
          "height": 35
        },
        "outputId": "03fea67c-a920-49ea-8dac-54e8ba30b56c"
      },
      "source": [
        "trainX.shape"
      ],
      "execution_count": 6,
      "outputs": [
        {
          "output_type": "execute_result",
          "data": {
            "text/plain": [
              "(60000, 28, 28)"
            ]
          },
          "metadata": {
            "tags": []
          },
          "execution_count": 6
        }
      ]
    },
    {
      "cell_type": "code",
      "metadata": {
        "id": "yZGtLEGLg5hi",
        "colab_type": "code",
        "colab": {
          "base_uri": "https://localhost:8080/",
          "height": 867
        },
        "outputId": "f920f393-e80b-48ad-a6eb-c21134773c38"
      },
      "source": [
        "trainX"
      ],
      "execution_count": 7,
      "outputs": [
        {
          "output_type": "execute_result",
          "data": {
            "text/plain": [
              "array([[[0, 0, 0, ..., 0, 0, 0],\n",
              "        [0, 0, 0, ..., 0, 0, 0],\n",
              "        [0, 0, 0, ..., 0, 0, 0],\n",
              "        ...,\n",
              "        [0, 0, 0, ..., 0, 0, 0],\n",
              "        [0, 0, 0, ..., 0, 0, 0],\n",
              "        [0, 0, 0, ..., 0, 0, 0]],\n",
              "\n",
              "       [[0, 0, 0, ..., 0, 0, 0],\n",
              "        [0, 0, 0, ..., 0, 0, 0],\n",
              "        [0, 0, 0, ..., 0, 0, 0],\n",
              "        ...,\n",
              "        [0, 0, 0, ..., 0, 0, 0],\n",
              "        [0, 0, 0, ..., 0, 0, 0],\n",
              "        [0, 0, 0, ..., 0, 0, 0]],\n",
              "\n",
              "       [[0, 0, 0, ..., 0, 0, 0],\n",
              "        [0, 0, 0, ..., 0, 0, 0],\n",
              "        [0, 0, 0, ..., 0, 0, 0],\n",
              "        ...,\n",
              "        [0, 0, 0, ..., 0, 0, 0],\n",
              "        [0, 0, 0, ..., 0, 0, 0],\n",
              "        [0, 0, 0, ..., 0, 0, 0]],\n",
              "\n",
              "       ...,\n",
              "\n",
              "       [[0, 0, 0, ..., 0, 0, 0],\n",
              "        [0, 0, 0, ..., 0, 0, 0],\n",
              "        [0, 0, 0, ..., 0, 0, 0],\n",
              "        ...,\n",
              "        [0, 0, 0, ..., 0, 0, 0],\n",
              "        [0, 0, 0, ..., 0, 0, 0],\n",
              "        [0, 0, 0, ..., 0, 0, 0]],\n",
              "\n",
              "       [[0, 0, 0, ..., 0, 0, 0],\n",
              "        [0, 0, 0, ..., 0, 0, 0],\n",
              "        [0, 0, 0, ..., 0, 0, 0],\n",
              "        ...,\n",
              "        [0, 0, 0, ..., 0, 0, 0],\n",
              "        [0, 0, 0, ..., 0, 0, 0],\n",
              "        [0, 0, 0, ..., 0, 0, 0]],\n",
              "\n",
              "       [[0, 0, 0, ..., 0, 0, 0],\n",
              "        [0, 0, 0, ..., 0, 0, 0],\n",
              "        [0, 0, 0, ..., 0, 0, 0],\n",
              "        ...,\n",
              "        [0, 0, 0, ..., 0, 0, 0],\n",
              "        [0, 0, 0, ..., 0, 0, 0],\n",
              "        [0, 0, 0, ..., 0, 0, 0]]], dtype=uint8)"
            ]
          },
          "metadata": {
            "tags": []
          },
          "execution_count": 7
        }
      ]
    },
    {
      "cell_type": "markdown",
      "metadata": {
        "id": "lDAYzkwyOIUj",
        "colab_type": "text"
      },
      "source": [
        "### Convert both training and testing labels into one-hot vectors.\n",
        "\n",
        "**Hint:** check **tf.keras.utils.to_categorical()**"
      ]
    },
    {
      "cell_type": "code",
      "metadata": {
        "id": "vBlfYlANOIUk",
        "colab_type": "code",
        "colab": {}
      },
      "source": [
        "from keras.utils import to_categorical"
      ],
      "execution_count": 0,
      "outputs": []
    },
    {
      "cell_type": "code",
      "metadata": {
        "id": "yN3Aw38difNP",
        "colab_type": "code",
        "colab": {}
      },
      "source": [
        "train_labels=to_categorical(trainY)\n",
        "test_labels=to_categorical(testY)"
      ],
      "execution_count": 0,
      "outputs": []
    },
    {
      "cell_type": "code",
      "metadata": {
        "scrolled": true,
        "id": "RHV3b9mzOIUq",
        "colab_type": "code",
        "outputId": "a9744ee4-4f85-4921-ca21-aa46114fa99b",
        "colab": {
          "base_uri": "https://localhost:8080/",
          "height": 121
        }
      },
      "source": [
        "print(train_labels.shape)\n",
        "print('First 5 examples now are: ', train_labels[0:5])"
      ],
      "execution_count": 31,
      "outputs": [
        {
          "output_type": "stream",
          "text": [
            "(60000, 10)\n",
            "('First 5 examples now are: ', array([[0., 0., 0., 0., 0., 0., 0., 0., 0., 1.],\n",
            "       [1., 0., 0., 0., 0., 0., 0., 0., 0., 0.],\n",
            "       [1., 0., 0., 0., 0., 0., 0., 0., 0., 0.],\n",
            "       [0., 0., 0., 1., 0., 0., 0., 0., 0., 0.],\n",
            "       [1., 0., 0., 0., 0., 0., 0., 0., 0., 0.]], dtype=float32))\n"
          ],
          "name": "stdout"
        }
      ]
    },
    {
      "cell_type": "markdown",
      "metadata": {
        "id": "FwhQ8e7VOIUw",
        "colab_type": "text"
      },
      "source": [
        "### Visualize the data\n",
        "\n",
        "Plot first 10 images in the triaining set and their labels."
      ]
    },
    {
      "cell_type": "code",
      "metadata": {
        "id": "AvDML2OoOIUx",
        "colab_type": "code",
        "colab": {}
      },
      "source": [
        "import matplotlib.pyplot as plt"
      ],
      "execution_count": 0,
      "outputs": []
    },
    {
      "cell_type": "code",
      "metadata": {
        "id": "QreCPBB9rtie",
        "colab_type": "code",
        "colab": {
          "base_uri": "https://localhost:8080/",
          "height": 281
        },
        "outputId": "89d53f85-9e9d-445b-9ea9-aeffa6f1a97b"
      },
      "source": [
        "for i in range(9):\n",
        "  plt.subplot(330 + 1 + i)\n",
        "  plt.imshow(trainX[i], cmap=plt.get_cmap('gray'))\n",
        "  plt.title('label:{}'.format(trainY[i]))\n",
        "  \n",
        "plt.show()\n",
        "  \n",
        "  "
      ],
      "execution_count": 55,
      "outputs": [
        {
          "output_type": "display_data",
          "data": {
            "image/png": "[encoded data removed]",
            "text/plain": [
              "<Figure size 432x288 with 9 Axes>"
            ]
          },
          "metadata": {
            "tags": []
          }
        }
      ]
    },
    {
      "cell_type": "markdown",
      "metadata": {
        "id": "l4TbJGeSOIU4",
        "colab_type": "text"
      },
      "source": [
        "### Build a neural Network with a cross entropy loss function and sgd optimizer in Keras. The output layer with 10 neurons as we have 10 classes."
      ]
    },
    {
      "cell_type": "code",
      "metadata": {
        "id": "Ac06XZZTOIU6",
        "colab_type": "code",
        "colab": {}
      },
      "source": [
        ""
      ],
      "execution_count": 0,
      "outputs": []
    },
    {
      "cell_type": "code",
      "metadata": {
        "id": "9h6GBSH6Md61",
        "colab_type": "code",
        "colab": {
          "base_uri": "https://localhost:8080/",
          "height": 107
        },
        "outputId": "65698b18-84d6-419f-8022-95b5281a0d21"
      },
      "source": [
        "#Initialize Sequential model\n",
        "model = tf.keras.models.Sequential()\n",
        "\n",
        "#Reshape data from 2D to 1D -> 28x28 to 784\n",
        "model.add(tf.keras.layers.Reshape((784,),input_shape=(28,28,)))\n",
        "model.add(tf.keras.layers.Dense(10, activation='softmax'))"
      ],
      "execution_count": 58,
      "outputs": [
        {
          "output_type": "stream",
          "text": [
            "WARNING: Logging before flag parsing goes to stderr.\n",
            "W0929 11:28:10.116364 140146649196416 deprecation.py:506] From /usr/local/lib/python2.7/dist-packages/tensorflow/python/ops/init_ops.py:1251: calling __init__ (from tensorflow.python.ops.init_ops) with dtype is deprecated and will be removed in a future version.\n",
            "Instructions for updating:\n",
            "Call initializer instance with the dtype argument instead of passing it to the constructor\n"
          ],
          "name": "stderr"
        }
      ]
    },
    {
      "cell_type": "code",
      "metadata": {
        "id": "gcASspq0uCF6",
        "colab_type": "code",
        "colab": {}
      },
      "source": [
        "#Compile the model\n",
        "model.compile(optimizer='sgd', loss='categorical_crossentropy', \n",
        "              metrics=['accuracy'])"
      ],
      "execution_count": 0,
      "outputs": []
    },
    {
      "cell_type": "markdown",
      "metadata": {
        "id": "3hQpLv3aOIU_",
        "colab_type": "text"
      },
      "source": [
        "### Execute the model using model.fit()"
      ]
    },
    {
      "cell_type": "code",
      "metadata": {
        "id": "HyDVYzwxMd7m",
        "colab_type": "code",
        "colab": {
          "base_uri": "https://localhost:8080/",
          "height": 572
        },
        "outputId": "9bd78f5f-b5bd-4c67-bc7b-6a8c01bfab4c"
      },
      "source": [
        "model.fit(trainX,train_labels,          \n",
        "          validation_data=(testX,test_labels),\n",
        "          epochs=15,\n",
        "          batch_size=32)"
      ],
      "execution_count": 60,
      "outputs": [
        {
          "output_type": "stream",
          "text": [
            "Train on 60000 samples, validate on 10000 samples\n",
            "Epoch 1/15\n",
            "60000/60000 [==============================] - 3s 42us/sample - loss: 2074.8410 - acc: 0.7370 - val_loss: 1803.0551 - val_acc: 0.7827\n",
            "Epoch 2/15\n",
            "60000/60000 [==============================] - 2s 38us/sample - loss: 1568.4433 - acc: 0.7801 - val_loss: 2428.8583 - val_acc: 0.7506\n",
            "Epoch 3/15\n",
            "60000/60000 [==============================] - 2s 37us/sample - loss: 1531.9315 - acc: 0.7867 - val_loss: 1146.1485 - val_acc: 0.8055\n",
            "Epoch 4/15\n",
            "60000/60000 [==============================] - 2s 38us/sample - loss: 1524.6488 - acc: 0.7881 - val_loss: 1052.5071 - val_acc: 0.8146\n",
            "Epoch 5/15\n",
            "60000/60000 [==============================] - 2s 37us/sample - loss: 1518.5785 - acc: 0.7920 - val_loss: 1375.3006 - val_acc: 0.7896\n",
            "Epoch 6/15\n",
            "60000/60000 [==============================] - 2s 37us/sample - loss: 1425.5136 - acc: 0.7976 - val_loss: 1018.4149 - val_acc: 0.8190\n",
            "Epoch 7/15\n",
            "60000/60000 [==============================] - 2s 37us/sample - loss: 1467.6861 - acc: 0.7958 - val_loss: 1923.1186 - val_acc: 0.7663\n",
            "Epoch 8/15\n",
            "60000/60000 [==============================] - 2s 38us/sample - loss: 1453.1436 - acc: 0.7994 - val_loss: 1283.2207 - val_acc: 0.7875\n",
            "Epoch 9/15\n",
            "60000/60000 [==============================] - 2s 38us/sample - loss: 1466.2967 - acc: 0.7964 - val_loss: 2340.1288 - val_acc: 0.7912\n",
            "Epoch 10/15\n",
            "60000/60000 [==============================] - 2s 38us/sample - loss: 1416.2682 - acc: 0.8009 - val_loss: 1278.7429 - val_acc: 0.7951\n",
            "Epoch 11/15\n",
            "60000/60000 [==============================] - 2s 38us/sample - loss: 1437.6784 - acc: 0.7993 - val_loss: 1092.6727 - val_acc: 0.8145\n",
            "Epoch 12/15\n",
            "60000/60000 [==============================] - 2s 37us/sample - loss: 1402.4994 - acc: 0.8017 - val_loss: 1258.5576 - val_acc: 0.7998\n",
            "Epoch 13/15\n",
            "60000/60000 [==============================] - 2s 37us/sample - loss: 1434.7387 - acc: 0.8009 - val_loss: 1165.8410 - val_acc: 0.7911\n",
            "Epoch 14/15\n",
            "60000/60000 [==============================] - 2s 37us/sample - loss: 1411.9583 - acc: 0.8026 - val_loss: 1096.2478 - val_acc: 0.8147\n",
            "Epoch 15/15\n",
            "60000/60000 [==============================] - 2s 38us/sample - loss: 1411.0166 - acc: 0.8024 - val_loss: 1503.9623 - val_acc: 0.7710\n"
          ],
          "name": "stdout"
        },
        {
          "output_type": "execute_result",
          "data": {
            "text/plain": [
              "<tensorflow.python.keras.callbacks.History at 0x7f7634739250>"
            ]
          },
          "metadata": {
            "tags": []
          },
          "execution_count": 60
        }
      ]
    },
    {
      "cell_type": "markdown",
      "metadata": {
        "id": "JdzDtGwDOIVF",
        "colab_type": "text"
      },
      "source": [
        "### In the above Neural Network model add Batch Normalization layer after the input layer and repeat the steps."
      ]
    },
    {
      "cell_type": "code",
      "metadata": {
        "id": "kndfpdidOIVI",
        "colab_type": "code",
        "colab": {}
      },
      "source": [
        "#Initialize Sequential model\n",
        "model = tf.keras.models.Sequential()\n",
        "\n",
        "#Reshape data from 2D to 1D -> 28x28 to 784\n",
        "model.add(tf.keras.layers.Reshape((784,),input_shape=(28,28,)))\n",
        "model.add(tf.keras.layers.BatchNormalization())\n",
        "model.add(tf.keras.layers.Dense(10, activation='softmax'))\n",
        "model.compile(optimizer='sgd', loss='categorical_crossentropy', \n",
        "              metrics=['accuracy'])"
      ],
      "execution_count": 0,
      "outputs": []
    },
    {
      "cell_type": "markdown",
      "metadata": {
        "id": "mwk3T5LJOIVN",
        "colab_type": "text"
      },
      "source": [
        "### Execute the model"
      ]
    },
    {
      "cell_type": "code",
      "metadata": {
        "id": "JNLR8tcBOIVP",
        "colab_type": "code",
        "colab": {
          "base_uri": "https://localhost:8080/",
          "height": 572
        },
        "outputId": "a0c9d517-41b0-41a1-884c-997ecfb8a7a8"
      },
      "source": [
        "model.fit(trainX,train_labels,          \n",
        "          validation_data=(testX,test_labels),\n",
        "          epochs=15,\n",
        "          batch_size=32)"
      ],
      "execution_count": 62,
      "outputs": [
        {
          "output_type": "stream",
          "text": [
            "Train on 60000 samples, validate on 10000 samples\n",
            "Epoch 1/15\n",
            "60000/60000 [==============================] - 3s 56us/sample - loss: 0.6071 - acc: 0.7896 - val_loss: 0.5117 - val_acc: 0.8254\n",
            "Epoch 2/15\n",
            "60000/60000 [==============================] - 3s 54us/sample - loss: 0.4900 - acc: 0.8304 - val_loss: 0.4956 - val_acc: 0.8290\n",
            "Epoch 3/15\n",
            "60000/60000 [==============================] - 3s 54us/sample - loss: 0.4688 - acc: 0.8393 - val_loss: 0.4817 - val_acc: 0.8355\n",
            "Epoch 4/15\n",
            "60000/60000 [==============================] - 3s 54us/sample - loss: 0.4564 - acc: 0.8421 - val_loss: 0.4733 - val_acc: 0.8386\n",
            "Epoch 5/15\n",
            "60000/60000 [==============================] - 3s 54us/sample - loss: 0.4483 - acc: 0.8450 - val_loss: 0.4751 - val_acc: 0.8366\n",
            "Epoch 6/15\n",
            "60000/60000 [==============================] - 3s 53us/sample - loss: 0.4424 - acc: 0.8467 - val_loss: 0.4686 - val_acc: 0.8370\n",
            "Epoch 7/15\n",
            "60000/60000 [==============================] - 3s 54us/sample - loss: 0.4383 - acc: 0.8469 - val_loss: 0.4680 - val_acc: 0.8409\n",
            "Epoch 8/15\n",
            "60000/60000 [==============================] - 3s 55us/sample - loss: 0.4348 - acc: 0.8489 - val_loss: 0.4712 - val_acc: 0.8385\n",
            "Epoch 9/15\n",
            "60000/60000 [==============================] - 3s 54us/sample - loss: 0.4322 - acc: 0.8493 - val_loss: 0.4619 - val_acc: 0.8379\n",
            "Epoch 10/15\n",
            "60000/60000 [==============================] - 3s 55us/sample - loss: 0.4315 - acc: 0.8491 - val_loss: 0.4549 - val_acc: 0.8420\n",
            "Epoch 11/15\n",
            "60000/60000 [==============================] - 3s 54us/sample - loss: 0.4288 - acc: 0.8505 - val_loss: 0.4569 - val_acc: 0.8414\n",
            "Epoch 12/15\n",
            "60000/60000 [==============================] - 3s 54us/sample - loss: 0.4265 - acc: 0.8516 - val_loss: 0.4615 - val_acc: 0.8402\n",
            "Epoch 13/15\n",
            "60000/60000 [==============================] - 3s 54us/sample - loss: 0.4230 - acc: 0.8526 - val_loss: 0.4686 - val_acc: 0.8348\n",
            "Epoch 14/15\n",
            "60000/60000 [==============================] - 3s 53us/sample - loss: 0.4216 - acc: 0.8534 - val_loss: 0.4708 - val_acc: 0.8395\n",
            "Epoch 15/15\n",
            "60000/60000 [==============================] - 3s 54us/sample - loss: 0.4211 - acc: 0.8531 - val_loss: 0.4696 - val_acc: 0.8409\n"
          ],
          "name": "stdout"
        },
        {
          "output_type": "execute_result",
          "data": {
            "text/plain": [
              "<tensorflow.python.keras.callbacks.History at 0x7f76345952d0>"
            ]
          },
          "metadata": {
            "tags": []
          },
          "execution_count": 62
        }
      ]
    },
    {
      "cell_type": "markdown",
      "metadata": {
        "id": "Py-KwkmjOIVU",
        "colab_type": "text"
      },
      "source": [
        "### Customize the learning rate to 0.001 in sgd optimizer and run the model"
      ]
    },
    {
      "cell_type": "code",
      "metadata": {
        "id": "pSh5TrZWwKLY",
        "colab_type": "code",
        "colab": {}
      },
      "source": [
        "from keras import optimizers\n",
        "sgd=sgd = optimizers.SGD(lr=0.001)"
      ],
      "execution_count": 0,
      "outputs": []
    },
    {
      "cell_type": "code",
      "metadata": {
        "id": "yLXUE9jWOIVV",
        "colab_type": "code",
        "colab": {}
      },
      "source": [
        "model.compile(optimizer='sgd', loss='categorical_crossentropy' ,\n",
        "              metrics=['accuracy'])"
      ],
      "execution_count": 0,
      "outputs": []
    },
    {
      "cell_type": "code",
      "metadata": {
        "id": "pJUqA5T4OIVc",
        "colab_type": "code",
        "colab": {
          "base_uri": "https://localhost:8080/",
          "height": 572
        },
        "outputId": "eb1179cf-7b57-4dba-c6ab-ed5d5f116190"
      },
      "source": [
        "model.fit(trainX,train_labels,          \n",
        "          validation_data=(testX,test_labels),\n",
        "          epochs=15,\n",
        "          batch_size=32)"
      ],
      "execution_count": 67,
      "outputs": [
        {
          "output_type": "stream",
          "text": [
            "Train on 60000 samples, validate on 10000 samples\n",
            "Epoch 1/15\n",
            "60000/60000 [==============================] - 3s 56us/sample - loss: 0.4203 - acc: 0.8530 - val_loss: 0.4683 - val_acc: 0.8399\n",
            "Epoch 2/15\n",
            "60000/60000 [==============================] - 3s 54us/sample - loss: 0.4219 - acc: 0.8526 - val_loss: 0.4671 - val_acc: 0.8409\n",
            "Epoch 3/15\n",
            "60000/60000 [==============================] - 3s 56us/sample - loss: 0.4187 - acc: 0.8538 - val_loss: 0.4659 - val_acc: 0.8399\n",
            "Epoch 4/15\n",
            "60000/60000 [==============================] - 3s 55us/sample - loss: 0.4183 - acc: 0.8529 - val_loss: 0.4596 - val_acc: 0.8416\n",
            "Epoch 5/15\n",
            "60000/60000 [==============================] - 3s 54us/sample - loss: 0.4179 - acc: 0.8537 - val_loss: 0.4788 - val_acc: 0.8400\n",
            "Epoch 6/15\n",
            "60000/60000 [==============================] - 3s 57us/sample - loss: 0.4163 - acc: 0.8550 - val_loss: 0.4647 - val_acc: 0.8397\n",
            "Epoch 7/15\n",
            "60000/60000 [==============================] - 3s 56us/sample - loss: 0.4150 - acc: 0.8534 - val_loss: 0.4643 - val_acc: 0.8407\n",
            "Epoch 8/15\n",
            "60000/60000 [==============================] - 3s 55us/sample - loss: 0.4147 - acc: 0.8554 - val_loss: 0.4661 - val_acc: 0.8399\n",
            "Epoch 9/15\n",
            "60000/60000 [==============================] - 3s 54us/sample - loss: 0.4158 - acc: 0.8547 - val_loss: 0.4710 - val_acc: 0.8385\n",
            "Epoch 10/15\n",
            "60000/60000 [==============================] - 3s 55us/sample - loss: 0.4123 - acc: 0.8557 - val_loss: 0.4663 - val_acc: 0.8436\n",
            "Epoch 11/15\n",
            "60000/60000 [==============================] - 3s 53us/sample - loss: 0.4118 - acc: 0.8566 - val_loss: 0.4694 - val_acc: 0.8372\n",
            "Epoch 12/15\n",
            "60000/60000 [==============================] - 3s 55us/sample - loss: 0.4118 - acc: 0.8549 - val_loss: 0.4765 - val_acc: 0.8391\n",
            "Epoch 13/15\n",
            "60000/60000 [==============================] - 3s 56us/sample - loss: 0.4113 - acc: 0.8561 - val_loss: 0.4614 - val_acc: 0.8435\n",
            "Epoch 14/15\n",
            "60000/60000 [==============================] - 3s 57us/sample - loss: 0.4127 - acc: 0.8564 - val_loss: 0.4746 - val_acc: 0.8392\n",
            "Epoch 15/15\n",
            "60000/60000 [==============================] - 3s 55us/sample - loss: 0.4121 - acc: 0.8548 - val_loss: 0.4738 - val_acc: 0.8385\n"
          ],
          "name": "stdout"
        },
        {
          "output_type": "execute_result",
          "data": {
            "text/plain": [
              "<tensorflow.python.keras.callbacks.History at 0x7f7633f92ed0>"
            ]
          },
          "metadata": {
            "tags": []
          },
          "execution_count": 67
        }
      ]
    },
    {
      "cell_type": "markdown",
      "metadata": {
        "id": "j9CSqKvpOIVk",
        "colab_type": "text"
      },
      "source": [
        "### Build the Neural Network model with 3 Dense layers with 100,100,10 neurons respectively in each layer. Use cross entropy loss function and singmoid as activation in the hidden layers and softmax as activation function in the output layer. Use sgd optimizer with learning rate 0.03."
      ]
    },
    {
      "cell_type": "code",
      "metadata": {
        "id": "E_3Ob_zcwy4X",
        "colab_type": "code",
        "colab": {}
      },
      "source": [
        "sgd= optimizers.SGD(lr=0.03)"
      ],
      "execution_count": 0,
      "outputs": []
    },
    {
      "cell_type": "code",
      "metadata": {
        "id": "GGAad54JOIVm",
        "colab_type": "code",
        "colab": {}
      },
      "source": [
        "#Initialize Sequential model\n",
        "model = tf.keras.models.Sequential()\n",
        "\n",
        "#Reshape data from 2D to 1D -> 28x28 to 784\n",
        "model.add(tf.keras.layers.Reshape((784,),input_shape=(28,28,)))\n",
        "model.add(tf.keras.layers.BatchNormalization())\n",
        "model.add(tf.keras.layers.Dense(100, activation='sigmoid'))\n",
        "model.add(tf.keras.layers.Dense(100, activation='sigmoid'))\n",
        "model.add(tf.keras.layers.Dense(10, activation='softmax'))\n",
        "model.compile(optimizer='sgd', loss='categorical_crossentropy', \n",
        "              metrics=['accuracy'])"
      ],
      "execution_count": 0,
      "outputs": []
    },
    {
      "cell_type": "code",
      "metadata": {
        "id": "MQ7oIymROIVp",
        "colab_type": "code",
        "colab": {}
      },
      "source": [
        ""
      ],
      "execution_count": 0,
      "outputs": []
    },
    {
      "cell_type": "code",
      "metadata": {
        "id": "X-O-fFxnOIVt",
        "colab_type": "code",
        "colab": {}
      },
      "source": [
        ""
      ],
      "execution_count": 0,
      "outputs": []
    },
    {
      "cell_type": "code",
      "metadata": {
        "id": "BiP7IL52OIVw",
        "colab_type": "code",
        "colab": {}
      },
      "source": [
        ""
      ],
      "execution_count": 0,
      "outputs": []
    },
    {
      "cell_type": "markdown",
      "metadata": {
        "id": "Nr2YsZV0OIV0",
        "colab_type": "text"
      },
      "source": [
        "## Review model"
      ]
    },
    {
      "cell_type": "code",
      "metadata": {
        "id": "h4ojW6-oOIV2",
        "colab_type": "code",
        "colab": {
          "base_uri": "https://localhost:8080/",
          "height": 329
        },
        "outputId": "93e2ab81-e0f2-4a02-89a3-89931fcc83f5"
      },
      "source": [
        "model.summary()"
      ],
      "execution_count": 71,
      "outputs": [
        {
          "output_type": "stream",
          "text": [
            "Model: \"sequential_4\"\n",
            "_________________________________________________________________\n",
            "Layer (type)                 Output Shape              Param #   \n",
            "=================================================================\n",
            "reshape_4 (Reshape)          (None, 784)               0         \n",
            "_________________________________________________________________\n",
            "batch_normalization_2 (Batch (None, 784)               3136      \n",
            "_________________________________________________________________\n",
            "dense_2 (Dense)              (None, 100)               78500     \n",
            "_________________________________________________________________\n",
            "dense_3 (Dense)              (None, 100)               10100     \n",
            "_________________________________________________________________\n",
            "dense_4 (Dense)              (None, 10)                1010      \n",
            "=================================================================\n",
            "Total params: 92,746\n",
            "Trainable params: 91,178\n",
            "Non-trainable params: 1,568\n",
            "_________________________________________________________________\n"
          ],
          "name": "stdout"
        }
      ]
    },
    {
      "cell_type": "markdown",
      "metadata": {
        "id": "gfFGmbZLOIV5",
        "colab_type": "text"
      },
      "source": [
        "### Run the model"
      ]
    },
    {
      "cell_type": "code",
      "metadata": {
        "id": "bIkbMEN5OIV7",
        "colab_type": "code",
        "colab": {
          "base_uri": "https://localhost:8080/",
          "height": 572
        },
        "outputId": "c195941c-ae64-469e-cc09-3350ddf33a05"
      },
      "source": [
        "model.fit(trainX,train_labels,          \n",
        "          validation_data=(testX,test_labels),\n",
        "          epochs=15,\n",
        "          batch_size=32)"
      ],
      "execution_count": 72,
      "outputs": [
        {
          "output_type": "stream",
          "text": [
            "Train on 60000 samples, validate on 10000 samples\n",
            "Epoch 1/15\n",
            "60000/60000 [==============================] - 5s 86us/sample - loss: 1.5520 - acc: 0.5908 - val_loss: 1.0498 - val_acc: 0.7191\n",
            "Epoch 2/15\n",
            "60000/60000 [==============================] - 5s 87us/sample - loss: 0.8721 - acc: 0.7366 - val_loss: 0.7314 - val_acc: 0.7561\n",
            "Epoch 3/15\n",
            "60000/60000 [==============================] - 5s 82us/sample - loss: 0.6844 - acc: 0.7650 - val_loss: 0.6261 - val_acc: 0.7772\n",
            "Epoch 4/15\n",
            "60000/60000 [==============================] - 5s 83us/sample - loss: 0.6038 - acc: 0.7878 - val_loss: 0.5686 - val_acc: 0.7922\n",
            "Epoch 5/15\n",
            "60000/60000 [==============================] - 5s 87us/sample - loss: 0.5560 - acc: 0.8038 - val_loss: 0.5298 - val_acc: 0.8070\n",
            "Epoch 6/15\n",
            "60000/60000 [==============================] - 5s 86us/sample - loss: 0.5219 - acc: 0.8156 - val_loss: 0.5041 - val_acc: 0.8173\n",
            "Epoch 7/15\n",
            "60000/60000 [==============================] - 5s 86us/sample - loss: 0.4973 - acc: 0.8231 - val_loss: 0.4859 - val_acc: 0.8255\n",
            "Epoch 8/15\n",
            "60000/60000 [==============================] - 5s 89us/sample - loss: 0.4790 - acc: 0.8300 - val_loss: 0.4714 - val_acc: 0.8296\n",
            "Epoch 9/15\n",
            "60000/60000 [==============================] - 5s 85us/sample - loss: 0.4634 - acc: 0.8349 - val_loss: 0.4629 - val_acc: 0.8323\n",
            "Epoch 10/15\n",
            "60000/60000 [==============================] - 5s 88us/sample - loss: 0.4530 - acc: 0.8384 - val_loss: 0.4523 - val_acc: 0.8359\n",
            "Epoch 11/15\n",
            "60000/60000 [==============================] - 5s 84us/sample - loss: 0.4437 - acc: 0.8411 - val_loss: 0.4452 - val_acc: 0.8386\n",
            "Epoch 12/15\n",
            "60000/60000 [==============================] - 5s 83us/sample - loss: 0.4337 - acc: 0.8454 - val_loss: 0.4368 - val_acc: 0.8412\n",
            "Epoch 13/15\n",
            "60000/60000 [==============================] - 5s 88us/sample - loss: 0.4261 - acc: 0.8489 - val_loss: 0.4320 - val_acc: 0.8448\n",
            "Epoch 14/15\n",
            "60000/60000 [==============================] - 5s 87us/sample - loss: 0.4196 - acc: 0.8507 - val_loss: 0.4273 - val_acc: 0.8453\n",
            "Epoch 15/15\n",
            "60000/60000 [==============================] - 5s 84us/sample - loss: 0.4141 - acc: 0.8530 - val_loss: 0.4230 - val_acc: 0.8456\n"
          ],
          "name": "stdout"
        },
        {
          "output_type": "execute_result",
          "data": {
            "text/plain": [
              "<tensorflow.python.keras.callbacks.History at 0x7f763422d910>"
            ]
          },
          "metadata": {
            "tags": []
          },
          "execution_count": 72
        }
      ]
    },
    {
      "cell_type": "code",
      "metadata": {
        "id": "XJMzAyoCxnNj",
        "colab_type": "code",
        "colab": {}
      },
      "source": [
        "pred = model.predict_classes(testX)"
      ],
      "execution_count": 0,
      "outputs": []
    },
    {
      "cell_type": "code",
      "metadata": {
        "id": "rg8C5cpqxsxL",
        "colab_type": "code",
        "colab": {}
      },
      "source": [
        "m = tf.keras.metrics.Accuracy()"
      ],
      "execution_count": 0,
      "outputs": []
    },
    {
      "cell_type": "code",
      "metadata": {
        "id": "Jc6YCR_Nxx_b",
        "colab_type": "code",
        "colab": {
          "base_uri": "https://localhost:8080/",
          "height": 35
        },
        "outputId": "1f4885e0-bf7b-4eb6-9643-bf5f91e7439e"
      },
      "source": [
        "test_loss,test_acc = model.evaluate(testX,test_labels)\n"
      ],
      "execution_count": 82,
      "outputs": [
        {
          "output_type": "stream",
          "text": [
            "10000/10000 [==============================] - 0s 37us/sample - loss: 0.4230 - acc: 0.8456\n"
          ],
          "name": "stdout"
        }
      ]
    },
    {
      "cell_type": "code",
      "metadata": {
        "id": "hrZqhBkfy8Jk",
        "colab_type": "code",
        "colab": {
          "base_uri": "https://localhost:8080/",
          "height": 35
        },
        "outputId": "b08793c6-a046-4e8f-be35-d46741c45c17"
      },
      "source": [
        "test_acc"
      ],
      "execution_count": 83,
      "outputs": [
        {
          "output_type": "execute_result",
          "data": {
            "text/plain": [
              "0.8456"
            ]
          },
          "metadata": {
            "tags": []
          },
          "execution_count": 83
        }
      ]
    }
  ]
}