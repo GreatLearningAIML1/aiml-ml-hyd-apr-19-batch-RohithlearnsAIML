{
 "cells": [
  {
   "cell_type": "code",
   "execution_count": 210,
   "metadata": {},
   "outputs": [],
   "source": [
    "import numpy as np   \n",
    "\n",
    "# Import Linear Regression machine learning library\n",
    "from sklearn.linear_model import LinearRegression\n",
    "\n",
    "# to handle data in form of rows and columns \n",
    "import pandas as pd    \n",
    "\n",
    "# importing ploting libraries\n",
    "import matplotlib.pyplot as plt   \n",
    "\n",
    "#importing seaborn for statistical plots\n",
    "import seaborn as sns"
   ]
  },
  {
   "cell_type": "code",
   "execution_count": 211,
   "metadata": {},
   "outputs": [],
   "source": [
    "from sklearn.preprocessing import LabelEncoder"
   ]
  },
  {
   "cell_type": "code",
   "execution_count": 212,
   "metadata": {},
   "outputs": [],
   "source": [
    "#Take the columns names into a list\n",
    "ColumnNames=['City1','City2','AverageFare','Distance','Averageweeklypassengers','Marketleadingairline','MarketshareLead','Averagefare','Lowpriceairline','MarketshareLow','Price']"
   ]
  },
  {
   "cell_type": "code",
   "execution_count": 214,
   "metadata": {},
   "outputs": [],
   "source": [
    "#Since it is a fixed width file , read_fwf is advisable and there is no need to give col_specs, as the code will \n",
    "#consider first 100 lines and divide the columns based on the width\n",
    "AirPass=pd.read_fwf('http://users.stat.ufl.edu/~winner/data/airq402.dat',names=ColumnNames)"
   ]
  },
  {
   "cell_type": "code",
   "execution_count": 215,
   "metadata": {},
   "outputs": [
    {
     "data": {
      "text/html": [
       "<div>\n",
       "<style scoped>\n",
       "    .dataframe tbody tr th:only-of-type {\n",
       "        vertical-align: middle;\n",
       "    }\n",
       "\n",
       "    .dataframe tbody tr th {\n",
       "        vertical-align: top;\n",
       "    }\n",
       "\n",
       "    .dataframe thead th {\n",
       "        text-align: right;\n",
       "    }\n",
       "</style>\n",
       "<table border=\"1\" class=\"dataframe\">\n",
       "  <thead>\n",
       "    <tr style=\"text-align: right;\">\n",
       "      <th></th>\n",
       "      <th>City1</th>\n",
       "      <th>City2</th>\n",
       "      <th>AverageFare</th>\n",
       "      <th>Distance</th>\n",
       "      <th>Averageweeklypassengers</th>\n",
       "      <th>Marketleadingairline</th>\n",
       "      <th>MarketshareLead</th>\n",
       "      <th>Averagefare</th>\n",
       "      <th>Lowpriceairline</th>\n",
       "      <th>MarketshareLow</th>\n",
       "      <th>Price</th>\n",
       "    </tr>\n",
       "  </thead>\n",
       "  <tbody>\n",
       "    <tr>\n",
       "      <th>0</th>\n",
       "      <td>CAK</td>\n",
       "      <td>ATL</td>\n",
       "      <td>114.47</td>\n",
       "      <td>528</td>\n",
       "      <td>424.56</td>\n",
       "      <td>FL</td>\n",
       "      <td>70.19</td>\n",
       "      <td>111.03</td>\n",
       "      <td>FL</td>\n",
       "      <td>70.19</td>\n",
       "      <td>111.03</td>\n",
       "    </tr>\n",
       "    <tr>\n",
       "      <th>1</th>\n",
       "      <td>CAK</td>\n",
       "      <td>MCO</td>\n",
       "      <td>122.47</td>\n",
       "      <td>860</td>\n",
       "      <td>276.84</td>\n",
       "      <td>FL</td>\n",
       "      <td>75.10</td>\n",
       "      <td>123.09</td>\n",
       "      <td>DL</td>\n",
       "      <td>17.23</td>\n",
       "      <td>118.94</td>\n",
       "    </tr>\n",
       "    <tr>\n",
       "      <th>2</th>\n",
       "      <td>ALB</td>\n",
       "      <td>ATL</td>\n",
       "      <td>214.42</td>\n",
       "      <td>852</td>\n",
       "      <td>215.76</td>\n",
       "      <td>DL</td>\n",
       "      <td>78.89</td>\n",
       "      <td>223.98</td>\n",
       "      <td>CO</td>\n",
       "      <td>2.77</td>\n",
       "      <td>167.12</td>\n",
       "    </tr>\n",
       "    <tr>\n",
       "      <th>3</th>\n",
       "      <td>ALB</td>\n",
       "      <td>BWI</td>\n",
       "      <td>69.40</td>\n",
       "      <td>288</td>\n",
       "      <td>606.84</td>\n",
       "      <td>WN</td>\n",
       "      <td>96.97</td>\n",
       "      <td>68.86</td>\n",
       "      <td>WN</td>\n",
       "      <td>96.97</td>\n",
       "      <td>68.86</td>\n",
       "    </tr>\n",
       "    <tr>\n",
       "      <th>4</th>\n",
       "      <td>ALB</td>\n",
       "      <td>ORD</td>\n",
       "      <td>158.13</td>\n",
       "      <td>723</td>\n",
       "      <td>313.04</td>\n",
       "      <td>UA</td>\n",
       "      <td>39.79</td>\n",
       "      <td>161.36</td>\n",
       "      <td>WN</td>\n",
       "      <td>15.34</td>\n",
       "      <td>145.42</td>\n",
       "    </tr>\n",
       "  </tbody>\n",
       "</table>\n",
       "</div>"
      ],
      "text/plain": [
       "  City1 City2  AverageFare  Distance  Averageweeklypassengers  \\\n",
       "0   CAK   ATL       114.47       528                   424.56   \n",
       "1   CAK   MCO       122.47       860                   276.84   \n",
       "2   ALB   ATL       214.42       852                   215.76   \n",
       "3   ALB   BWI        69.40       288                   606.84   \n",
       "4   ALB   ORD       158.13       723                   313.04   \n",
       "\n",
       "  Marketleadingairline  MarketshareLead  Averagefare Lowpriceairline  \\\n",
       "0                   FL            70.19       111.03              FL   \n",
       "1                   FL            75.10       123.09              DL   \n",
       "2                   DL            78.89       223.98              CO   \n",
       "3                   WN            96.97        68.86              WN   \n",
       "4                   UA            39.79       161.36              WN   \n",
       "\n",
       "   MarketshareLow   Price  \n",
       "0           70.19  111.03  \n",
       "1           17.23  118.94  \n",
       "2            2.77  167.12  \n",
       "3           96.97   68.86  \n",
       "4           15.34  145.42  "
      ]
     },
     "execution_count": 215,
     "metadata": {},
     "output_type": "execute_result"
    }
   ],
   "source": [
    "AirPass.head(5)"
   ]
  },
  {
   "cell_type": "code",
   "execution_count": 216,
   "metadata": {},
   "outputs": [
    {
     "data": {
      "text/plain": [
       "City1                      False\n",
       "City2                      False\n",
       "AverageFare                False\n",
       "Distance                   False\n",
       "Averageweeklypassengers    False\n",
       "Marketleadingairline       False\n",
       "MarketshareLead            False\n",
       "Averagefare                False\n",
       "Lowpriceairline            False\n",
       "MarketshareLow             False\n",
       "Price                      False\n",
       "dtype: bool"
      ]
     },
     "execution_count": 216,
     "metadata": {},
     "output_type": "execute_result"
    }
   ],
   "source": [
    "AirPass.isna().any()"
   ]
  },
  {
   "cell_type": "code",
   "execution_count": 217,
   "metadata": {},
   "outputs": [
    {
     "data": {
      "text/plain": [
       "City1                       object\n",
       "City2                       object\n",
       "AverageFare                float64\n",
       "Distance                     int64\n",
       "Averageweeklypassengers    float64\n",
       "Marketleadingairline        object\n",
       "MarketshareLead            float64\n",
       "Averagefare                float64\n",
       "Lowpriceairline             object\n",
       "MarketshareLow             float64\n",
       "Price                      float64\n",
       "dtype: object"
      ]
     },
     "execution_count": 217,
     "metadata": {},
     "output_type": "execute_result"
    }
   ],
   "source": [
    "AirPass.dtypes"
   ]
  },
  {
   "cell_type": "code",
   "execution_count": 218,
   "metadata": {},
   "outputs": [],
   "source": [
    "# since there are 4 columns with categorical variables , we use label encoder to convert it into numbers , also \n",
    "#we cant use onehotcoder as the number of categories are more and it will create more number of columsn if we go for \n",
    "#onehot coder and more number of columns will not fit our dataset and eventually the model.\n",
    "labelencoder = LabelEncoder()\n"
   ]
  },
  {
   "cell_type": "code",
   "execution_count": 219,
   "metadata": {},
   "outputs": [
    {
     "data": {
      "text/plain": [
       "90"
      ]
     },
     "execution_count": 219,
     "metadata": {},
     "output_type": "execute_result"
    }
   ],
   "source": [
    "AirPass['City1'].nunique()"
   ]
  },
  {
   "cell_type": "code",
   "execution_count": 220,
   "metadata": {},
   "outputs": [
    {
     "data": {
      "text/plain": [
       "85"
      ]
     },
     "execution_count": 220,
     "metadata": {},
     "output_type": "execute_result"
    }
   ],
   "source": [
    "AirPass['City2'].nunique()"
   ]
  },
  {
   "cell_type": "code",
   "execution_count": 221,
   "metadata": {},
   "outputs": [
    {
     "data": {
      "text/plain": [
       "16"
      ]
     },
     "execution_count": 221,
     "metadata": {},
     "output_type": "execute_result"
    }
   ],
   "source": [
    "AirPass['Marketleadingairline'].nunique()"
   ]
  },
  {
   "cell_type": "code",
   "execution_count": 222,
   "metadata": {},
   "outputs": [
    {
     "data": {
      "text/plain": [
       "19"
      ]
     },
     "execution_count": 222,
     "metadata": {},
     "output_type": "execute_result"
    }
   ],
   "source": [
    "AirPass['Lowpriceairline'].nunique()"
   ]
  },
  {
   "cell_type": "code",
   "execution_count": 223,
   "metadata": {},
   "outputs": [],
   "source": [
    "AirPass['City1'] = labelencoder.fit_transform(AirPass['City1'])"
   ]
  },
  {
   "cell_type": "code",
   "execution_count": 224,
   "metadata": {},
   "outputs": [],
   "source": [
    "AirPass['City2'] = labelencoder.fit_transform(AirPass['City2'])"
   ]
  },
  {
   "cell_type": "code",
   "execution_count": 225,
   "metadata": {},
   "outputs": [],
   "source": [
    "AirPass['Marketleadingairline'] = labelencoder.fit_transform(AirPass['Marketleadingairline'])"
   ]
  },
  {
   "cell_type": "code",
   "execution_count": 226,
   "metadata": {},
   "outputs": [],
   "source": [
    "AirPass['Lowpriceairline'] = labelencoder.fit_transform(AirPass['Marketleadingairline'])"
   ]
  },
  {
   "cell_type": "code",
   "execution_count": 227,
   "metadata": {},
   "outputs": [
    {
     "data": {
      "text/html": [
       "<div>\n",
       "<style scoped>\n",
       "    .dataframe tbody tr th:only-of-type {\n",
       "        vertical-align: middle;\n",
       "    }\n",
       "\n",
       "    .dataframe tbody tr th {\n",
       "        vertical-align: top;\n",
       "    }\n",
       "\n",
       "    .dataframe thead th {\n",
       "        text-align: right;\n",
       "    }\n",
       "</style>\n",
       "<table border=\"1\" class=\"dataframe\">\n",
       "  <thead>\n",
       "    <tr style=\"text-align: right;\">\n",
       "      <th></th>\n",
       "      <th>City1</th>\n",
       "      <th>City2</th>\n",
       "      <th>AverageFare</th>\n",
       "      <th>Distance</th>\n",
       "      <th>Averageweeklypassengers</th>\n",
       "      <th>Marketleadingairline</th>\n",
       "      <th>MarketshareLead</th>\n",
       "      <th>Averagefare</th>\n",
       "      <th>Lowpriceairline</th>\n",
       "      <th>MarketshareLow</th>\n",
       "      <th>Price</th>\n",
       "    </tr>\n",
       "  </thead>\n",
       "  <tbody>\n",
       "    <tr>\n",
       "      <th>0</th>\n",
       "      <td>16</td>\n",
       "      <td>0</td>\n",
       "      <td>114.47</td>\n",
       "      <td>528</td>\n",
       "      <td>424.56</td>\n",
       "      <td>6</td>\n",
       "      <td>70.19</td>\n",
       "      <td>111.03</td>\n",
       "      <td>6</td>\n",
       "      <td>70.19</td>\n",
       "      <td>111.03</td>\n",
       "    </tr>\n",
       "    <tr>\n",
       "      <th>1</th>\n",
       "      <td>16</td>\n",
       "      <td>40</td>\n",
       "      <td>122.47</td>\n",
       "      <td>860</td>\n",
       "      <td>276.84</td>\n",
       "      <td>6</td>\n",
       "      <td>75.10</td>\n",
       "      <td>123.09</td>\n",
       "      <td>6</td>\n",
       "      <td>17.23</td>\n",
       "      <td>118.94</td>\n",
       "    </tr>\n",
       "    <tr>\n",
       "      <th>2</th>\n",
       "      <td>2</td>\n",
       "      <td>0</td>\n",
       "      <td>214.42</td>\n",
       "      <td>852</td>\n",
       "      <td>215.76</td>\n",
       "      <td>4</td>\n",
       "      <td>78.89</td>\n",
       "      <td>223.98</td>\n",
       "      <td>4</td>\n",
       "      <td>2.77</td>\n",
       "      <td>167.12</td>\n",
       "    </tr>\n",
       "    <tr>\n",
       "      <th>3</th>\n",
       "      <td>2</td>\n",
       "      <td>7</td>\n",
       "      <td>69.40</td>\n",
       "      <td>288</td>\n",
       "      <td>606.84</td>\n",
       "      <td>14</td>\n",
       "      <td>96.97</td>\n",
       "      <td>68.86</td>\n",
       "      <td>14</td>\n",
       "      <td>96.97</td>\n",
       "      <td>68.86</td>\n",
       "    </tr>\n",
       "    <tr>\n",
       "      <th>4</th>\n",
       "      <td>2</td>\n",
       "      <td>52</td>\n",
       "      <td>158.13</td>\n",
       "      <td>723</td>\n",
       "      <td>313.04</td>\n",
       "      <td>12</td>\n",
       "      <td>39.79</td>\n",
       "      <td>161.36</td>\n",
       "      <td>12</td>\n",
       "      <td>15.34</td>\n",
       "      <td>145.42</td>\n",
       "    </tr>\n",
       "  </tbody>\n",
       "</table>\n",
       "</div>"
      ],
      "text/plain": [
       "   City1  City2  AverageFare  Distance  Averageweeklypassengers  \\\n",
       "0     16      0       114.47       528                   424.56   \n",
       "1     16     40       122.47       860                   276.84   \n",
       "2      2      0       214.42       852                   215.76   \n",
       "3      2      7        69.40       288                   606.84   \n",
       "4      2     52       158.13       723                   313.04   \n",
       "\n",
       "   Marketleadingairline  MarketshareLead  Averagefare  Lowpriceairline  \\\n",
       "0                     6            70.19       111.03                6   \n",
       "1                     6            75.10       123.09                6   \n",
       "2                     4            78.89       223.98                4   \n",
       "3                    14            96.97        68.86               14   \n",
       "4                    12            39.79       161.36               12   \n",
       "\n",
       "   MarketshareLow   Price  \n",
       "0           70.19  111.03  \n",
       "1           17.23  118.94  \n",
       "2            2.77  167.12  \n",
       "3           96.97   68.86  \n",
       "4           15.34  145.42  "
      ]
     },
     "execution_count": 227,
     "metadata": {},
     "output_type": "execute_result"
    }
   ],
   "source": [
    "AirPass.head(5)"
   ]
  },
  {
   "cell_type": "code",
   "execution_count": 228,
   "metadata": {},
   "outputs": [],
   "source": [
    "Q1=AirPass.quantile(0.25)\n",
    "Q3=AirPass.quantile(0.75)\n",
    "IQR=Q3-Q1"
   ]
  },
  {
   "cell_type": "code",
   "execution_count": 229,
   "metadata": {},
   "outputs": [
    {
     "data": {
      "text/plain": [
       "City1                       117.12500\n",
       "City2                       130.50000\n",
       "AverageFare                 304.51875\n",
       "Distance                   2801.00000\n",
       "Averageweeklypassengers    1538.98500\n",
       "Marketleadingairline         29.37500\n",
       "MarketshareLead             114.01000\n",
       "Averagefare                 321.31625\n",
       "Lowpriceairline              29.37500\n",
       "MarketshareLow              112.63875\n",
       "Price                       250.67375\n",
       "dtype: float64"
      ]
     },
     "execution_count": 229,
     "metadata": {},
     "output_type": "execute_result"
    }
   ],
   "source": [
    "Q3+(1.5*IQR)"
   ]
  },
  {
   "cell_type": "code",
   "execution_count": 230,
   "metadata": {},
   "outputs": [
    {
     "data": {
      "text/plain": [
       "City1                      -47.87500\n",
       "City2                      -25.50000\n",
       "AverageFare                 18.84875\n",
       "Distance                  -795.00000\n",
       "Averageweeklypassengers   -511.87500\n",
       "Marketleadingairline       -11.62500\n",
       "MarketshareLead              6.01000\n",
       "Averagefare                  5.74625\n",
       "Lowpriceairline            -11.62500\n",
       "MarketshareLow             -46.47125\n",
       "Price                       31.62375\n",
       "dtype: float64"
      ]
     },
     "execution_count": 230,
     "metadata": {},
     "output_type": "execute_result"
    }
   ],
   "source": [
    "Q1-((1.5*IQR))"
   ]
  },
  {
   "cell_type": "code",
   "execution_count": 231,
   "metadata": {},
   "outputs": [],
   "source": [
    "#Removing the Outliers , removing the outliers on the target columns as well as the number is very low when compared to the total data\n",
    "#and it will be sufficient for the model\n",
    "AirFinal=AirPass[~((AirPass<(Q1-(1.5*IQR)))|(AirPass>(Q3+(1.5*IQR)))).any(axis=1)]"
   ]
  },
  {
   "cell_type": "code",
   "execution_count": 232,
   "metadata": {},
   "outputs": [
    {
     "data": {
      "text/plain": [
       "(885, 11)"
      ]
     },
     "execution_count": 232,
     "metadata": {},
     "output_type": "execute_result"
    }
   ],
   "source": [
    "AirFinal.shape"
   ]
  },
  {
   "cell_type": "code",
   "execution_count": 233,
   "metadata": {},
   "outputs": [
    {
     "data": {
      "text/html": [
       "<div>\n",
       "<style scoped>\n",
       "    .dataframe tbody tr th:only-of-type {\n",
       "        vertical-align: middle;\n",
       "    }\n",
       "\n",
       "    .dataframe tbody tr th {\n",
       "        vertical-align: top;\n",
       "    }\n",
       "\n",
       "    .dataframe thead th {\n",
       "        text-align: right;\n",
       "    }\n",
       "</style>\n",
       "<table border=\"1\" class=\"dataframe\">\n",
       "  <thead>\n",
       "    <tr style=\"text-align: right;\">\n",
       "      <th></th>\n",
       "      <th>City1</th>\n",
       "      <th>City2</th>\n",
       "      <th>AverageFare</th>\n",
       "      <th>Distance</th>\n",
       "      <th>Averageweeklypassengers</th>\n",
       "      <th>Marketleadingairline</th>\n",
       "      <th>MarketshareLead</th>\n",
       "      <th>Averagefare</th>\n",
       "      <th>Lowpriceairline</th>\n",
       "      <th>MarketshareLow</th>\n",
       "      <th>Price</th>\n",
       "    </tr>\n",
       "  </thead>\n",
       "  <tbody>\n",
       "    <tr>\n",
       "      <th>City1</th>\n",
       "      <td>1.000000</td>\n",
       "      <td>0.307054</td>\n",
       "      <td>-0.092398</td>\n",
       "      <td>0.030485</td>\n",
       "      <td>0.013192</td>\n",
       "      <td>0.043640</td>\n",
       "      <td>-0.068297</td>\n",
       "      <td>-0.112980</td>\n",
       "      <td>0.043640</td>\n",
       "      <td>0.095783</td>\n",
       "      <td>-0.028719</td>\n",
       "    </tr>\n",
       "    <tr>\n",
       "      <th>City2</th>\n",
       "      <td>0.307054</td>\n",
       "      <td>1.000000</td>\n",
       "      <td>-0.029294</td>\n",
       "      <td>0.150499</td>\n",
       "      <td>-0.037372</td>\n",
       "      <td>-0.013822</td>\n",
       "      <td>-0.080962</td>\n",
       "      <td>-0.039302</td>\n",
       "      <td>-0.013822</td>\n",
       "      <td>0.045622</td>\n",
       "      <td>0.036378</td>\n",
       "    </tr>\n",
       "    <tr>\n",
       "      <th>AverageFare</th>\n",
       "      <td>-0.092398</td>\n",
       "      <td>-0.029294</td>\n",
       "      <td>1.000000</td>\n",
       "      <td>0.522650</td>\n",
       "      <td>-0.197005</td>\n",
       "      <td>-0.321035</td>\n",
       "      <td>-0.207955</td>\n",
       "      <td>0.979713</td>\n",
       "      <td>-0.321035</td>\n",
       "      <td>-0.493555</td>\n",
       "      <td>0.840993</td>\n",
       "    </tr>\n",
       "    <tr>\n",
       "      <th>Distance</th>\n",
       "      <td>0.030485</td>\n",
       "      <td>0.150499</td>\n",
       "      <td>0.522650</td>\n",
       "      <td>1.000000</td>\n",
       "      <td>-0.129632</td>\n",
       "      <td>-0.139442</td>\n",
       "      <td>-0.547952</td>\n",
       "      <td>0.489721</td>\n",
       "      <td>-0.139442</td>\n",
       "      <td>-0.361519</td>\n",
       "      <td>0.539894</td>\n",
       "    </tr>\n",
       "    <tr>\n",
       "      <th>Averageweeklypassengers</th>\n",
       "      <td>0.013192</td>\n",
       "      <td>-0.037372</td>\n",
       "      <td>-0.197005</td>\n",
       "      <td>-0.129632</td>\n",
       "      <td>1.000000</td>\n",
       "      <td>-0.024811</td>\n",
       "      <td>0.021769</td>\n",
       "      <td>-0.163736</td>\n",
       "      <td>-0.024811</td>\n",
       "      <td>0.076176</td>\n",
       "      <td>-0.209018</td>\n",
       "    </tr>\n",
       "    <tr>\n",
       "      <th>Marketleadingairline</th>\n",
       "      <td>0.043640</td>\n",
       "      <td>-0.013822</td>\n",
       "      <td>-0.321035</td>\n",
       "      <td>-0.139442</td>\n",
       "      <td>-0.024811</td>\n",
       "      <td>1.000000</td>\n",
       "      <td>0.105175</td>\n",
       "      <td>-0.301472</td>\n",
       "      <td>1.000000</td>\n",
       "      <td>0.161220</td>\n",
       "      <td>-0.298722</td>\n",
       "    </tr>\n",
       "    <tr>\n",
       "      <th>MarketshareLead</th>\n",
       "      <td>-0.068297</td>\n",
       "      <td>-0.080962</td>\n",
       "      <td>-0.207955</td>\n",
       "      <td>-0.547952</td>\n",
       "      <td>0.021769</td>\n",
       "      <td>0.105175</td>\n",
       "      <td>1.000000</td>\n",
       "      <td>-0.193382</td>\n",
       "      <td>0.105175</td>\n",
       "      <td>0.281182</td>\n",
       "      <td>-0.314555</td>\n",
       "    </tr>\n",
       "    <tr>\n",
       "      <th>Averagefare</th>\n",
       "      <td>-0.112980</td>\n",
       "      <td>-0.039302</td>\n",
       "      <td>0.979713</td>\n",
       "      <td>0.489721</td>\n",
       "      <td>-0.163736</td>\n",
       "      <td>-0.301472</td>\n",
       "      <td>-0.193382</td>\n",
       "      <td>1.000000</td>\n",
       "      <td>-0.301472</td>\n",
       "      <td>-0.519442</td>\n",
       "      <td>0.794157</td>\n",
       "    </tr>\n",
       "    <tr>\n",
       "      <th>Lowpriceairline</th>\n",
       "      <td>0.043640</td>\n",
       "      <td>-0.013822</td>\n",
       "      <td>-0.321035</td>\n",
       "      <td>-0.139442</td>\n",
       "      <td>-0.024811</td>\n",
       "      <td>1.000000</td>\n",
       "      <td>0.105175</td>\n",
       "      <td>-0.301472</td>\n",
       "      <td>1.000000</td>\n",
       "      <td>0.161220</td>\n",
       "      <td>-0.298722</td>\n",
       "    </tr>\n",
       "    <tr>\n",
       "      <th>MarketshareLow</th>\n",
       "      <td>0.095783</td>\n",
       "      <td>0.045622</td>\n",
       "      <td>-0.493555</td>\n",
       "      <td>-0.361519</td>\n",
       "      <td>0.076176</td>\n",
       "      <td>0.161220</td>\n",
       "      <td>0.281182</td>\n",
       "      <td>-0.519442</td>\n",
       "      <td>0.161220</td>\n",
       "      <td>1.000000</td>\n",
       "      <td>-0.260912</td>\n",
       "    </tr>\n",
       "    <tr>\n",
       "      <th>Price</th>\n",
       "      <td>-0.028719</td>\n",
       "      <td>0.036378</td>\n",
       "      <td>0.840993</td>\n",
       "      <td>0.539894</td>\n",
       "      <td>-0.209018</td>\n",
       "      <td>-0.298722</td>\n",
       "      <td>-0.314555</td>\n",
       "      <td>0.794157</td>\n",
       "      <td>-0.298722</td>\n",
       "      <td>-0.260912</td>\n",
       "      <td>1.000000</td>\n",
       "    </tr>\n",
       "  </tbody>\n",
       "</table>\n",
       "</div>"
      ],
      "text/plain": [
       "                            City1     City2  AverageFare  Distance  \\\n",
       "City1                    1.000000  0.307054    -0.092398  0.030485   \n",
       "City2                    0.307054  1.000000    -0.029294  0.150499   \n",
       "AverageFare             -0.092398 -0.029294     1.000000  0.522650   \n",
       "Distance                 0.030485  0.150499     0.522650  1.000000   \n",
       "Averageweeklypassengers  0.013192 -0.037372    -0.197005 -0.129632   \n",
       "Marketleadingairline     0.043640 -0.013822    -0.321035 -0.139442   \n",
       "MarketshareLead         -0.068297 -0.080962    -0.207955 -0.547952   \n",
       "Averagefare             -0.112980 -0.039302     0.979713  0.489721   \n",
       "Lowpriceairline          0.043640 -0.013822    -0.321035 -0.139442   \n",
       "MarketshareLow           0.095783  0.045622    -0.493555 -0.361519   \n",
       "Price                   -0.028719  0.036378     0.840993  0.539894   \n",
       "\n",
       "                         Averageweeklypassengers  Marketleadingairline  \\\n",
       "City1                                   0.013192              0.043640   \n",
       "City2                                  -0.037372             -0.013822   \n",
       "AverageFare                            -0.197005             -0.321035   \n",
       "Distance                               -0.129632             -0.139442   \n",
       "Averageweeklypassengers                 1.000000             -0.024811   \n",
       "Marketleadingairline                   -0.024811              1.000000   \n",
       "MarketshareLead                         0.021769              0.105175   \n",
       "Averagefare                            -0.163736             -0.301472   \n",
       "Lowpriceairline                        -0.024811              1.000000   \n",
       "MarketshareLow                          0.076176              0.161220   \n",
       "Price                                  -0.209018             -0.298722   \n",
       "\n",
       "                         MarketshareLead  Averagefare  Lowpriceairline  \\\n",
       "City1                          -0.068297    -0.112980         0.043640   \n",
       "City2                          -0.080962    -0.039302        -0.013822   \n",
       "AverageFare                    -0.207955     0.979713        -0.321035   \n",
       "Distance                       -0.547952     0.489721        -0.139442   \n",
       "Averageweeklypassengers         0.021769    -0.163736        -0.024811   \n",
       "Marketleadingairline            0.105175    -0.301472         1.000000   \n",
       "MarketshareLead                 1.000000    -0.193382         0.105175   \n",
       "Averagefare                    -0.193382     1.000000        -0.301472   \n",
       "Lowpriceairline                 0.105175    -0.301472         1.000000   \n",
       "MarketshareLow                  0.281182    -0.519442         0.161220   \n",
       "Price                          -0.314555     0.794157        -0.298722   \n",
       "\n",
       "                         MarketshareLow     Price  \n",
       "City1                          0.095783 -0.028719  \n",
       "City2                          0.045622  0.036378  \n",
       "AverageFare                   -0.493555  0.840993  \n",
       "Distance                      -0.361519  0.539894  \n",
       "Averageweeklypassengers        0.076176 -0.209018  \n",
       "Marketleadingairline           0.161220 -0.298722  \n",
       "MarketshareLead                0.281182 -0.314555  \n",
       "Averagefare                   -0.519442  0.794157  \n",
       "Lowpriceairline                0.161220 -0.298722  \n",
       "MarketshareLow                 1.000000 -0.260912  \n",
       "Price                         -0.260912  1.000000  "
      ]
     },
     "execution_count": 233,
     "metadata": {},
     "output_type": "execute_result"
    }
   ],
   "source": [
    "#Finding out the correlation\n",
    "AirFinal.corr()"
   ]
  },
  {
   "cell_type": "code",
   "execution_count": 234,
   "metadata": {},
   "outputs": [
    {
     "data": {
      "text/html": [
       "<div>\n",
       "<style scoped>\n",
       "    .dataframe tbody tr th:only-of-type {\n",
       "        vertical-align: middle;\n",
       "    }\n",
       "\n",
       "    .dataframe tbody tr th {\n",
       "        vertical-align: top;\n",
       "    }\n",
       "\n",
       "    .dataframe thead th {\n",
       "        text-align: right;\n",
       "    }\n",
       "</style>\n",
       "<table border=\"1\" class=\"dataframe\">\n",
       "  <thead>\n",
       "    <tr style=\"text-align: right;\">\n",
       "      <th></th>\n",
       "      <th>City1</th>\n",
       "      <th>City2</th>\n",
       "      <th>AverageFare</th>\n",
       "      <th>Distance</th>\n",
       "      <th>Averageweeklypassengers</th>\n",
       "      <th>Marketleadingairline</th>\n",
       "      <th>MarketshareLead</th>\n",
       "      <th>Averagefare</th>\n",
       "      <th>Lowpriceairline</th>\n",
       "      <th>MarketshareLow</th>\n",
       "      <th>Price</th>\n",
       "    </tr>\n",
       "  </thead>\n",
       "  <tbody>\n",
       "    <tr>\n",
       "      <th>City1</th>\n",
       "      <td>1.000000</td>\n",
       "      <td>0.307054</td>\n",
       "      <td>-0.092398</td>\n",
       "      <td>0.030485</td>\n",
       "      <td>0.013192</td>\n",
       "      <td>0.043640</td>\n",
       "      <td>-0.068297</td>\n",
       "      <td>-0.112980</td>\n",
       "      <td>0.043640</td>\n",
       "      <td>0.095783</td>\n",
       "      <td>-0.028719</td>\n",
       "    </tr>\n",
       "    <tr>\n",
       "      <th>City2</th>\n",
       "      <td>0.307054</td>\n",
       "      <td>1.000000</td>\n",
       "      <td>-0.029294</td>\n",
       "      <td>0.150499</td>\n",
       "      <td>-0.037372</td>\n",
       "      <td>-0.013822</td>\n",
       "      <td>-0.080962</td>\n",
       "      <td>-0.039302</td>\n",
       "      <td>-0.013822</td>\n",
       "      <td>0.045622</td>\n",
       "      <td>0.036378</td>\n",
       "    </tr>\n",
       "  </tbody>\n",
       "</table>\n",
       "</div>"
      ],
      "text/plain": [
       "          City1     City2  AverageFare  Distance  Averageweeklypassengers  \\\n",
       "City1  1.000000  0.307054    -0.092398  0.030485                 0.013192   \n",
       "City2  0.307054  1.000000    -0.029294  0.150499                -0.037372   \n",
       "\n",
       "       Marketleadingairline  MarketshareLead  Averagefare  Lowpriceairline  \\\n",
       "City1              0.043640        -0.068297    -0.112980         0.043640   \n",
       "City2             -0.013822        -0.080962    -0.039302        -0.013822   \n",
       "\n",
       "       MarketshareLow     Price  \n",
       "City1        0.095783 -0.028719  \n",
       "City2        0.045622  0.036378  "
      ]
     },
     "execution_count": 234,
     "metadata": {},
     "output_type": "execute_result"
    }
   ],
   "source": [
    "air[abs(air['AverageFare'])<0.1]"
   ]
  },
  {
   "cell_type": "code",
   "execution_count": 235,
   "metadata": {},
   "outputs": [],
   "source": [
    "#Dropping the city1,city2 columns as it has no correlation with the 'AverageFare'\n",
    "AirFinal = AirFinal.drop(['City1','City2'],axis=1)"
   ]
  },
  {
   "cell_type": "code",
   "execution_count": 236,
   "metadata": {},
   "outputs": [
    {
     "data": {
      "text/html": [
       "<div>\n",
       "<style scoped>\n",
       "    .dataframe tbody tr th:only-of-type {\n",
       "        vertical-align: middle;\n",
       "    }\n",
       "\n",
       "    .dataframe tbody tr th {\n",
       "        vertical-align: top;\n",
       "    }\n",
       "\n",
       "    .dataframe thead th {\n",
       "        text-align: right;\n",
       "    }\n",
       "</style>\n",
       "<table border=\"1\" class=\"dataframe\">\n",
       "  <thead>\n",
       "    <tr style=\"text-align: right;\">\n",
       "      <th></th>\n",
       "      <th>AverageFare</th>\n",
       "      <th>Distance</th>\n",
       "      <th>Averageweeklypassengers</th>\n",
       "      <th>Marketleadingairline</th>\n",
       "      <th>MarketshareLead</th>\n",
       "      <th>Averagefare</th>\n",
       "      <th>Lowpriceairline</th>\n",
       "      <th>MarketshareLow</th>\n",
       "      <th>Price</th>\n",
       "    </tr>\n",
       "  </thead>\n",
       "  <tbody>\n",
       "    <tr>\n",
       "      <th>0</th>\n",
       "      <td>114.47</td>\n",
       "      <td>528</td>\n",
       "      <td>424.56</td>\n",
       "      <td>6</td>\n",
       "      <td>70.19</td>\n",
       "      <td>111.03</td>\n",
       "      <td>6</td>\n",
       "      <td>70.19</td>\n",
       "      <td>111.03</td>\n",
       "    </tr>\n",
       "    <tr>\n",
       "      <th>1</th>\n",
       "      <td>122.47</td>\n",
       "      <td>860</td>\n",
       "      <td>276.84</td>\n",
       "      <td>6</td>\n",
       "      <td>75.10</td>\n",
       "      <td>123.09</td>\n",
       "      <td>6</td>\n",
       "      <td>17.23</td>\n",
       "      <td>118.94</td>\n",
       "    </tr>\n",
       "    <tr>\n",
       "      <th>2</th>\n",
       "      <td>214.42</td>\n",
       "      <td>852</td>\n",
       "      <td>215.76</td>\n",
       "      <td>4</td>\n",
       "      <td>78.89</td>\n",
       "      <td>223.98</td>\n",
       "      <td>4</td>\n",
       "      <td>2.77</td>\n",
       "      <td>167.12</td>\n",
       "    </tr>\n",
       "    <tr>\n",
       "      <th>3</th>\n",
       "      <td>69.40</td>\n",
       "      <td>288</td>\n",
       "      <td>606.84</td>\n",
       "      <td>14</td>\n",
       "      <td>96.97</td>\n",
       "      <td>68.86</td>\n",
       "      <td>14</td>\n",
       "      <td>96.97</td>\n",
       "      <td>68.86</td>\n",
       "    </tr>\n",
       "    <tr>\n",
       "      <th>4</th>\n",
       "      <td>158.13</td>\n",
       "      <td>723</td>\n",
       "      <td>313.04</td>\n",
       "      <td>12</td>\n",
       "      <td>39.79</td>\n",
       "      <td>161.36</td>\n",
       "      <td>12</td>\n",
       "      <td>15.34</td>\n",
       "      <td>145.42</td>\n",
       "    </tr>\n",
       "  </tbody>\n",
       "</table>\n",
       "</div>"
      ],
      "text/plain": [
       "   AverageFare  Distance  Averageweeklypassengers  Marketleadingairline  \\\n",
       "0       114.47       528                   424.56                     6   \n",
       "1       122.47       860                   276.84                     6   \n",
       "2       214.42       852                   215.76                     4   \n",
       "3        69.40       288                   606.84                    14   \n",
       "4       158.13       723                   313.04                    12   \n",
       "\n",
       "   MarketshareLead  Averagefare  Lowpriceairline  MarketshareLow   Price  \n",
       "0            70.19       111.03                6           70.19  111.03  \n",
       "1            75.10       123.09                6           17.23  118.94  \n",
       "2            78.89       223.98                4            2.77  167.12  \n",
       "3            96.97        68.86               14           96.97   68.86  \n",
       "4            39.79       161.36               12           15.34  145.42  "
      ]
     },
     "execution_count": 236,
     "metadata": {},
     "output_type": "execute_result"
    }
   ],
   "source": [
    "AirFinal.head(5)"
   ]
  },
  {
   "cell_type": "code",
   "execution_count": 237,
   "metadata": {},
   "outputs": [
    {
     "data": {
      "text/plain": [
       "AverageFare                float64\n",
       "Distance                     int64\n",
       "Averageweeklypassengers    float64\n",
       "Marketleadingairline         int32\n",
       "MarketshareLead            float64\n",
       "Averagefare                float64\n",
       "Lowpriceairline              int64\n",
       "MarketshareLow             float64\n",
       "Price                      float64\n",
       "dtype: object"
      ]
     },
     "execution_count": 237,
     "metadata": {},
     "output_type": "execute_result"
    }
   ],
   "source": [
    "AirFinal.dtypes"
   ]
  },
  {
   "cell_type": "code",
   "execution_count": 238,
   "metadata": {},
   "outputs": [
    {
     "data": {
      "text/plain": [
       "<seaborn.axisgrid.PairGrid at 0x1eb68e0f048>"
      ]
     },
     "execution_count": 238,
     "metadata": {},
     "output_type": "execute_result"
    },
    {
     "data": {
      "image/png": "[encoded data removed]",
      "text/plain": [
       "<Figure size 1440x180 with 8 Axes>"
      ]
     },
     "metadata": {
      "needs_background": "light"
     },
     "output_type": "display_data"
    }
   ],
   "source": [
    "sns.pairplot(AirFinal,x_vars=[\"Distance\", \"Averageweeklypassengers\",\"Marketleadingairline\",\"MarketshareLead\",\"Averagefare\",\"Lowpriceairline\",\"MarketshareLow\",\"Price\"],y_vars=[\"AverageFare\"])"
   ]
  },
  {
   "cell_type": "code",
   "execution_count": 239,
   "metadata": {},
   "outputs": [],
   "source": [
    "X=AirFinal.drop('AverageFare',axis=1)"
   ]
  },
  {
   "cell_type": "code",
   "execution_count": 240,
   "metadata": {},
   "outputs": [],
   "source": [
    "y=AirFinal['AverageFare']"
   ]
  },
  {
   "cell_type": "code",
   "execution_count": 241,
   "metadata": {},
   "outputs": [],
   "source": [
    "from sklearn.model_selection import train_test_split"
   ]
  },
  {
   "cell_type": "code",
   "execution_count": 242,
   "metadata": {},
   "outputs": [],
   "source": [
    "#Split the data set into train and test sizes of 80,20 respectively\n",
    "X_train, X_test, y_train, y_test = train_test_split(X, y, test_size=0.20, random_state=1)"
   ]
  },
  {
   "cell_type": "code",
   "execution_count": 243,
   "metadata": {},
   "outputs": [
    {
     "data": {
      "text/plain": [
       "LinearRegression(copy_X=True, fit_intercept=True, n_jobs=None,\n",
       "         normalize=False)"
      ]
     },
     "execution_count": 243,
     "metadata": {},
     "output_type": "execute_result"
    }
   ],
   "source": [
    "regression_model = LinearRegression()\n",
    "regression_model.fit(X_train, y_train)"
   ]
  },
  {
   "cell_type": "code",
   "execution_count": 244,
   "metadata": {},
   "outputs": [
    {
     "name": "stdout",
     "output_type": "stream",
     "text": [
      "The coefficient for Distance is 0.0028261893470589656\n",
      "The coefficient for Averageweeklypassengers is -0.0037389969499806884\n",
      "The coefficient for Marketleadingairline is -0.10286945104713319\n",
      "The coefficient for MarketshareLead is 0.0812812300151868\n",
      "The coefficient for Averagefare is 0.7260405648113265\n",
      "The coefficient for Lowpriceairline is -0.1028694510471333\n",
      "The coefficient for MarketshareLow is -0.030523120169292907\n",
      "The coefficient for Price is 0.22635042887649331\n"
     ]
    }
   ],
   "source": [
    "\n",
    "for idx, col_name in enumerate(X_train.columns):\n",
    "    \n",
    "    print(\"The coefficient for {} is {}\".format(col_name, regression_model.coef_[()][idx]))"
   ]
  },
  {
   "cell_type": "code",
   "execution_count": 245,
   "metadata": {},
   "outputs": [
    {
     "name": "stdout",
     "output_type": "stream",
     "text": [
      "The intercept for our model is 6.948875557668174\n"
     ]
    }
   ],
   "source": [
    "intercept = regression_model.intercept_[()]\n",
    "\n",
    "print(\"The intercept for our model is {}\".format(intercept))"
   ]
  },
  {
   "cell_type": "code",
   "execution_count": 246,
   "metadata": {},
   "outputs": [
    {
     "data": {
      "text/plain": [
       "0.9729084103261254"
      ]
     },
     "execution_count": 246,
     "metadata": {},
     "output_type": "execute_result"
    }
   ],
   "source": [
    "#97% of variablity in y is explained by X\n",
    "regression_model.score(X_train, y_train)"
   ]
  },
  {
   "cell_type": "code",
   "execution_count": 247,
   "metadata": {},
   "outputs": [
    {
     "data": {
      "text/plain": [
       "0.9700789082944252"
      ]
     },
     "execution_count": 247,
     "metadata": {},
     "output_type": "execute_result"
    }
   ],
   "source": [
    "regression_model.score(X_test, y_test)"
   ]
  },
  {
   "cell_type": "code",
   "execution_count": null,
   "metadata": {},
   "outputs": [],
   "source": []
  }
 ],
 "metadata": {
  "kernelspec": {
   "display_name": "Python 3",
   "language": "python",
   "name": "python3"
  },
  "language_info": {
   "codemirror_mode": {
    "name": "ipython",
    "version": 3
   },
   "file_extension": ".py",
   "mimetype": "text/x-python",
   "name": "python",
   "nbconvert_exporter": "python",
   "pygments_lexer": "ipython3",
   "version": "3.7.3"
  }
 },
 "nbformat": 4,
 "nbformat_minor": 2
}
