{
 "cells": [
  {
   "cell_type": "code",
   "execution_count": 172,
   "metadata": {
    "colab": {},
    "colab_type": "code",
    "id": "Y3vvEXP1_0og"
   },
   "outputs": [],
   "source": [
    "# Import important library\n",
    "import numpy as np\n",
    "import pandas as pd\n",
    "import matplotlib.pyplot as plt\n",
    "import seaborn as sns\n",
    "%matplotlib inline\n",
    "import warnings\n",
    "warnings.filterwarnings('ignore')"
   ]
  },
  {
   "cell_type": "markdown",
   "metadata": {
    "colab_type": "text",
    "id": "7O83uMqA_0ol"
   },
   "source": [
    "### Q1 Read the input file and check the data dimension"
   ]
  },
  {
   "cell_type": "code",
   "execution_count": 173,
   "metadata": {
    "colab": {},
    "colab_type": "code",
    "id": "1brbOfG_Enzy"
   },
   "outputs": [],
   "source": [
    "# You can access from https://www.kaggle.com/uciml/german-credit\n",
    "#Read input file and understand the data\n",
    "# \"default\" is my dependent variable"
   ]
  },
  {
   "cell_type": "code",
   "execution_count": 174,
   "metadata": {
    "colab": {},
    "colab_type": "code",
    "id": "_LGo1xnK_0ow"
   },
   "outputs": [
    {
     "data": {
      "text/html": [
       "<div>\n",
       "<style scoped>\n",
       "    .dataframe tbody tr th:only-of-type {\n",
       "        vertical-align: middle;\n",
       "    }\n",
       "\n",
       "    .dataframe tbody tr th {\n",
       "        vertical-align: top;\n",
       "    }\n",
       "\n",
       "    .dataframe thead th {\n",
       "        text-align: right;\n",
       "    }\n",
       "</style>\n",
       "<table border=\"1\" class=\"dataframe\">\n",
       "  <thead>\n",
       "    <tr style=\"text-align: right;\">\n",
       "      <th></th>\n",
       "      <th>default</th>\n",
       "      <th>account_check_status</th>\n",
       "      <th>duration_in_month</th>\n",
       "      <th>credit_history</th>\n",
       "      <th>purpose</th>\n",
       "      <th>credit_amount</th>\n",
       "      <th>savings</th>\n",
       "      <th>present_emp_since</th>\n",
       "      <th>installment_as_income_perc</th>\n",
       "      <th>personal_status_sex</th>\n",
       "      <th>...</th>\n",
       "      <th>present_res_since</th>\n",
       "      <th>property</th>\n",
       "      <th>age</th>\n",
       "      <th>other_installment_plans</th>\n",
       "      <th>housing</th>\n",
       "      <th>credits_this_bank</th>\n",
       "      <th>job</th>\n",
       "      <th>people_under_maintenance</th>\n",
       "      <th>telephone</th>\n",
       "      <th>foreign_worker</th>\n",
       "    </tr>\n",
       "  </thead>\n",
       "  <tbody>\n",
       "    <tr>\n",
       "      <th>0</th>\n",
       "      <td>0</td>\n",
       "      <td>&lt; 0 DM</td>\n",
       "      <td>6</td>\n",
       "      <td>critical account/ other credits existing (not ...</td>\n",
       "      <td>domestic appliances</td>\n",
       "      <td>1169</td>\n",
       "      <td>unknown/ no savings account</td>\n",
       "      <td>.. &gt;= 7 years</td>\n",
       "      <td>4</td>\n",
       "      <td>male : single</td>\n",
       "      <td>...</td>\n",
       "      <td>4</td>\n",
       "      <td>real estate</td>\n",
       "      <td>67</td>\n",
       "      <td>none</td>\n",
       "      <td>own</td>\n",
       "      <td>2</td>\n",
       "      <td>skilled employee / official</td>\n",
       "      <td>1</td>\n",
       "      <td>yes, registered under the customers name</td>\n",
       "      <td>yes</td>\n",
       "    </tr>\n",
       "    <tr>\n",
       "      <th>1</th>\n",
       "      <td>1</td>\n",
       "      <td>0 &lt;= ... &lt; 200 DM</td>\n",
       "      <td>48</td>\n",
       "      <td>existing credits paid back duly till now</td>\n",
       "      <td>domestic appliances</td>\n",
       "      <td>5951</td>\n",
       "      <td>... &lt; 100 DM</td>\n",
       "      <td>1 &lt;= ... &lt; 4 years</td>\n",
       "      <td>2</td>\n",
       "      <td>female : divorced/separated/married</td>\n",
       "      <td>...</td>\n",
       "      <td>2</td>\n",
       "      <td>real estate</td>\n",
       "      <td>22</td>\n",
       "      <td>none</td>\n",
       "      <td>own</td>\n",
       "      <td>1</td>\n",
       "      <td>skilled employee / official</td>\n",
       "      <td>1</td>\n",
       "      <td>none</td>\n",
       "      <td>yes</td>\n",
       "    </tr>\n",
       "    <tr>\n",
       "      <th>2</th>\n",
       "      <td>0</td>\n",
       "      <td>no checking account</td>\n",
       "      <td>12</td>\n",
       "      <td>critical account/ other credits existing (not ...</td>\n",
       "      <td>(vacation - does not exist?)</td>\n",
       "      <td>2096</td>\n",
       "      <td>... &lt; 100 DM</td>\n",
       "      <td>4 &lt;= ... &lt; 7 years</td>\n",
       "      <td>2</td>\n",
       "      <td>male : single</td>\n",
       "      <td>...</td>\n",
       "      <td>3</td>\n",
       "      <td>real estate</td>\n",
       "      <td>49</td>\n",
       "      <td>none</td>\n",
       "      <td>own</td>\n",
       "      <td>1</td>\n",
       "      <td>unskilled - resident</td>\n",
       "      <td>2</td>\n",
       "      <td>none</td>\n",
       "      <td>yes</td>\n",
       "    </tr>\n",
       "    <tr>\n",
       "      <th>3</th>\n",
       "      <td>0</td>\n",
       "      <td>&lt; 0 DM</td>\n",
       "      <td>42</td>\n",
       "      <td>existing credits paid back duly till now</td>\n",
       "      <td>radio/television</td>\n",
       "      <td>7882</td>\n",
       "      <td>... &lt; 100 DM</td>\n",
       "      <td>4 &lt;= ... &lt; 7 years</td>\n",
       "      <td>2</td>\n",
       "      <td>male : single</td>\n",
       "      <td>...</td>\n",
       "      <td>4</td>\n",
       "      <td>if not A121 : building society savings agreeme...</td>\n",
       "      <td>45</td>\n",
       "      <td>none</td>\n",
       "      <td>for free</td>\n",
       "      <td>1</td>\n",
       "      <td>skilled employee / official</td>\n",
       "      <td>2</td>\n",
       "      <td>none</td>\n",
       "      <td>yes</td>\n",
       "    </tr>\n",
       "    <tr>\n",
       "      <th>4</th>\n",
       "      <td>1</td>\n",
       "      <td>&lt; 0 DM</td>\n",
       "      <td>24</td>\n",
       "      <td>delay in paying off in the past</td>\n",
       "      <td>car (new)</td>\n",
       "      <td>4870</td>\n",
       "      <td>... &lt; 100 DM</td>\n",
       "      <td>1 &lt;= ... &lt; 4 years</td>\n",
       "      <td>3</td>\n",
       "      <td>male : single</td>\n",
       "      <td>...</td>\n",
       "      <td>4</td>\n",
       "      <td>unknown / no property</td>\n",
       "      <td>53</td>\n",
       "      <td>none</td>\n",
       "      <td>for free</td>\n",
       "      <td>2</td>\n",
       "      <td>skilled employee / official</td>\n",
       "      <td>2</td>\n",
       "      <td>none</td>\n",
       "      <td>yes</td>\n",
       "    </tr>\n",
       "  </tbody>\n",
       "</table>\n",
       "<p>5 rows × 21 columns</p>\n",
       "</div>"
      ],
      "text/plain": [
       "   default account_check_status  duration_in_month  \\\n",
       "0        0               < 0 DM                  6   \n",
       "1        1    0 <= ... < 200 DM                 48   \n",
       "2        0  no checking account                 12   \n",
       "3        0               < 0 DM                 42   \n",
       "4        1               < 0 DM                 24   \n",
       "\n",
       "                                      credit_history  \\\n",
       "0  critical account/ other credits existing (not ...   \n",
       "1           existing credits paid back duly till now   \n",
       "2  critical account/ other credits existing (not ...   \n",
       "3           existing credits paid back duly till now   \n",
       "4                    delay in paying off in the past   \n",
       "\n",
       "                        purpose  credit_amount                      savings  \\\n",
       "0           domestic appliances           1169  unknown/ no savings account   \n",
       "1           domestic appliances           5951                 ... < 100 DM   \n",
       "2  (vacation - does not exist?)           2096                 ... < 100 DM   \n",
       "3              radio/television           7882                 ... < 100 DM   \n",
       "4                     car (new)           4870                 ... < 100 DM   \n",
       "\n",
       "    present_emp_since  installment_as_income_perc  \\\n",
       "0       .. >= 7 years                           4   \n",
       "1  1 <= ... < 4 years                           2   \n",
       "2  4 <= ... < 7 years                           2   \n",
       "3  4 <= ... < 7 years                           2   \n",
       "4  1 <= ... < 4 years                           3   \n",
       "\n",
       "                   personal_status_sex  ... present_res_since  \\\n",
       "0                        male : single  ...                 4   \n",
       "1  female : divorced/separated/married  ...                 2   \n",
       "2                        male : single  ...                 3   \n",
       "3                        male : single  ...                 4   \n",
       "4                        male : single  ...                 4   \n",
       "\n",
       "                                            property age  \\\n",
       "0                                        real estate  67   \n",
       "1                                        real estate  22   \n",
       "2                                        real estate  49   \n",
       "3  if not A121 : building society savings agreeme...  45   \n",
       "4                              unknown / no property  53   \n",
       "\n",
       "   other_installment_plans   housing credits_this_bank  \\\n",
       "0                     none       own                 2   \n",
       "1                     none       own                 1   \n",
       "2                     none       own                 1   \n",
       "3                     none  for free                 1   \n",
       "4                     none  for free                 2   \n",
       "\n",
       "                           job people_under_maintenance  \\\n",
       "0  skilled employee / official                        1   \n",
       "1  skilled employee / official                        1   \n",
       "2         unskilled - resident                        2   \n",
       "3  skilled employee / official                        2   \n",
       "4  skilled employee / official                        2   \n",
       "\n",
       "                                   telephone foreign_worker  \n",
       "0  yes, registered under the customers name             yes  \n",
       "1                                       none            yes  \n",
       "2                                       none            yes  \n",
       "3                                       none            yes  \n",
       "4                                       none            yes  \n",
       "\n",
       "[5 rows x 21 columns]"
      ]
     },
     "execution_count": 174,
     "metadata": {},
     "output_type": "execute_result"
    }
   ],
   "source": [
    "credit_df = pd.read_csv(\"german_credit.csv\")\n",
    "credit_df.head()"
   ]
  },
  {
   "cell_type": "code",
   "execution_count": 175,
   "metadata": {
    "colab": {},
    "colab_type": "code",
    "id": "gKaiZis__0o0"
   },
   "outputs": [],
   "source": [
    "# Lets build a Ensemble model but need to modify the dataset first\n"
   ]
  },
  {
   "cell_type": "markdown",
   "metadata": {
    "colab_type": "text",
    "id": "utYEGBER_0o4"
   },
   "source": [
    "### Q2.Prepare the model data by converting non-numeric to dummy ( 1 Marks)\n",
    "##### Hint: Use get_dummies"
   ]
  },
  {
   "cell_type": "code",
   "execution_count": 176,
   "metadata": {
    "colab": {},
    "colab_type": "code",
    "id": "wjyTJcA6_0o6",
    "outputId": "e6bf7e9d-5732-4836-c0bb-fe03ba34683e"
   },
   "outputs": [
    {
     "data": {
      "text/plain": [
       "(1000, 21)"
      ]
     },
     "execution_count": 176,
     "metadata": {},
     "output_type": "execute_result"
    }
   ],
   "source": [
    "# Print Shape of model data\n",
    "credit_df.shape"
   ]
  },
  {
   "cell_type": "code",
   "execution_count": 177,
   "metadata": {},
   "outputs": [],
   "source": [
    "catcols=credit_df.columns[credit_df.dtypes==object].to_list()"
   ]
  },
  {
   "cell_type": "code",
   "execution_count": 178,
   "metadata": {},
   "outputs": [
    {
     "data": {
      "text/plain": [
       "['account_check_status',\n",
       " 'credit_history',\n",
       " 'purpose',\n",
       " 'savings',\n",
       " 'present_emp_since',\n",
       " 'personal_status_sex',\n",
       " 'other_debtors',\n",
       " 'property',\n",
       " 'other_installment_plans',\n",
       " 'housing',\n",
       " 'job',\n",
       " 'telephone',\n",
       " 'foreign_worker']"
      ]
     },
     "execution_count": 178,
     "metadata": {},
     "output_type": "execute_result"
    }
   ],
   "source": [
    "catcols"
   ]
  },
  {
   "cell_type": "code",
   "execution_count": 179,
   "metadata": {},
   "outputs": [],
   "source": [
    " for column in catcols:\n",
    "        dummies = pd.get_dummies(credit_df[column],prefix = column)\n",
    "        credit_df[dummies.columns] = dummies\n"
   ]
  },
  {
   "cell_type": "code",
   "execution_count": 180,
   "metadata": {},
   "outputs": [
    {
     "data": {
      "text/plain": [
       "(1000, 73)"
      ]
     },
     "execution_count": 180,
     "metadata": {},
     "output_type": "execute_result"
    }
   ],
   "source": [
    "credit_df_imputed.shape"
   ]
  },
  {
   "cell_type": "code",
   "execution_count": 181,
   "metadata": {},
   "outputs": [
    {
     "data": {
      "text/plain": [
       "default                                                                        int64\n",
       "account_check_status                                                          object\n",
       "duration_in_month                                                              int64\n",
       "credit_history                                                                object\n",
       "purpose                                                                       object\n",
       "credit_amount                                                                  int64\n",
       "savings                                                                       object\n",
       "present_emp_since                                                             object\n",
       "installment_as_income_perc                                                     int64\n",
       "personal_status_sex                                                           object\n",
       "other_debtors                                                                 object\n",
       "present_res_since                                                              int64\n",
       "property                                                                      object\n",
       "age                                                                            int64\n",
       "other_installment_plans                                                       object\n",
       "housing                                                                       object\n",
       "credits_this_bank                                                              int64\n",
       "job                                                                           object\n",
       "people_under_maintenance                                                       int64\n",
       "telephone                                                                     object\n",
       "foreign_worker                                                                object\n",
       "account_check_status_0 <= ... < 200 DM                                         uint8\n",
       "account_check_status_< 0 DM                                                    uint8\n",
       "account_check_status_>= 200 DM / salary assignments for at least 1 year        uint8\n",
       "account_check_status_no checking account                                       uint8\n",
       "credit_history_all credits at this bank paid back duly                         uint8\n",
       "credit_history_critical account/ other credits existing (not at this bank)     uint8\n",
       "credit_history_delay in paying off in the past                                 uint8\n",
       "credit_history_existing credits paid back duly till now                        uint8\n",
       "credit_history_no credits taken/ all credits paid back duly                    uint8\n",
       "                                                                               ...  \n",
       "present_emp_since_.. >= 7 years                                                uint8\n",
       "present_emp_since_... < 1 year                                                 uint8\n",
       "present_emp_since_1 <= ... < 4 years                                           uint8\n",
       "present_emp_since_4 <= ... < 7 years                                           uint8\n",
       "present_emp_since_unemployed                                                   uint8\n",
       "personal_status_sex_female : divorced/separated/married                        uint8\n",
       "personal_status_sex_male : divorced/separated                                  uint8\n",
       "personal_status_sex_male : married/widowed                                     uint8\n",
       "personal_status_sex_male : single                                              uint8\n",
       "other_debtors_co-applicant                                                     uint8\n",
       "other_debtors_guarantor                                                        uint8\n",
       "other_debtors_none                                                             uint8\n",
       "property_if not A121 : building society savings agreement/ life insurance      uint8\n",
       "property_if not A121/A122 : car or other, not in attribute 6                   uint8\n",
       "property_real estate                                                           uint8\n",
       "property_unknown / no property                                                 uint8\n",
       "other_installment_plans_bank                                                   uint8\n",
       "other_installment_plans_none                                                   uint8\n",
       "other_installment_plans_stores                                                 uint8\n",
       "housing_for free                                                               uint8\n",
       "housing_own                                                                    uint8\n",
       "housing_rent                                                                   uint8\n",
       "job_management/ self-employed/ highly qualified employee/ officer              uint8\n",
       "job_skilled employee / official                                                uint8\n",
       "job_unemployed/ unskilled - non-resident                                       uint8\n",
       "job_unskilled - resident                                                       uint8\n",
       "telephone_none                                                                 uint8\n",
       "telephone_yes, registered under the customers name                             uint8\n",
       "foreign_worker_no                                                              uint8\n",
       "foreign_worker_yes                                                             uint8\n",
       "Length: 75, dtype: object"
      ]
     },
     "execution_count": 181,
     "metadata": {},
     "output_type": "execute_result"
    }
   ],
   "source": [
    "credit_df.dtypes"
   ]
  },
  {
   "cell_type": "markdown",
   "metadata": {
    "colab_type": "text",
    "id": "ytl4nlUW_0pA"
   },
   "source": [
    "### Check for highly correlated variables but don't required any treatment for this use case"
   ]
  },
  {
   "cell_type": "code",
   "execution_count": 182,
   "metadata": {
    "colab": {},
    "colab_type": "code",
    "id": "0W02DKRx_0pA"
   },
   "outputs": [],
   "source": [
    "corr=credit_df.corr()"
   ]
  },
  {
   "cell_type": "code",
   "execution_count": 183,
   "metadata": {},
   "outputs": [
    {
     "data": {
      "text/plain": [
       "Index(['default', 'duration_in_month', 'credit_amount',\n",
       "       'installment_as_income_perc', 'present_res_since', 'age',\n",
       "       'credits_this_bank', 'people_under_maintenance',\n",
       "       'account_check_status_0 <= ... < 200 DM', 'account_check_status_< 0 DM',\n",
       "       'account_check_status_>= 200 DM / salary assignments for at least 1 year',\n",
       "       'account_check_status_no checking account',\n",
       "       'credit_history_all credits at this bank paid back duly',\n",
       "       'credit_history_critical account/ other credits existing (not at this bank)',\n",
       "       'credit_history_delay in paying off in the past',\n",
       "       'credit_history_existing credits paid back duly till now',\n",
       "       'credit_history_no credits taken/ all credits paid back duly',\n",
       "       'purpose_(vacation - does not exist?)', 'purpose_business',\n",
       "       'purpose_car (new)', 'purpose_car (used)',\n",
       "       'purpose_domestic appliances', 'purpose_education',\n",
       "       'purpose_furniture/equipment', 'purpose_radio/television',\n",
       "       'purpose_repairs', 'purpose_retraining', 'savings_.. >= 1000 DM ',\n",
       "       'savings_... < 100 DM', 'savings_100 <= ... < 500 DM',\n",
       "       'savings_500 <= ... < 1000 DM ', 'savings_unknown/ no savings account',\n",
       "       'present_emp_since_.. >= 7 years', 'present_emp_since_... < 1 year ',\n",
       "       'present_emp_since_1 <= ... < 4 years',\n",
       "       'present_emp_since_4 <= ... < 7 years', 'present_emp_since_unemployed',\n",
       "       'personal_status_sex_female : divorced/separated/married',\n",
       "       'personal_status_sex_male : divorced/separated',\n",
       "       'personal_status_sex_male : married/widowed',\n",
       "       'personal_status_sex_male : single', 'other_debtors_co-applicant',\n",
       "       'other_debtors_guarantor', 'other_debtors_none',\n",
       "       'property_if not A121 : building society savings agreement/ life insurance',\n",
       "       'property_if not A121/A122 : car or other, not in attribute 6',\n",
       "       'property_real estate', 'property_unknown / no property',\n",
       "       'other_installment_plans_bank', 'other_installment_plans_none',\n",
       "       'other_installment_plans_stores', 'housing_for free', 'housing_own',\n",
       "       'housing_rent',\n",
       "       'job_management/ self-employed/ highly qualified employee/ officer',\n",
       "       'job_skilled employee / official',\n",
       "       'job_unemployed/ unskilled - non-resident', 'job_unskilled - resident',\n",
       "       'telephone_none', 'telephone_yes, registered under the customers name ',\n",
       "       'foreign_worker_no', 'foreign_worker_yes'],\n",
       "      dtype='object')"
      ]
     },
     "execution_count": 183,
     "metadata": {},
     "output_type": "execute_result"
    }
   ],
   "source": [
    "corr[corr['default']>0.1].columns"
   ]
  },
  {
   "cell_type": "code",
   "execution_count": 184,
   "metadata": {},
   "outputs": [
    {
     "data": {
      "text/plain": [
       "Index(['default', 'duration_in_month', 'credit_amount',\n",
       "       'installment_as_income_perc', 'present_res_since', 'age',\n",
       "       'credits_this_bank', 'people_under_maintenance',\n",
       "       'account_check_status_0 <= ... < 200 DM', 'account_check_status_< 0 DM',\n",
       "       'account_check_status_>= 200 DM / salary assignments for at least 1 year',\n",
       "       'account_check_status_no checking account',\n",
       "       'credit_history_all credits at this bank paid back duly',\n",
       "       'credit_history_critical account/ other credits existing (not at this bank)',\n",
       "       'credit_history_delay in paying off in the past',\n",
       "       'credit_history_existing credits paid back duly till now',\n",
       "       'credit_history_no credits taken/ all credits paid back duly',\n",
       "       'purpose_(vacation - does not exist?)', 'purpose_business',\n",
       "       'purpose_car (new)', 'purpose_car (used)',\n",
       "       'purpose_domestic appliances', 'purpose_education',\n",
       "       'purpose_furniture/equipment', 'purpose_radio/television',\n",
       "       'purpose_repairs', 'purpose_retraining', 'savings_.. >= 1000 DM ',\n",
       "       'savings_... < 100 DM', 'savings_100 <= ... < 500 DM',\n",
       "       'savings_500 <= ... < 1000 DM ', 'savings_unknown/ no savings account',\n",
       "       'present_emp_since_.. >= 7 years', 'present_emp_since_... < 1 year ',\n",
       "       'present_emp_since_1 <= ... < 4 years',\n",
       "       'present_emp_since_4 <= ... < 7 years', 'present_emp_since_unemployed',\n",
       "       'personal_status_sex_female : divorced/separated/married',\n",
       "       'personal_status_sex_male : divorced/separated',\n",
       "       'personal_status_sex_male : married/widowed',\n",
       "       'personal_status_sex_male : single', 'other_debtors_co-applicant',\n",
       "       'other_debtors_guarantor', 'other_debtors_none',\n",
       "       'property_if not A121 : building society savings agreement/ life insurance',\n",
       "       'property_if not A121/A122 : car or other, not in attribute 6',\n",
       "       'property_real estate', 'property_unknown / no property',\n",
       "       'other_installment_plans_bank', 'other_installment_plans_none',\n",
       "       'other_installment_plans_stores', 'housing_for free', 'housing_own',\n",
       "       'housing_rent',\n",
       "       'job_management/ self-employed/ highly qualified employee/ officer',\n",
       "       'job_skilled employee / official',\n",
       "       'job_unemployed/ unskilled - non-resident', 'job_unskilled - resident',\n",
       "       'telephone_none', 'telephone_yes, registered under the customers name ',\n",
       "       'foreign_worker_no', 'foreign_worker_yes'],\n",
       "      dtype='object')"
      ]
     },
     "execution_count": 184,
     "metadata": {},
     "output_type": "execute_result"
    }
   ],
   "source": [
    "corr[corr['default']<-0.1].columns"
   ]
  },
  {
   "cell_type": "markdown",
   "metadata": {
    "colab_type": "text",
    "id": "jeI1_7is_0pG"
   },
   "source": [
    "### Drop the original variables which are converted to dummy"
   ]
  },
  {
   "cell_type": "code",
   "execution_count": 185,
   "metadata": {
    "colab": {},
    "colab_type": "code",
    "id": "LYeShbCO_0pI"
   },
   "outputs": [],
   "source": [
    "credit_imputed_df=credit_df.drop(catcols,axis=1)"
   ]
  },
  {
   "cell_type": "code",
   "execution_count": 186,
   "metadata": {},
   "outputs": [
    {
     "data": {
      "text/plain": [
       "(1000, 62)"
      ]
     },
     "execution_count": 186,
     "metadata": {},
     "output_type": "execute_result"
    }
   ],
   "source": [
    "credit_imputed_df.shape"
   ]
  },
  {
   "cell_type": "markdown",
   "metadata": {
    "colab_type": "text",
    "id": "XLtFcI1m_0pQ"
   },
   "source": [
    "### Q3 Split Train/Test data 70:30 ratio( 1 Marks)\n",
    "##### Hint:from sklearn.model_selection import train_test_split"
   ]
  },
  {
   "cell_type": "code",
   "execution_count": 187,
   "metadata": {},
   "outputs": [],
   "source": [
    "from sklearn.model_selection import train_test_split\n"
   ]
  },
  {
   "cell_type": "code",
   "execution_count": 188,
   "metadata": {},
   "outputs": [],
   "source": [
    "X=credit_imputed_df.drop('default',axis=1)"
   ]
  },
  {
   "cell_type": "code",
   "execution_count": 189,
   "metadata": {},
   "outputs": [],
   "source": [
    "y=credit_imputed_df['default']"
   ]
  },
  {
   "cell_type": "code",
   "execution_count": 190,
   "metadata": {
    "colab": {},
    "colab_type": "code",
    "id": "pHxXKL92_0pS"
   },
   "outputs": [],
   "source": [
    "#Split the train and test data into 70:30 ration respectively\n",
    "X_train, X_test, y_train, y_test = train_test_split(X, y, test_size=0.30, random_state=1)"
   ]
  },
  {
   "cell_type": "markdown",
   "metadata": {
    "colab_type": "text",
    "id": "wWTpd4Ng_0pW"
   },
   "source": [
    "### Q4 Build Random Forest Model( 1 Marks)\n",
    "#### Hint:from sklearn.ensemble import RandomForestClassifier using n_jobs=2,n_estimators=500,criterion=\"entropy\",random_state=9999"
   ]
  },
  {
   "cell_type": "code",
   "execution_count": 191,
   "metadata": {
    "colab": {},
    "colab_type": "code",
    "id": "AHX5tgQm_0pY"
   },
   "outputs": [],
   "source": [
    "from sklearn.ensemble import RandomForestClassifier\n",
    "rfcl = RandomForestClassifier(n_jobs=2,n_estimators=500,criterion=\"entropy\",random_state=9999)\n",
    "rfcl = rfcl.fit(X_train, y_train)"
   ]
  },
  {
   "cell_type": "markdown",
   "metadata": {
    "colab_type": "text",
    "id": "LuQwgG7T_0pa"
   },
   "source": [
    "### Q5 Calculate Confusion Matrix and Accuracy score (1 Marks)\n",
    "##### Hint: Use confusion_matrix and accuracy_score"
   ]
  },
  {
   "cell_type": "code",
   "execution_count": 192,
   "metadata": {},
   "outputs": [],
   "source": [
    "from sklearn import metrics"
   ]
  },
  {
   "cell_type": "code",
   "execution_count": 193,
   "metadata": {
    "colab": {},
    "colab_type": "code",
    "id": "YgczdMEB_0pc"
   },
   "outputs": [
    {
     "name": "stdout",
     "output_type": "stream",
     "text": [
      "0.7433333333333333\n",
      "[[197  17]\n",
      " [ 60  26]]\n"
     ]
    }
   ],
   "source": [
    "y_predict = rfcl.predict(X_test)\n",
    "print(rfcl.score(X_test , y_test))\n",
    "print(metrics.confusion_matrix(y_test, y_predict))"
   ]
  },
  {
   "cell_type": "code",
   "execution_count": 194,
   "metadata": {},
   "outputs": [
    {
     "data": {
      "text/plain": [
       "74.33333333333333"
      ]
     },
     "execution_count": 194,
     "metadata": {},
     "output_type": "execute_result"
    }
   ],
   "source": [
    "acc=metrics.accuracy_score(y_test, y_predict)\n",
    "acc*100"
   ]
  },
  {
   "cell_type": "markdown",
   "metadata": {
    "colab_type": "text",
    "id": "x2wDGYcC_0pf"
   },
   "source": [
    "### Q6 Show the list of the features importance( 1 Marks)"
   ]
  },
  {
   "cell_type": "code",
   "execution_count": 195,
   "metadata": {
    "colab": {},
    "colab_type": "code",
    "id": "bEWKBXX8_0ph"
   },
   "outputs": [
    {
     "name": "stdout",
     "output_type": "stream",
     "text": [
      "[0.0720369  0.10011299 0.03698526 0.03336023 0.07812153 0.01887908\n",
      " 0.01134648 0.01671098 0.03092904 0.00733814 0.0447593  0.00769965\n",
      " 0.02938331 0.00989199 0.01463478 0.01253093 0.00565399 0.01148948\n",
      " 0.01805625 0.01189063 0.01544127 0.00444066 0.0015188  0.01262918\n",
      " 0.002495   0.00095491 0.00854398 0.02014251 0.00914877 0.00585681\n",
      " 0.01370746 0.01401708 0.01406608 0.0150978  0.01236615 0.00753987\n",
      " 0.01564968 0.00650298 0.00716742 0.01598798 0.00792537 0.00874017\n",
      " 0.01067193 0.01268978 0.01412935 0.01491938 0.01014396 0.01428347\n",
      " 0.01744218 0.00769151 0.00703641 0.01458963 0.01045272 0.0115418\n",
      " 0.01510074 0.00197804 0.01112365 0.01424959 0.0143988  0.00275009\n",
      " 0.00305608]\n"
     ]
    }
   ],
   "source": [
    "print(rfcl.feature_importances_)"
   ]
  },
  {
   "cell_type": "code",
   "execution_count": 196,
   "metadata": {},
   "outputs": [
    {
     "name": "stdout",
     "output_type": "stream",
     "text": [
      "                                                    Importance\n",
      "duration_in_month                                     0.072037\n",
      "credit_amount                                         0.100113\n",
      "installment_as_income_perc                            0.036985\n",
      "present_res_since                                     0.033360\n",
      "age                                                   0.078122\n",
      "credits_this_bank                                     0.018879\n",
      "people_under_maintenance                              0.011346\n",
      "account_check_status_0 <= ... < 200 DM                0.016711\n",
      "account_check_status_< 0 DM                           0.030929\n",
      "account_check_status_>= 200 DM / salary assignm...    0.007338\n",
      "account_check_status_no checking account              0.044759\n",
      "credit_history_all credits at this bank paid ba...    0.007700\n",
      "credit_history_critical account/ other credits ...    0.029383\n",
      "credit_history_delay in paying off in the past        0.009892\n",
      "credit_history_existing credits paid back duly ...    0.014635\n",
      "credit_history_no credits taken/ all credits pa...    0.012531\n",
      "purpose_(vacation - does not exist?)                  0.005654\n",
      "purpose_business                                      0.011489\n",
      "purpose_car (new)                                     0.018056\n",
      "purpose_car (used)                                    0.011891\n",
      "purpose_domestic appliances                           0.015441\n",
      "purpose_education                                     0.004441\n",
      "purpose_furniture/equipment                           0.001519\n",
      "purpose_radio/television                              0.012629\n",
      "purpose_repairs                                       0.002495\n",
      "purpose_retraining                                    0.000955\n",
      "savings_.. >= 1000 DM                                 0.008544\n",
      "savings_... < 100 DM                                  0.020143\n",
      "savings_100 <= ... < 500 DM                           0.009149\n",
      "savings_500 <= ... < 1000 DM                          0.005857\n",
      "...                                                        ...\n",
      "present_emp_since_.. >= 7 years                       0.014017\n",
      "present_emp_since_... < 1 year                        0.014066\n",
      "present_emp_since_1 <= ... < 4 years                  0.015098\n",
      "present_emp_since_4 <= ... < 7 years                  0.012366\n",
      "present_emp_since_unemployed                          0.007540\n",
      "personal_status_sex_female : divorced/separated...    0.015650\n",
      "personal_status_sex_male : divorced/separated         0.006503\n",
      "personal_status_sex_male : married/widowed            0.007167\n",
      "personal_status_sex_male : single                     0.015988\n",
      "other_debtors_co-applicant                            0.007925\n",
      "other_debtors_guarantor                               0.008740\n",
      "other_debtors_none                                    0.010672\n",
      "property_if not A121 : building society savings...    0.012690\n",
      "property_if not A121/A122 : car or other, not i...    0.014129\n",
      "property_real estate                                  0.014919\n",
      "property_unknown / no property                        0.010144\n",
      "other_installment_plans_bank                          0.014283\n",
      "other_installment_plans_none                          0.017442\n",
      "other_installment_plans_stores                        0.007692\n",
      "housing_for free                                      0.007036\n",
      "housing_own                                           0.014590\n",
      "housing_rent                                          0.010453\n",
      "job_management/ self-employed/ highly qualified...    0.011542\n",
      "job_skilled employee / official                       0.015101\n",
      "job_unemployed/ unskilled - non-resident              0.001978\n",
      "job_unskilled - resident                              0.011124\n",
      "telephone_none                                        0.014250\n",
      "telephone_yes, registered under the customers n...    0.014399\n",
      "foreign_worker_no                                     0.002750\n",
      "foreign_worker_yes                                    0.003056\n",
      "\n",
      "[61 rows x 1 columns]\n"
     ]
    }
   ],
   "source": [
    "print (pd.DataFrame(rfcl.feature_importances_, columns = [\"Importance\"], index = X_train.columns))"
   ]
  },
  {
   "cell_type": "markdown",
   "metadata": {
    "colab_type": "text",
    "id": "U7VnUE71_0pk"
   },
   "source": [
    "### Q7 K-fold cross-validation( 2 Marks)\n",
    "##### k-fold cross validation( without stratification)\n",
    "##### Usually k is set as 10-20 in practical settings, depends on data set size"
   ]
  },
  {
   "cell_type": "code",
   "execution_count": 197,
   "metadata": {
    "colab": {},
    "colab_type": "code",
    "id": "Pf6rIo-c_0pm"
   },
   "outputs": [],
   "source": [
    "from sklearn.model_selection import KFold\n",
    "from sklearn.model_selection import cross_val_score"
   ]
  },
  {
   "cell_type": "code",
   "execution_count": 198,
   "metadata": {
    "colab": {},
    "colab_type": "code",
    "id": "SLIiX3BP_0pp"
   },
   "outputs": [],
   "source": [
    "# Use below values\n",
    "num_folds = 10\n",
    "seed = 77"
   ]
  },
  {
   "cell_type": "code",
   "execution_count": 199,
   "metadata": {},
   "outputs": [],
   "source": [
    "scores = cross_val_score(rfcl, X, y, cv=10)\n"
   ]
  },
  {
   "cell_type": "code",
   "execution_count": 200,
   "metadata": {},
   "outputs": [
    {
     "data": {
      "text/plain": [
       "0.768"
      ]
     },
     "execution_count": 200,
     "metadata": {},
     "output_type": "execute_result"
    }
   ],
   "source": [
    "scores.mean()"
   ]
  },
  {
   "cell_type": "code",
   "execution_count": 201,
   "metadata": {},
   "outputs": [
    {
     "data": {
      "text/plain": [
       "0.03487119154832538"
      ]
     },
     "execution_count": 201,
     "metadata": {},
     "output_type": "execute_result"
    }
   ],
   "source": [
    "scores.std()"
   ]
  },
  {
   "cell_type": "code",
   "execution_count": 204,
   "metadata": {},
   "outputs": [],
   "source": [
    "#Validate the Random Forest model build above using k fold"
   ]
  },
  {
   "cell_type": "code",
   "execution_count": 205,
   "metadata": {},
   "outputs": [
    {
     "name": "stdout",
     "output_type": "stream",
     "text": [
      "0.86\n",
      "0.71\n",
      "0.76\n",
      "0.79\n",
      "0.8\n",
      "0.67\n",
      "0.74\n",
      "0.8\n",
      "0.76\n",
      "0.76\n"
     ]
    }
   ],
   "source": [
    "cv = KFold(n_splits=num_folds,random_state=seed)\n",
    "list_scores=[]\n",
    "for train, test in cv.split(X, y):\n",
    "    X_train_val, X_test_val = X.iloc[train], X.iloc[test]\n",
    "    y_train_val, y_test_val = y.iloc[train], y.iloc[test]\n",
    "    rfcl.fit(X_train_val, y_train_val)\n",
    "    s=rfcl.score(X_test_val, y_test_val)\n",
    "    list_scores.append(s)\n",
    "    print(rfcl.score(X_test_val, y_test_val))\n",
    "\n"
   ]
  },
  {
   "cell_type": "code",
   "execution_count": 206,
   "metadata": {
    "colab": {},
    "colab_type": "code",
    "id": "6r8p73dT_0p6"
   },
   "outputs": [],
   "source": [
    "#Calculate Mean score"
   ]
  },
  {
   "cell_type": "code",
   "execution_count": 207,
   "metadata": {
    "colab": {},
    "colab_type": "code",
    "id": "qtGEiGuu_0qA"
   },
   "outputs": [
    {
     "data": {
      "text/plain": [
       "0.765"
      ]
     },
     "execution_count": 207,
     "metadata": {},
     "output_type": "execute_result"
    }
   ],
   "source": [
    "np.mean(list_scores)"
   ]
  },
  {
   "cell_type": "code",
   "execution_count": 208,
   "metadata": {
    "colab": {},
    "colab_type": "code",
    "id": "Rr132f7H_0qD"
   },
   "outputs": [],
   "source": [
    "# Calculate score standard deviation using std()"
   ]
  },
  {
   "cell_type": "code",
   "execution_count": 209,
   "metadata": {
    "colab": {},
    "colab_type": "code",
    "id": "44JxPbHG_0qH"
   },
   "outputs": [
    {
     "data": {
      "text/plain": [
       "0.049849774322458074"
      ]
     },
     "execution_count": 209,
     "metadata": {},
     "output_type": "execute_result"
    }
   ],
   "source": [
    "np.std(list_scores)"
   ]
  },
  {
   "cell_type": "code",
   "execution_count": 210,
   "metadata": {},
   "outputs": [],
   "source": [
    "# as you can see from above , the scores are almost same.\n",
    "#since the accuracy is not upto the mark , we have to put some hyper parameters in the model and also reduce the dimensions"
   ]
  },
  {
   "cell_type": "markdown",
   "metadata": {
    "colab_type": "text",
    "id": "kB0x5yLs_0qM"
   },
   "source": [
    "# Q8 Print the confusion matrix( 1 Marks)"
   ]
  },
  {
   "cell_type": "code",
   "execution_count": 211,
   "metadata": {
    "colab": {},
    "colab_type": "code",
    "id": "WiS5l8Cn_0qO"
   },
   "outputs": [
    {
     "name": "stdout",
     "output_type": "stream",
     "text": [
      "[[197  17]\n",
      " [ 60  26]]\n"
     ]
    }
   ],
   "source": [
    "print(metrics.confusion_matrix(y_test, y_predict))"
   ]
  },
  {
   "cell_type": "markdown",
   "metadata": {
    "colab_type": "text",
    "id": "uMLxrkNg_0qR"
   },
   "source": [
    "# Q9.Classification accuracy: \n",
    "percentage of correct predictions and Calculate sensitivity (or True Positive Rate or Recall) and Precision.\n",
    "( 1 Marks)"
   ]
  },
  {
   "cell_type": "code",
   "execution_count": 212,
   "metadata": {
    "colab": {},
    "colab_type": "code",
    "id": "QUG5Y_li_0qT"
   },
   "outputs": [
    {
     "name": "stdout",
     "output_type": "stream",
     "text": [
      "              precision    recall  f1-score   support\n",
      "\n",
      "           0       0.77      0.92      0.84       214\n",
      "           1       0.60      0.30      0.40        86\n",
      "\n",
      "   micro avg       0.74      0.74      0.74       300\n",
      "   macro avg       0.69      0.61      0.62       300\n",
      "weighted avg       0.72      0.74      0.71       300\n",
      "\n"
     ]
    }
   ],
   "source": [
    "cr=metrics.classification_report(y_test, y_predict)\n",
    "print(cr)"
   ]
  },
  {
   "cell_type": "code",
   "execution_count": 213,
   "metadata": {
    "colab": {},
    "colab_type": "code",
    "id": "IS9CZaZr_0qX"
   },
   "outputs": [],
   "source": [
    "#Here recall for 1 is 0.30 and precision is 0.60\n",
    "#Recall for 0 is 0.92 and precision is 0.77\n"
   ]
  },
  {
   "cell_type": "code",
   "execution_count": 214,
   "metadata": {},
   "outputs": [
    {
     "data": {
      "text/plain": [
       "74.33333333333333"
      ]
     },
     "execution_count": 214,
     "metadata": {},
     "output_type": "execute_result"
    }
   ],
   "source": [
    "#percentage of correct predictions\n",
    "acc=metrics.accuracy_score(y_test, y_predict)\n",
    "acc*100"
   ]
  },
  {
   "cell_type": "markdown",
   "metadata": {
    "colab_type": "text",
    "id": "IlPEO3pO_0qa"
   },
   "source": [
    "# Q10.Plot Receiver Operating Characteristic (ROC) Curves( 1 Marks)"
   ]
  },
  {
   "cell_type": "code",
   "execution_count": 215,
   "metadata": {
    "colab": {},
    "colab_type": "code",
    "id": "YGyM8Uh4_0qb"
   },
   "outputs": [],
   "source": [
    "#Hint: Use roc_curve"
   ]
  },
  {
   "cell_type": "code",
   "execution_count": 216,
   "metadata": {
    "colab": {},
    "colab_type": "code",
    "id": "ZCJ-wYLX_0qo"
   },
   "outputs": [
    {
     "data": {
      "image/png": "[encoded data removed]",
      "text/plain": [
       "<Figure size 432x288 with 1 Axes>"
      ]
     },
     "metadata": {
      "needs_background": "light"
     },
     "output_type": "display_data"
    }
   ],
   "source": [
    "from sklearn.metrics import roc_curve\n",
    "fpr, tpr, thresholds = roc_curve(y_test, y_predict)\n",
    "# Plot ROC curve\n",
    "plt.plot([0, 1], [0, 1], 'k--')\n",
    "plt.plot(fpr, tpr)\n",
    "plt.xlabel('False Positive Rate')\n",
    "plt.ylabel('True Positive Rate')\n",
    "plt.title('ROC Curve')\n",
    "plt.show()"
   ]
  },
  {
   "cell_type": "code",
   "execution_count": null,
   "metadata": {},
   "outputs": [],
   "source": []
  },
  {
   "cell_type": "markdown",
   "metadata": {
    "colab_type": "text",
    "id": "annGF0Bh_0qr"
   },
   "source": [
    "ROC curve can help you to choose a threshold that balances sensitivity and specificity in a way that makes sense for your particular context"
   ]
  },
  {
   "cell_type": "markdown",
   "metadata": {
    "colab_type": "text",
    "id": "rE4Qbbh5_0qt"
   },
   "source": [
    "# Q11. Calculate AUC(the percentage of the ROC plot that is underneath the curve) - optional"
   ]
  },
  {
   "cell_type": "code",
   "execution_count": 217,
   "metadata": {
    "colab": {},
    "colab_type": "code",
    "id": "8nwRSPz4_0qu"
   },
   "outputs": [
    {
     "data": {
      "text/plain": [
       "0.6114431645294501"
      ]
     },
     "execution_count": 217,
     "metadata": {},
     "output_type": "execute_result"
    }
   ],
   "source": [
    "from sklearn.metrics import roc_auc_score\n",
    "auc = roc_auc_score(y_test, y_predict)\n",
    "auc"
   ]
  },
  {
   "cell_type": "markdown",
   "metadata": {
    "colab_type": "text",
    "id": "BZ43LYtQ_0q9"
   },
   "source": [
    "### Bootstrapping ( Bonus)\n",
    "##### Given a dataset of size n, a bootstrap sample is created by sampling n instances uniformly from the data (with/without replacement)\n",
    "##### Create a model with each bootstrap sample and validate it with the test set\n",
    "##### Final result is calculated by averaging the accuracy of models"
   ]
  },
  {
   "cell_type": "code",
   "execution_count": 218,
   "metadata": {
    "colab": {},
    "colab_type": "code",
    "id": "8KwXPTNE_0q9"
   },
   "outputs": [],
   "source": [
    "# Number of iterations for bootstrapping\n",
    "bootstrap_iteration = 10\n",
    "accuracy = []"
   ]
  },
  {
   "cell_type": "code",
   "execution_count": 219,
   "metadata": {
    "colab": {},
    "colab_type": "code",
    "id": "rVQTCij9_0rA"
   },
   "outputs": [],
   "source": [
    "from sklearn.utils import resample\n",
    "from sklearn.metrics import accuracy_score\n",
    "\n",
    "for i in range(bootstrap_iteration):\n",
    "    X_, y_ = resample(X_train, y_train)\n",
    "    rfcl.fit(X_, y_)\n",
    "    y_pred = rfcl.predict(X_test)\n",
    "    \n",
    "    acc = accuracy_score(y_pred, y_test)\n",
    "    accuracy.append(acc)"
   ]
  },
  {
   "cell_type": "code",
   "execution_count": 220,
   "metadata": {
    "colab": {},
    "colab_type": "code",
    "id": "lRtfc6p7_0rD",
    "outputId": "6b6e9b14-0652-4550-83e0-7bb2ca3f0481"
   },
   "outputs": [
    {
     "name": "stdout",
     "output_type": "stream",
     "text": [
      "Accuracy Score\n",
      "Avearge:  0.75\n",
      "Standard deviation:  0.012202003478482102\n"
     ]
    }
   ],
   "source": [
    "accuracy = np.array(accuracy)\n",
    "print('Accuracy Score')\n",
    "print('Avearge: ', accuracy.mean())\n",
    "print('Standard deviation: ', accuracy.std())"
   ]
  },
  {
   "cell_type": "code",
   "execution_count": 0,
   "metadata": {
    "colab": {},
    "colab_type": "code",
    "id": "7ItbXIpd_0rH"
   },
   "outputs": [],
   "source": []
  }
 ],
 "metadata": {
  "colab": {
   "name": "R4_External_Lab_Validation_Accuracy.ipynb",
   "provenance": [],
   "version": "0.3.2"
  },
  "kernelspec": {
   "display_name": "Python 3",
   "language": "python",
   "name": "python3"
  },
  "language_info": {
   "codemirror_mode": {
    "name": "ipython",
    "version": 3
   },
   "file_extension": ".py",
   "mimetype": "text/x-python",
   "name": "python",
   "nbconvert_exporter": "python",
   "pygments_lexer": "ipython3",
   "version": "3.7.3"
  }
 },
 "nbformat": 4,
 "nbformat_minor": 1
}
