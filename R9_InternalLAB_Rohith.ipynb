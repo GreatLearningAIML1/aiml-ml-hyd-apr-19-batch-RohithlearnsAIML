{
  "nbformat": 4,
  "nbformat_minor": 0,
  "metadata": {
    "colab": {
      "name": "time_series_prediction_lstm_melbourne_daily_temprature_data_questions.ipynb",
      "provenance": [],
      "toc_visible": true
    },
    "kernelspec": {
      "display_name": "Python 3",
      "language": "python",
      "name": "python3"
    },
    "language_info": {
      "codemirror_mode": {
        "name": "ipython",
        "version": 3
      },
      "file_extension": ".py",
      "mimetype": "text/x-python",
      "name": "python",
      "nbconvert_exporter": "python",
      "pygments_lexer": "ipython3",
      "version": "3.7.1"
    }
  },
  "cells": [
    {
      "cell_type": "markdown",
      "metadata": {
        "id": "739y6ieWvJFE",
        "colab_type": "text"
      },
      "source": [
        "## Time Series Prediction using LSTM"
      ]
    },
    {
      "cell_type": "markdown",
      "metadata": {
        "id": "Vm4d9mokvJFJ",
        "colab_type": "text"
      },
      "source": [
        "### Download Data\n",
        "Link: https://datamarket.com/data/set/2324/daily-minimum-temperatures-in-melbourne-australia-1981-1990#!ds=2324&display=line\n",
        "\n",
        "#### Description\n",
        "Daily minimum temperatures in Melbourne, Australia, 1981-1990\n",
        "\n",
        "Units: Degrees Celcius\n",
        "\n",
        "#### Steps before loading\n",
        "- Rename the column name with temprature values to \"Temprature\"\n",
        "- In the last, there is one extra row in the data, remove it by opening the file and save it again.\n",
        "- There are some values in Temprature column which have a \"?\" before them, they will give error, remove \"?\" before them and save the file\n",
        "- If you don't want to do these steps, just load the data file given by Great Learning."
      ]
    },
    {
      "cell_type": "markdown",
      "metadata": {
        "id": "eEOzcUn8vJFM",
        "colab_type": "text"
      },
      "source": [
        "#### Mount google drive"
      ]
    },
    {
      "cell_type": "code",
      "metadata": {
        "id": "b4kB8X85wJlU",
        "colab_type": "code",
        "colab": {
          "base_uri": "https://localhost:8080/",
          "height": 124
        },
        "outputId": "fb1dbcd8-ea41-401f-ddb0-795392bb1a45"
      },
      "source": [
        "from google.colab import drive\n",
        "drive.mount('/content/drive')"
      ],
      "execution_count": 1,
      "outputs": [
        {
          "output_type": "stream",
          "text": [
            "Go to this URL in a browser: https://accounts.google.com/o/oauth2/auth?client_id=947318989803-6bn6qk8qdgf4n4g3pfee6491hc0brc4i.apps.googleusercontent.com&redirect_uri=urn%3aietf%3awg%3aoauth%3a2.0%3aoob&response_type=code&scope=email%20https%3a%2f%2fwww.googleapis.com%2fauth%2fdocs.test%20https%3a%2f%2fwww.googleapis.com%2fauth%2fdrive%20https%3a%2f%2fwww.googleapis.com%2fauth%2fdrive.photos.readonly%20https%3a%2f%2fwww.googleapis.com%2fauth%2fpeopleapi.readonly\n",
            "\n",
            "Enter your authorization code:\n",
            "··········\n",
            "Mounted at /content/drive\n"
          ],
          "name": "stdout"
        }
      ]
    },
    {
      "cell_type": "code",
      "metadata": {
        "colab_type": "code",
        "id": "VjoLRSg57qlt",
        "colab": {}
      },
      "source": [
        "import pandas as pd\n",
        "import numpy as np\n"
      ],
      "execution_count": 0,
      "outputs": []
    },
    {
      "cell_type": "markdown",
      "metadata": {
        "id": "wPnG-8-6vJFk",
        "colab_type": "text"
      },
      "source": [
        "#### Change your present working directory"
      ]
    },
    {
      "cell_type": "code",
      "metadata": {
        "id": "W7fu3mtxvJFm",
        "colab_type": "code",
        "colab": {
          "base_uri": "https://localhost:8080/",
          "height": 35
        },
        "outputId": "ac8477fc-4338-4342-d285-af3079e214f2"
      },
      "source": [
        "import os\n",
        "path = os.getcwd()\n",
        "\n",
        "print(path)"
      ],
      "execution_count": 7,
      "outputs": [
        {
          "output_type": "stream",
          "text": [
            "/content/drive/My Drive/Sequence Models LAB\n"
          ],
          "name": "stdout"
        }
      ]
    },
    {
      "cell_type": "code",
      "metadata": {
        "id": "7UtO4u0Sw2zo",
        "colab_type": "code",
        "colab": {}
      },
      "source": [
        "os.chdir('/content/drive/My Drive/Sequence Models LAB')"
      ],
      "execution_count": 0,
      "outputs": []
    },
    {
      "cell_type": "markdown",
      "metadata": {
        "id": "r7LGZi2fvJFt",
        "colab_type": "text"
      },
      "source": [
        "### Load your data file"
      ]
    },
    {
      "cell_type": "code",
      "metadata": {
        "colab_type": "code",
        "id": "AanHqGBu7Jw2",
        "outputId": "5948052e-afaa-40f5-f34a-9a809d34769e",
        "colab": {
          "base_uri": "https://localhost:8080/",
          "height": 233
        }
      },
      "source": [
        "df = pd.read_csv('/content/drive/My Drive/Sequence Models LAB/daily-minimum-temperatures-in-me.csv', index_col='Date')\n",
        "df.sort_index(inplace=True)\n",
        "df.head()"
      ],
      "execution_count": 8,
      "outputs": [
        {
          "output_type": "execute_result",
          "data": {
            "text/html": [
              "<div>\n",
              "<style scoped>\n",
              "    .dataframe tbody tr th:only-of-type {\n",
              "        vertical-align: middle;\n",
              "    }\n",
              "\n",
              "    .dataframe tbody tr th {\n",
              "        vertical-align: top;\n",
              "    }\n",
              "\n",
              "    .dataframe thead th {\n",
              "        text-align: right;\n",
              "    }\n",
              "</style>\n",
              "<table border=\"1\" class=\"dataframe\">\n",
              "  <thead>\n",
              "    <tr style=\"text-align: right;\">\n",
              "      <th></th>\n",
              "      <th>Temperature</th>\n",
              "    </tr>\n",
              "    <tr>\n",
              "      <th>Date</th>\n",
              "      <th></th>\n",
              "    </tr>\n",
              "  </thead>\n",
              "  <tbody>\n",
              "    <tr>\n",
              "      <th>1981-01-01</th>\n",
              "      <td>20.7</td>\n",
              "    </tr>\n",
              "    <tr>\n",
              "      <th>1981-01-02</th>\n",
              "      <td>17.9</td>\n",
              "    </tr>\n",
              "    <tr>\n",
              "      <th>1981-01-03</th>\n",
              "      <td>18.8</td>\n",
              "    </tr>\n",
              "    <tr>\n",
              "      <th>1981-01-04</th>\n",
              "      <td>14.6</td>\n",
              "    </tr>\n",
              "    <tr>\n",
              "      <th>1981-01-05</th>\n",
              "      <td>15.8</td>\n",
              "    </tr>\n",
              "  </tbody>\n",
              "</table>\n",
              "</div>"
            ],
            "text/plain": [
              "            Temperature\n",
              "Date                   \n",
              "1981-01-01         20.7\n",
              "1981-01-02         17.9\n",
              "1981-01-03         18.8\n",
              "1981-01-04         14.6\n",
              "1981-01-05         15.8"
            ]
          },
          "metadata": {
            "tags": []
          },
          "execution_count": 8
        }
      ]
    },
    {
      "cell_type": "markdown",
      "metadata": {
        "id": "C1QGfN4qvJF7",
        "colab_type": "text"
      },
      "source": [
        "#### Plot data"
      ]
    },
    {
      "cell_type": "code",
      "metadata": {
        "id": "5fgxpIIgvJF9",
        "colab_type": "code",
        "colab": {
          "base_uri": "https://localhost:8080/",
          "height": 297
        },
        "outputId": "a92d7032-eaa8-4f08-923f-32ac7db1cda4"
      },
      "source": [
        "df.plot()"
      ],
      "execution_count": 9,
      "outputs": [
        {
          "output_type": "execute_result",
          "data": {
            "text/plain": [
              "<matplotlib.axes._subplots.AxesSubplot at 0x7f872634e9e8>"
            ]
          },
          "metadata": {
            "tags": []
          },
          "execution_count": 9
        },
        {
          "output_type": "display_data",
          "data": {
            "image/png": "[encoded data removed]",
            "text/plain": [
              "<Figure size 432x288 with 1 Axes>"
            ]
          },
          "metadata": {
            "tags": []
          }
        }
      ]
    },
    {
      "cell_type": "markdown",
      "metadata": {
        "id": "nZi1_LAZvJGQ",
        "colab_type": "text"
      },
      "source": [
        "#### Descibe your dataframe"
      ]
    },
    {
      "cell_type": "code",
      "metadata": {
        "colab_type": "code",
        "id": "oBWNA_kG7JxC",
        "outputId": "d44b54c6-3f26-40f0-bdf6-5c5cdd584be0",
        "colab": {
          "base_uri": "https://localhost:8080/",
          "height": 294
        }
      },
      "source": [
        "df.describe()"
      ],
      "execution_count": 10,
      "outputs": [
        {
          "output_type": "execute_result",
          "data": {
            "text/html": [
              "<div>\n",
              "<style scoped>\n",
              "    .dataframe tbody tr th:only-of-type {\n",
              "        vertical-align: middle;\n",
              "    }\n",
              "\n",
              "    .dataframe tbody tr th {\n",
              "        vertical-align: top;\n",
              "    }\n",
              "\n",
              "    .dataframe thead th {\n",
              "        text-align: right;\n",
              "    }\n",
              "</style>\n",
              "<table border=\"1\" class=\"dataframe\">\n",
              "  <thead>\n",
              "    <tr style=\"text-align: right;\">\n",
              "      <th></th>\n",
              "      <th>Temperature</th>\n",
              "    </tr>\n",
              "  </thead>\n",
              "  <tbody>\n",
              "    <tr>\n",
              "      <th>count</th>\n",
              "      <td>3650.000000</td>\n",
              "    </tr>\n",
              "    <tr>\n",
              "      <th>mean</th>\n",
              "      <td>11.177753</td>\n",
              "    </tr>\n",
              "    <tr>\n",
              "      <th>std</th>\n",
              "      <td>4.071837</td>\n",
              "    </tr>\n",
              "    <tr>\n",
              "      <th>min</th>\n",
              "      <td>0.000000</td>\n",
              "    </tr>\n",
              "    <tr>\n",
              "      <th>25%</th>\n",
              "      <td>8.300000</td>\n",
              "    </tr>\n",
              "    <tr>\n",
              "      <th>50%</th>\n",
              "      <td>11.000000</td>\n",
              "    </tr>\n",
              "    <tr>\n",
              "      <th>75%</th>\n",
              "      <td>14.000000</td>\n",
              "    </tr>\n",
              "    <tr>\n",
              "      <th>max</th>\n",
              "      <td>26.300000</td>\n",
              "    </tr>\n",
              "  </tbody>\n",
              "</table>\n",
              "</div>"
            ],
            "text/plain": [
              "       Temperature\n",
              "count  3650.000000\n",
              "mean     11.177753\n",
              "std       4.071837\n",
              "min       0.000000\n",
              "25%       8.300000\n",
              "50%      11.000000\n",
              "75%      14.000000\n",
              "max      26.300000"
            ]
          },
          "metadata": {
            "tags": []
          },
          "execution_count": 10
        }
      ]
    },
    {
      "cell_type": "markdown",
      "metadata": {
        "id": "1e3uPfTRvJGq",
        "colab_type": "text"
      },
      "source": [
        "#### Check for null values"
      ]
    },
    {
      "cell_type": "code",
      "metadata": {
        "colab_type": "code",
        "id": "97MVIy_N7JxH",
        "outputId": "91eb5a3d-bc0d-4eef-a907-0a3134419c25",
        "colab": {
          "base_uri": "https://localhost:8080/",
          "height": 52
        }
      },
      "source": [
        "df.isnull().sum()"
      ],
      "execution_count": 11,
      "outputs": [
        {
          "output_type": "execute_result",
          "data": {
            "text/plain": [
              "Temperature    0\n",
              "dtype: int64"
            ]
          },
          "metadata": {
            "tags": []
          },
          "execution_count": 11
        }
      ]
    },
    {
      "cell_type": "markdown",
      "metadata": {
        "id": "t7P1E14cvJG9",
        "colab_type": "text"
      },
      "source": [
        "#### Drop null values"
      ]
    },
    {
      "cell_type": "code",
      "metadata": {
        "colab_type": "code",
        "id": "fgh7mdOI7JxS",
        "colab": {}
      },
      "source": [
        "\n",
        "df.dropna(inplace=True)"
      ],
      "execution_count": 0,
      "outputs": []
    },
    {
      "cell_type": "markdown",
      "metadata": {
        "id": "iiO2-IvrvJHI",
        "colab_type": "text"
      },
      "source": [
        "#### Get the representation of the distribution of data in the form of histogram"
      ]
    },
    {
      "cell_type": "code",
      "metadata": {
        "colab_type": "code",
        "id": "659sLAx27Jxc",
        "colab": {}
      },
      "source": [
        "import seaborn as sns"
      ],
      "execution_count": 0,
      "outputs": []
    },
    {
      "cell_type": "code",
      "metadata": {
        "id": "PFK7OzBsyWtx",
        "colab_type": "code",
        "colab": {
          "base_uri": "https://localhost:8080/",
          "height": 297
        },
        "outputId": "0d675310-9cf8-4ef4-ee79-a9de04e398b0"
      },
      "source": [
        "sns.distplot(df['Temperature'],kde=False)"
      ],
      "execution_count": 16,
      "outputs": [
        {
          "output_type": "execute_result",
          "data": {
            "text/plain": [
              "<matplotlib.axes._subplots.AxesSubplot at 0x7f871627dbe0>"
            ]
          },
          "metadata": {
            "tags": []
          },
          "execution_count": 16
        },
        {
          "output_type": "display_data",
          "data": {
            "image/png": "[encoded data removed]",
            "text/plain": [
              "<Figure size 432x288 with 1 Axes>"
            ]
          },
          "metadata": {
            "tags": []
          }
        }
      ]
    },
    {
      "cell_type": "markdown",
      "metadata": {
        "id": "Lnxsm24evJHm",
        "colab_type": "text"
      },
      "source": [
        "#### Check the maximum and minimum values"
      ]
    },
    {
      "cell_type": "code",
      "metadata": {
        "colab_type": "code",
        "id": "WmkjCx8c7Jxn",
        "outputId": "716e5735-854a-44ea-d90c-15fc3b804083",
        "colab": {
          "base_uri": "https://localhost:8080/",
          "height": 87
        }
      },
      "source": [
        "print('Min', np.min(df))\n",
        "print('Max', np.max(df))"
      ],
      "execution_count": 17,
      "outputs": [
        {
          "output_type": "stream",
          "text": [
            "Min Temperature    0.0\n",
            "dtype: float64\n",
            "Max Temperature    26.3\n",
            "dtype: float64\n"
          ],
          "name": "stdout"
        }
      ]
    },
    {
      "cell_type": "markdown",
      "metadata": {
        "id": "cSGap9CMvJHv",
        "colab_type": "text"
      },
      "source": [
        "### Normalize the data"
      ]
    },
    {
      "cell_type": "code",
      "metadata": {
        "colab_type": "code",
        "id": "fb4SNzD27Jxw",
        "colab": {}
      },
      "source": [
        "from sklearn.preprocessing import MinMaxScaler"
      ],
      "execution_count": 0,
      "outputs": []
    },
    {
      "cell_type": "code",
      "metadata": {
        "id": "6o0cI-n1y8mB",
        "colab_type": "code",
        "colab": {}
      },
      "source": [
        "#Normalize the data\n",
        "scaler = MinMaxScaler(feature_range=(0, 1))\n",
        "scaled = scaler.fit_transform(df)"
      ],
      "execution_count": 0,
      "outputs": []
    },
    {
      "cell_type": "markdown",
      "metadata": {
        "id": "kojxxvmMvJIB",
        "colab_type": "text"
      },
      "source": [
        "#### Check the maximum and minimum values of scaled data"
      ]
    },
    {
      "cell_type": "code",
      "metadata": {
        "colab_type": "code",
        "id": "clv2rSfL7Jx4",
        "outputId": "62714b72-7044-4443-9563-e10c751d86cf",
        "colab": {
          "base_uri": "https://localhost:8080/",
          "height": 52
        }
      },
      "source": [
        "#Check Data Range\n",
        "print('Min', np.min(scaled))\n",
        "print('Max', np.max(scaled))"
      ],
      "execution_count": 129,
      "outputs": [
        {
          "output_type": "stream",
          "text": [
            "Min 0.0\n",
            "Max 1.0\n"
          ],
          "name": "stdout"
        }
      ]
    },
    {
      "cell_type": "markdown",
      "metadata": {
        "id": "wbboQX4mvJIL",
        "colab_type": "text"
      },
      "source": [
        "#### Look into some of the scaled values"
      ]
    },
    {
      "cell_type": "code",
      "metadata": {
        "colab_type": "code",
        "id": "Xq9CBinO7Jx9",
        "outputId": "f388d5af-ec08-4779-99a4-3790b6f2a0aa",
        "colab": {
          "base_uri": "https://localhost:8080/",
          "height": 139
        }
      },
      "source": [
        "scaled"
      ],
      "execution_count": 128,
      "outputs": [
        {
          "output_type": "execute_result",
          "data": {
            "text/plain": [
              "array([[0.78707224],\n",
              "       [0.68060837],\n",
              "       [0.7148289 ],\n",
              "       ...,\n",
              "       [0.51330798],\n",
              "       [0.59695817],\n",
              "       [0.49429658]])"
            ]
          },
          "metadata": {
            "tags": []
          },
          "execution_count": 128
        }
      ]
    },
    {
      "cell_type": "markdown",
      "metadata": {
        "id": "6aWl3fX-vJIT",
        "colab_type": "text"
      },
      "source": [
        "### Split data into Training and Testing"
      ]
    },
    {
      "cell_type": "code",
      "metadata": {
        "id": "nNPDs3VHG58n",
        "colab_type": "code",
        "colab": {
          "base_uri": "https://localhost:8080/",
          "height": 52
        },
        "outputId": "36739e92-baba-4950-fb20-da94913383c1"
      },
      "source": [
        "#70% examples will used for training (in the begining)\n",
        "train_size = int(len(scaled) * 0.70)\n",
        "\n",
        "#30% will be used for Test\n",
        "test_size = len(scaled) - train_size\n",
        "\n",
        "#Split the data\n",
        "train, test = scaled[0:train_size, :], scaled[train_size: len(scaled), :]\n",
        "print('train: {}\\ntest: {}'.format(len(train), len(test)))"
      ],
      "execution_count": 127,
      "outputs": [
        {
          "output_type": "stream",
          "text": [
            "train: 2555\n",
            "test: 1095\n"
          ],
          "name": "stdout"
        }
      ]
    },
    {
      "cell_type": "markdown",
      "metadata": {
        "id": "S8N5dhLvvJIg",
        "colab_type": "text"
      },
      "source": [
        "#### Print train and test size"
      ]
    },
    {
      "cell_type": "code",
      "metadata": {
        "id": "d-IZ3MJQvJIi",
        "colab_type": "code",
        "colab": {
          "base_uri": "https://localhost:8080/",
          "height": 52
        },
        "outputId": "9f5e1ce4-e194-44f1-faf9-37b3ee8911cd"
      },
      "source": [
        "print('train: {}\\ntest: {}'.format(len(train), len(test)))"
      ],
      "execution_count": 130,
      "outputs": [
        {
          "output_type": "stream",
          "text": [
            "train: 2555\n",
            "test: 1095\n"
          ],
          "name": "stdout"
        }
      ]
    },
    {
      "cell_type": "markdown",
      "metadata": {
        "id": "Z4PsTNNgvJIp",
        "colab_type": "text"
      },
      "source": [
        "## Create the sequential data\n",
        "Map the temprature at a particular time t to the temprature at time t+n, where n is any number you define.\n",
        "\n",
        "For example: to map tempratures of consecutive days, use t+1, i.e. loop_back = 1"
      ]
    },
    {
      "cell_type": "markdown",
      "metadata": {
        "id": "AWAISxBavJIs",
        "colab_type": "text"
      },
      "source": [
        "#### Define your function to create dataset"
      ]
    },
    {
      "cell_type": "code",
      "metadata": {
        "colab_type": "code",
        "id": "jWIvInPB7JyK",
        "colab": {}
      },
      "source": [
        "def create_dataset(dataset):\n",
        "    \n",
        "    dataX, dataY = [], []\n",
        "    \n",
        "    for i in range(len(dataset)-1):\n",
        "        \n",
        "        a = dataset[i]  \n",
        "              \n",
        "        dataX.append(a)\n",
        "        dataY.append(dataset[i+1])\n",
        "    \n",
        "    return np.array(dataX), np.array(dataY)"
      ],
      "execution_count": 0,
      "outputs": []
    },
    {
      "cell_type": "markdown",
      "metadata": {
        "id": "r27fYRFCvJJB",
        "colab_type": "text"
      },
      "source": [
        "#### Use function to get training and test set"
      ]
    },
    {
      "cell_type": "code",
      "metadata": {
        "colab_type": "code",
        "id": "uarOJcPk7JyQ",
        "scrolled": true,
        "colab": {}
      },
      "source": [
        "#Create Input and Output\n",
        "X_train, y_train = create_dataset(train)\n",
        "X_test,y_test = create_dataset(test)\n"
      ],
      "execution_count": 0,
      "outputs": []
    },
    {
      "cell_type": "code",
      "metadata": {
        "id": "nBhtpmZeD7iM",
        "colab_type": "code",
        "colab": {
          "base_uri": "https://localhost:8080/",
          "height": 52
        },
        "outputId": "3d5e6ea0-3375-45e7-f801-1a4f006f60ed"
      },
      "source": [
        "print(X_train.shape)\n",
        "print(X_test.shape)"
      ],
      "execution_count": 135,
      "outputs": [
        {
          "output_type": "stream",
          "text": [
            "(2554, 1)\n",
            "(1094, 1)\n"
          ],
          "name": "stdout"
        }
      ]
    },
    {
      "cell_type": "markdown",
      "metadata": {
        "id": "IgYrTAEKvJJc",
        "colab_type": "text"
      },
      "source": [
        "#### Transform the prepared train and test input data into the expected structure using numpy.reshape()"
      ]
    },
    {
      "cell_type": "code",
      "metadata": {
        "colab_type": "code",
        "id": "UJZ4VB4N7JyV",
        "outputId": "e65f72f9-1116-4a52-ef2c-ac7cc316ef98",
        "colab": {
          "base_uri": "https://localhost:8080/",
          "height": 52
        }
      },
      "source": [
        "X_train = np.reshape(X_train, (X_train.shape[0], X_train.shape[1], 1))\n",
        "X_test = np.reshape(X_test, (X_test.shape[0], X_test.shape[1], 1))\n",
        "print(X_train.shape)\n",
        "print(X_test.shape)"
      ],
      "execution_count": 136,
      "outputs": [
        {
          "output_type": "stream",
          "text": [
            "(2554, 1, 1)\n",
            "(1094, 1, 1)\n"
          ],
          "name": "stdout"
        }
      ]
    },
    {
      "cell_type": "markdown",
      "metadata": {
        "id": "Y9nymiLDvJJl",
        "colab_type": "text"
      },
      "source": [
        "## Define Model"
      ]
    },
    {
      "cell_type": "code",
      "metadata": {
        "id": "n4A31pLrEd-y",
        "colab_type": "code",
        "colab": {}
      },
      "source": [
        "import tensorflow as tf\n",
        "tf.keras.backend.clear_session()\n",
        "model = tf.keras.Sequential()\n",
        "model.add(tf.keras.layers.LSTM(32, input_shape=(1, 1)))\n",
        "model.output\n",
        "model.add(tf.keras.layers.Dense(1))\n",
        "model.compile(optimizer='adam', loss='mse')\n"
      ],
      "execution_count": 0,
      "outputs": []
    },
    {
      "cell_type": "code",
      "metadata": {
        "id": "PREMjBYuEx2p",
        "colab_type": "code",
        "colab": {
          "base_uri": "https://localhost:8080/",
          "height": 225
        },
        "outputId": "c1fb95e1-ce0b-4e31-df18-8edc9226a19d"
      },
      "source": [
        "model.summary()"
      ],
      "execution_count": 138,
      "outputs": [
        {
          "output_type": "stream",
          "text": [
            "Model: \"sequential\"\n",
            "_________________________________________________________________\n",
            "Layer (type)                 Output Shape              Param #   \n",
            "=================================================================\n",
            "lstm (LSTM)                  (None, 32)                4352      \n",
            "_________________________________________________________________\n",
            "dense (Dense)                (None, 1)                 33        \n",
            "=================================================================\n",
            "Total params: 4,385\n",
            "Trainable params: 4,385\n",
            "Non-trainable params: 0\n",
            "_________________________________________________________________\n"
          ],
          "name": "stdout"
        }
      ]
    },
    {
      "cell_type": "markdown",
      "metadata": {
        "id": "SMg5ngIrvJJn",
        "colab_type": "text"
      },
      "source": [
        "### Define sequntial model, add LSTM layer and compile the model"
      ]
    },
    {
      "cell_type": "code",
      "metadata": {
        "colab_type": "code",
        "id": "yRW-Txvt7Jya",
        "colab": {}
      },
      "source": [
        ""
      ],
      "execution_count": 0,
      "outputs": []
    },
    {
      "cell_type": "markdown",
      "metadata": {
        "id": "RHrEtjoRvJKU",
        "colab_type": "text"
      },
      "source": [
        "### Summarize your model"
      ]
    },
    {
      "cell_type": "code",
      "metadata": {
        "id": "1gj08XsMvJKW",
        "colab_type": "code",
        "colab": {
          "base_uri": "https://localhost:8080/",
          "height": 225
        },
        "outputId": "420e759c-9f08-484c-934b-20fed2d01047"
      },
      "source": [
        "model.summary()"
      ],
      "execution_count": 139,
      "outputs": [
        {
          "output_type": "stream",
          "text": [
            "Model: \"sequential\"\n",
            "_________________________________________________________________\n",
            "Layer (type)                 Output Shape              Param #   \n",
            "=================================================================\n",
            "lstm (LSTM)                  (None, 32)                4352      \n",
            "_________________________________________________________________\n",
            "dense (Dense)                (None, 1)                 33        \n",
            "=================================================================\n",
            "Total params: 4,385\n",
            "Trainable params: 4,385\n",
            "Non-trainable params: 0\n",
            "_________________________________________________________________\n"
          ],
          "name": "stdout"
        }
      ]
    },
    {
      "cell_type": "markdown",
      "metadata": {
        "id": "9U6hI6wwvJKh",
        "colab_type": "text"
      },
      "source": [
        "### Train the model"
      ]
    },
    {
      "cell_type": "code",
      "metadata": {
        "id": "Q_BkiIX2vJKj",
        "colab_type": "code",
        "colab": {
          "base_uri": "https://localhost:8080/",
          "height": 1000
        },
        "outputId": "7e19b26b-8365-444a-963f-fbca935cd62d"
      },
      "source": [
        "model.fit(X_train, y_train, epochs=200, validation_data=(X_test, y_test), batch_size=32)"
      ],
      "execution_count": 140,
      "outputs": [
        {
          "output_type": "stream",
          "text": [
            "Train on 2554 samples, validate on 1094 samples\n",
            "Epoch 1/200\n",
            "2554/2554 [==============================] - 1s 335us/sample - loss: 0.0975 - val_loss: 0.0306\n",
            "Epoch 2/200\n",
            "2554/2554 [==============================] - 0s 118us/sample - loss: 0.0166 - val_loss: 0.0133\n",
            "Epoch 3/200\n",
            "2554/2554 [==============================] - 0s 113us/sample - loss: 0.0140 - val_loss: 0.0125\n",
            "Epoch 4/200\n",
            "2554/2554 [==============================] - 0s 117us/sample - loss: 0.0132 - val_loss: 0.0118\n",
            "Epoch 5/200\n",
            "2554/2554 [==============================] - 0s 116us/sample - loss: 0.0124 - val_loss: 0.0109\n",
            "Epoch 6/200\n",
            "2554/2554 [==============================] - 0s 110us/sample - loss: 0.0117 - val_loss: 0.0101\n",
            "Epoch 7/200\n",
            "2554/2554 [==============================] - 0s 116us/sample - loss: 0.0111 - val_loss: 0.0097\n",
            "Epoch 8/200\n",
            "2554/2554 [==============================] - 0s 126us/sample - loss: 0.0107 - val_loss: 0.0094\n",
            "Epoch 9/200\n",
            "2554/2554 [==============================] - 0s 119us/sample - loss: 0.0104 - val_loss: 0.0093\n",
            "Epoch 10/200\n",
            "2554/2554 [==============================] - 0s 131us/sample - loss: 0.0102 - val_loss: 0.0088\n",
            "Epoch 11/200\n",
            "2554/2554 [==============================] - 0s 124us/sample - loss: 0.0101 - val_loss: 0.0087\n",
            "Epoch 12/200\n",
            "2554/2554 [==============================] - 0s 120us/sample - loss: 0.0101 - val_loss: 0.0087\n",
            "Epoch 13/200\n",
            "2554/2554 [==============================] - 0s 114us/sample - loss: 0.0101 - val_loss: 0.0088\n",
            "Epoch 14/200\n",
            "2554/2554 [==============================] - 0s 113us/sample - loss: 0.0100 - val_loss: 0.0088\n",
            "Epoch 15/200\n",
            "2554/2554 [==============================] - 0s 111us/sample - loss: 0.0100 - val_loss: 0.0087\n",
            "Epoch 16/200\n",
            "2554/2554 [==============================] - 0s 124us/sample - loss: 0.0100 - val_loss: 0.0087\n",
            "Epoch 17/200\n",
            "2554/2554 [==============================] - 0s 136us/sample - loss: 0.0100 - val_loss: 0.0088\n",
            "Epoch 18/200\n",
            "2554/2554 [==============================] - 0s 116us/sample - loss: 0.0101 - val_loss: 0.0086\n",
            "Epoch 19/200\n",
            "2554/2554 [==============================] - 0s 120us/sample - loss: 0.0100 - val_loss: 0.0087\n",
            "Epoch 20/200\n",
            "2554/2554 [==============================] - 0s 124us/sample - loss: 0.0101 - val_loss: 0.0087\n",
            "Epoch 21/200\n",
            "2554/2554 [==============================] - 0s 124us/sample - loss: 0.0101 - val_loss: 0.0089\n",
            "Epoch 22/200\n",
            "2554/2554 [==============================] - 0s 116us/sample - loss: 0.0101 - val_loss: 0.0087\n",
            "Epoch 23/200\n",
            "2554/2554 [==============================] - 0s 114us/sample - loss: 0.0100 - val_loss: 0.0088\n",
            "Epoch 24/200\n",
            "2554/2554 [==============================] - 0s 118us/sample - loss: 0.0100 - val_loss: 0.0086\n",
            "Epoch 25/200\n",
            "2554/2554 [==============================] - 0s 130us/sample - loss: 0.0101 - val_loss: 0.0087\n",
            "Epoch 26/200\n",
            "2554/2554 [==============================] - 0s 120us/sample - loss: 0.0101 - val_loss: 0.0086\n",
            "Epoch 27/200\n",
            "2554/2554 [==============================] - 0s 121us/sample - loss: 0.0100 - val_loss: 0.0089\n",
            "Epoch 28/200\n",
            "2554/2554 [==============================] - 0s 115us/sample - loss: 0.0101 - val_loss: 0.0086\n",
            "Epoch 29/200\n",
            "2554/2554 [==============================] - 0s 113us/sample - loss: 0.0100 - val_loss: 0.0087\n",
            "Epoch 30/200\n",
            "2554/2554 [==============================] - 0s 115us/sample - loss: 0.0100 - val_loss: 0.0086\n",
            "Epoch 31/200\n",
            "2554/2554 [==============================] - 0s 119us/sample - loss: 0.0100 - val_loss: 0.0089\n",
            "Epoch 32/200\n",
            "2554/2554 [==============================] - 0s 125us/sample - loss: 0.0100 - val_loss: 0.0087\n",
            "Epoch 33/200\n",
            "2554/2554 [==============================] - 0s 115us/sample - loss: 0.0101 - val_loss: 0.0087\n",
            "Epoch 34/200\n",
            "2554/2554 [==============================] - 0s 113us/sample - loss: 0.0100 - val_loss: 0.0089\n",
            "Epoch 35/200\n",
            "2554/2554 [==============================] - 0s 114us/sample - loss: 0.0102 - val_loss: 0.0086\n",
            "Epoch 36/200\n",
            "2554/2554 [==============================] - 0s 130us/sample - loss: 0.0101 - val_loss: 0.0091\n",
            "Epoch 37/200\n",
            "2554/2554 [==============================] - 0s 124us/sample - loss: 0.0101 - val_loss: 0.0087\n",
            "Epoch 38/200\n",
            "2554/2554 [==============================] - 0s 129us/sample - loss: 0.0100 - val_loss: 0.0087\n",
            "Epoch 39/200\n",
            "2554/2554 [==============================] - 0s 118us/sample - loss: 0.0100 - val_loss: 0.0087\n",
            "Epoch 40/200\n",
            "2554/2554 [==============================] - 0s 122us/sample - loss: 0.0100 - val_loss: 0.0087\n",
            "Epoch 41/200\n",
            "2554/2554 [==============================] - 0s 118us/sample - loss: 0.0101 - val_loss: 0.0086\n",
            "Epoch 42/200\n",
            "2554/2554 [==============================] - 0s 114us/sample - loss: 0.0101 - val_loss: 0.0087\n",
            "Epoch 43/200\n",
            "2554/2554 [==============================] - 0s 117us/sample - loss: 0.0100 - val_loss: 0.0087\n",
            "Epoch 44/200\n",
            "2554/2554 [==============================] - 0s 116us/sample - loss: 0.0100 - val_loss: 0.0086\n",
            "Epoch 45/200\n",
            "2554/2554 [==============================] - 0s 127us/sample - loss: 0.0100 - val_loss: 0.0086\n",
            "Epoch 46/200\n",
            "2554/2554 [==============================] - 0s 126us/sample - loss: 0.0100 - val_loss: 0.0088\n",
            "Epoch 47/200\n",
            "2554/2554 [==============================] - 0s 114us/sample - loss: 0.0100 - val_loss: 0.0087\n",
            "Epoch 48/200\n",
            "2554/2554 [==============================] - 0s 117us/sample - loss: 0.0100 - val_loss: 0.0087\n",
            "Epoch 49/200\n",
            "2554/2554 [==============================] - 0s 130us/sample - loss: 0.0100 - val_loss: 0.0086\n",
            "Epoch 50/200\n",
            "2554/2554 [==============================] - 0s 124us/sample - loss: 0.0101 - val_loss: 0.0088\n",
            "Epoch 51/200\n",
            "2554/2554 [==============================] - 0s 122us/sample - loss: 0.0100 - val_loss: 0.0087\n",
            "Epoch 52/200\n",
            "2554/2554 [==============================] - 0s 118us/sample - loss: 0.0100 - val_loss: 0.0087\n",
            "Epoch 53/200\n",
            "2554/2554 [==============================] - 0s 126us/sample - loss: 0.0101 - val_loss: 0.0086\n",
            "Epoch 54/200\n",
            "2554/2554 [==============================] - 0s 135us/sample - loss: 0.0100 - val_loss: 0.0090\n",
            "Epoch 55/200\n",
            "2554/2554 [==============================] - 0s 114us/sample - loss: 0.0101 - val_loss: 0.0087\n",
            "Epoch 56/200\n",
            "2554/2554 [==============================] - 0s 116us/sample - loss: 0.0100 - val_loss: 0.0087\n",
            "Epoch 57/200\n",
            "2554/2554 [==============================] - 0s 117us/sample - loss: 0.0100 - val_loss: 0.0086\n",
            "Epoch 58/200\n",
            "2554/2554 [==============================] - 0s 118us/sample - loss: 0.0101 - val_loss: 0.0089\n",
            "Epoch 59/200\n",
            "2554/2554 [==============================] - 0s 113us/sample - loss: 0.0100 - val_loss: 0.0087\n",
            "Epoch 60/200\n",
            "2554/2554 [==============================] - 0s 115us/sample - loss: 0.0100 - val_loss: 0.0088\n",
            "Epoch 61/200\n",
            "2554/2554 [==============================] - 0s 118us/sample - loss: 0.0101 - val_loss: 0.0087\n",
            "Epoch 62/200\n",
            "2554/2554 [==============================] - 0s 119us/sample - loss: 0.0100 - val_loss: 0.0086\n",
            "Epoch 63/200\n",
            "2554/2554 [==============================] - 0s 124us/sample - loss: 0.0100 - val_loss: 0.0086\n",
            "Epoch 64/200\n",
            "2554/2554 [==============================] - 0s 115us/sample - loss: 0.0100 - val_loss: 0.0087\n",
            "Epoch 65/200\n",
            "2554/2554 [==============================] - 0s 113us/sample - loss: 0.0100 - val_loss: 0.0087\n",
            "Epoch 66/200\n",
            "2554/2554 [==============================] - 0s 118us/sample - loss: 0.0100 - val_loss: 0.0086\n",
            "Epoch 67/200\n",
            "2554/2554 [==============================] - 0s 128us/sample - loss: 0.0100 - val_loss: 0.0088\n",
            "Epoch 68/200\n",
            "2554/2554 [==============================] - 0s 119us/sample - loss: 0.0100 - val_loss: 0.0087\n",
            "Epoch 69/200\n",
            "2554/2554 [==============================] - 0s 130us/sample - loss: 0.0100 - val_loss: 0.0087\n",
            "Epoch 70/200\n",
            "2554/2554 [==============================] - 0s 116us/sample - loss: 0.0100 - val_loss: 0.0086\n",
            "Epoch 71/200\n",
            "2554/2554 [==============================] - 0s 114us/sample - loss: 0.0100 - val_loss: 0.0087\n",
            "Epoch 72/200\n",
            "2554/2554 [==============================] - 0s 112us/sample - loss: 0.0100 - val_loss: 0.0088\n",
            "Epoch 73/200\n",
            "2554/2554 [==============================] - 0s 117us/sample - loss: 0.0100 - val_loss: 0.0088\n",
            "Epoch 74/200\n",
            "2554/2554 [==============================] - 0s 121us/sample - loss: 0.0100 - val_loss: 0.0086\n",
            "Epoch 75/200\n",
            "2554/2554 [==============================] - 0s 115us/sample - loss: 0.0100 - val_loss: 0.0088\n",
            "Epoch 76/200\n",
            "2554/2554 [==============================] - 0s 113us/sample - loss: 0.0101 - val_loss: 0.0086\n",
            "Epoch 77/200\n",
            "2554/2554 [==============================] - 0s 122us/sample - loss: 0.0100 - val_loss: 0.0087\n",
            "Epoch 78/200\n",
            "2554/2554 [==============================] - 0s 124us/sample - loss: 0.0100 - val_loss: 0.0087\n",
            "Epoch 79/200\n",
            "2554/2554 [==============================] - 0s 126us/sample - loss: 0.0100 - val_loss: 0.0088\n",
            "Epoch 80/200\n",
            "2554/2554 [==============================] - 0s 113us/sample - loss: 0.0100 - val_loss: 0.0090\n",
            "Epoch 81/200\n",
            "2554/2554 [==============================] - 0s 115us/sample - loss: 0.0100 - val_loss: 0.0086\n",
            "Epoch 82/200\n",
            "2554/2554 [==============================] - 0s 127us/sample - loss: 0.0100 - val_loss: 0.0087\n",
            "Epoch 83/200\n",
            "2554/2554 [==============================] - 0s 123us/sample - loss: 0.0101 - val_loss: 0.0087\n",
            "Epoch 84/200\n",
            "2554/2554 [==============================] - 0s 130us/sample - loss: 0.0100 - val_loss: 0.0087\n",
            "Epoch 85/200\n",
            "2554/2554 [==============================] - 0s 115us/sample - loss: 0.0100 - val_loss: 0.0086\n",
            "Epoch 86/200\n",
            "2554/2554 [==============================] - 0s 114us/sample - loss: 0.0100 - val_loss: 0.0086\n",
            "Epoch 87/200\n",
            "2554/2554 [==============================] - 0s 115us/sample - loss: 0.0100 - val_loss: 0.0087\n",
            "Epoch 88/200\n",
            "2554/2554 [==============================] - 0s 129us/sample - loss: 0.0100 - val_loss: 0.0088\n",
            "Epoch 89/200\n",
            "2554/2554 [==============================] - 0s 125us/sample - loss: 0.0100 - val_loss: 0.0086\n",
            "Epoch 90/200\n",
            "2554/2554 [==============================] - 0s 120us/sample - loss: 0.0100 - val_loss: 0.0087\n",
            "Epoch 91/200\n",
            "2554/2554 [==============================] - 0s 119us/sample - loss: 0.0100 - val_loss: 0.0087\n",
            "Epoch 92/200\n",
            "2554/2554 [==============================] - 0s 138us/sample - loss: 0.0100 - val_loss: 0.0086\n",
            "Epoch 93/200\n",
            "2554/2554 [==============================] - 0s 118us/sample - loss: 0.0100 - val_loss: 0.0087\n",
            "Epoch 94/200\n",
            "2554/2554 [==============================] - 0s 110us/sample - loss: 0.0100 - val_loss: 0.0087\n",
            "Epoch 95/200\n",
            "2554/2554 [==============================] - 0s 122us/sample - loss: 0.0100 - val_loss: 0.0087\n",
            "Epoch 96/200\n",
            "2554/2554 [==============================] - 0s 118us/sample - loss: 0.0100 - val_loss: 0.0091\n",
            "Epoch 97/200\n",
            "2554/2554 [==============================] - 0s 113us/sample - loss: 0.0100 - val_loss: 0.0087\n",
            "Epoch 98/200\n",
            "2554/2554 [==============================] - 0s 117us/sample - loss: 0.0100 - val_loss: 0.0087\n",
            "Epoch 99/200\n",
            "2554/2554 [==============================] - 0s 119us/sample - loss: 0.0100 - val_loss: 0.0088\n",
            "Epoch 100/200\n",
            "2554/2554 [==============================] - 0s 119us/sample - loss: 0.0101 - val_loss: 0.0090\n",
            "Epoch 101/200\n",
            "2554/2554 [==============================] - 0s 111us/sample - loss: 0.0100 - val_loss: 0.0087\n",
            "Epoch 102/200\n",
            "2554/2554 [==============================] - 0s 111us/sample - loss: 0.0100 - val_loss: 0.0087\n",
            "Epoch 103/200\n",
            "2554/2554 [==============================] - 0s 114us/sample - loss: 0.0100 - val_loss: 0.0087\n",
            "Epoch 104/200\n",
            "2554/2554 [==============================] - 0s 113us/sample - loss: 0.0100 - val_loss: 0.0086\n",
            "Epoch 105/200\n",
            "2554/2554 [==============================] - 0s 113us/sample - loss: 0.0100 - val_loss: 0.0087\n",
            "Epoch 106/200\n",
            "2554/2554 [==============================] - 0s 115us/sample - loss: 0.0100 - val_loss: 0.0086\n",
            "Epoch 107/200\n",
            "2554/2554 [==============================] - 0s 116us/sample - loss: 0.0101 - val_loss: 0.0089\n",
            "Epoch 108/200\n",
            "2554/2554 [==============================] - 0s 114us/sample - loss: 0.0100 - val_loss: 0.0089\n",
            "Epoch 109/200\n",
            "2554/2554 [==============================] - 0s 110us/sample - loss: 0.0100 - val_loss: 0.0087\n",
            "Epoch 110/200\n",
            "2554/2554 [==============================] - 0s 110us/sample - loss: 0.0099 - val_loss: 0.0087\n",
            "Epoch 111/200\n",
            "2554/2554 [==============================] - 0s 112us/sample - loss: 0.0100 - val_loss: 0.0088\n",
            "Epoch 112/200\n",
            "2554/2554 [==============================] - 0s 118us/sample - loss: 0.0100 - val_loss: 0.0087\n",
            "Epoch 113/200\n",
            "2554/2554 [==============================] - 0s 127us/sample - loss: 0.0100 - val_loss: 0.0087\n",
            "Epoch 114/200\n",
            "2554/2554 [==============================] - 0s 116us/sample - loss: 0.0100 - val_loss: 0.0087\n",
            "Epoch 115/200\n",
            "2554/2554 [==============================] - 0s 113us/sample - loss: 0.0100 - val_loss: 0.0087\n",
            "Epoch 116/200\n",
            "2554/2554 [==============================] - 0s 119us/sample - loss: 0.0100 - val_loss: 0.0087\n",
            "Epoch 117/200\n",
            "2554/2554 [==============================] - 0s 118us/sample - loss: 0.0100 - val_loss: 0.0091\n",
            "Epoch 118/200\n",
            "2554/2554 [==============================] - 0s 124us/sample - loss: 0.0100 - val_loss: 0.0087\n",
            "Epoch 119/200\n",
            "2554/2554 [==============================] - 0s 127us/sample - loss: 0.0100 - val_loss: 0.0088\n",
            "Epoch 120/200\n",
            "2554/2554 [==============================] - 0s 120us/sample - loss: 0.0100 - val_loss: 0.0087\n",
            "Epoch 121/200\n",
            "2554/2554 [==============================] - 0s 116us/sample - loss: 0.0100 - val_loss: 0.0087\n",
            "Epoch 122/200\n",
            "2554/2554 [==============================] - 0s 115us/sample - loss: 0.0100 - val_loss: 0.0087\n",
            "Epoch 123/200\n",
            "2554/2554 [==============================] - 0s 125us/sample - loss: 0.0100 - val_loss: 0.0087\n",
            "Epoch 124/200\n",
            "2554/2554 [==============================] - 0s 140us/sample - loss: 0.0100 - val_loss: 0.0087\n",
            "Epoch 125/200\n",
            "2554/2554 [==============================] - 0s 119us/sample - loss: 0.0100 - val_loss: 0.0087\n",
            "Epoch 126/200\n",
            "2554/2554 [==============================] - 0s 117us/sample - loss: 0.0100 - val_loss: 0.0087\n",
            "Epoch 127/200\n",
            "2554/2554 [==============================] - 0s 120us/sample - loss: 0.0100 - val_loss: 0.0089\n",
            "Epoch 128/200\n",
            "2554/2554 [==============================] - 0s 116us/sample - loss: 0.0100 - val_loss: 0.0087\n",
            "Epoch 129/200\n",
            "2554/2554 [==============================] - 0s 109us/sample - loss: 0.0100 - val_loss: 0.0087\n",
            "Epoch 130/200\n",
            "2554/2554 [==============================] - 0s 114us/sample - loss: 0.0100 - val_loss: 0.0088\n",
            "Epoch 131/200\n",
            "2554/2554 [==============================] - 0s 116us/sample - loss: 0.0100 - val_loss: 0.0087\n",
            "Epoch 132/200\n",
            "2554/2554 [==============================] - 0s 124us/sample - loss: 0.0100 - val_loss: 0.0087\n",
            "Epoch 133/200\n",
            "2554/2554 [==============================] - 0s 111us/sample - loss: 0.0100 - val_loss: 0.0088\n",
            "Epoch 134/200\n",
            "2554/2554 [==============================] - 0s 131us/sample - loss: 0.0100 - val_loss: 0.0087\n",
            "Epoch 135/200\n",
            "2554/2554 [==============================] - 0s 120us/sample - loss: 0.0100 - val_loss: 0.0087\n",
            "Epoch 136/200\n",
            "2554/2554 [==============================] - 0s 115us/sample - loss: 0.0100 - val_loss: 0.0087\n",
            "Epoch 137/200\n",
            "2554/2554 [==============================] - 0s 118us/sample - loss: 0.0100 - val_loss: 0.0087\n",
            "Epoch 138/200\n",
            "2554/2554 [==============================] - 0s 123us/sample - loss: 0.0100 - val_loss: 0.0087\n",
            "Epoch 139/200\n",
            "2554/2554 [==============================] - 0s 123us/sample - loss: 0.0100 - val_loss: 0.0089\n",
            "Epoch 140/200\n",
            "2554/2554 [==============================] - 0s 122us/sample - loss: 0.0100 - val_loss: 0.0089\n",
            "Epoch 141/200\n",
            "2554/2554 [==============================] - 0s 127us/sample - loss: 0.0100 - val_loss: 0.0088\n",
            "Epoch 142/200\n",
            "2554/2554 [==============================] - 0s 123us/sample - loss: 0.0100 - val_loss: 0.0087\n",
            "Epoch 143/200\n",
            "2554/2554 [==============================] - 0s 118us/sample - loss: 0.0100 - val_loss: 0.0087\n",
            "Epoch 144/200\n",
            "2554/2554 [==============================] - 0s 117us/sample - loss: 0.0100 - val_loss: 0.0090\n",
            "Epoch 145/200\n",
            "2554/2554 [==============================] - 0s 120us/sample - loss: 0.0101 - val_loss: 0.0087\n",
            "Epoch 146/200\n",
            "2554/2554 [==============================] - 0s 120us/sample - loss: 0.0100 - val_loss: 0.0089\n",
            "Epoch 147/200\n",
            "2554/2554 [==============================] - 0s 138us/sample - loss: 0.0100 - val_loss: 0.0088\n",
            "Epoch 148/200\n",
            "2554/2554 [==============================] - 0s 126us/sample - loss: 0.0099 - val_loss: 0.0087\n",
            "Epoch 149/200\n",
            "2554/2554 [==============================] - 0s 131us/sample - loss: 0.0100 - val_loss: 0.0087\n",
            "Epoch 150/200\n",
            "2554/2554 [==============================] - 0s 133us/sample - loss: 0.0100 - val_loss: 0.0088\n",
            "Epoch 151/200\n",
            "2554/2554 [==============================] - 0s 126us/sample - loss: 0.0100 - val_loss: 0.0087\n",
            "Epoch 152/200\n",
            "2554/2554 [==============================] - 0s 122us/sample - loss: 0.0100 - val_loss: 0.0087\n",
            "Epoch 153/200\n",
            "2554/2554 [==============================] - 0s 138us/sample - loss: 0.0100 - val_loss: 0.0087\n",
            "Epoch 154/200\n",
            "2554/2554 [==============================] - 0s 127us/sample - loss: 0.0100 - val_loss: 0.0087\n",
            "Epoch 155/200\n",
            "2554/2554 [==============================] - 0s 117us/sample - loss: 0.0100 - val_loss: 0.0087\n",
            "Epoch 156/200\n",
            "2554/2554 [==============================] - 0s 113us/sample - loss: 0.0100 - val_loss: 0.0087\n",
            "Epoch 157/200\n",
            "2554/2554 [==============================] - 0s 112us/sample - loss: 0.0100 - val_loss: 0.0087\n",
            "Epoch 158/200\n",
            "2554/2554 [==============================] - 0s 121us/sample - loss: 0.0100 - val_loss: 0.0087\n",
            "Epoch 159/200\n",
            "2554/2554 [==============================] - 0s 115us/sample - loss: 0.0100 - val_loss: 0.0088\n",
            "Epoch 160/200\n",
            "2554/2554 [==============================] - 0s 118us/sample - loss: 0.0100 - val_loss: 0.0087\n",
            "Epoch 161/200\n",
            "2554/2554 [==============================] - 0s 119us/sample - loss: 0.0100 - val_loss: 0.0088\n",
            "Epoch 162/200\n",
            "2554/2554 [==============================] - 0s 125us/sample - loss: 0.0099 - val_loss: 0.0088\n",
            "Epoch 163/200\n",
            "2554/2554 [==============================] - 0s 145us/sample - loss: 0.0099 - val_loss: 0.0087\n",
            "Epoch 164/200\n",
            "2554/2554 [==============================] - 0s 111us/sample - loss: 0.0100 - val_loss: 0.0087\n",
            "Epoch 165/200\n",
            "2554/2554 [==============================] - 0s 113us/sample - loss: 0.0100 - val_loss: 0.0087\n",
            "Epoch 166/200\n",
            "2554/2554 [==============================] - 0s 132us/sample - loss: 0.0100 - val_loss: 0.0087\n",
            "Epoch 167/200\n",
            "2554/2554 [==============================] - 0s 113us/sample - loss: 0.0100 - val_loss: 0.0087\n",
            "Epoch 168/200\n",
            "2554/2554 [==============================] - 0s 114us/sample - loss: 0.0100 - val_loss: 0.0087\n",
            "Epoch 169/200\n",
            "2554/2554 [==============================] - 0s 112us/sample - loss: 0.0100 - val_loss: 0.0088\n",
            "Epoch 170/200\n",
            "2554/2554 [==============================] - 0s 112us/sample - loss: 0.0100 - val_loss: 0.0087\n",
            "Epoch 171/200\n",
            "2554/2554 [==============================] - 0s 120us/sample - loss: 0.0100 - val_loss: 0.0087\n",
            "Epoch 172/200\n",
            "2554/2554 [==============================] - 0s 114us/sample - loss: 0.0099 - val_loss: 0.0090\n",
            "Epoch 173/200\n",
            "2554/2554 [==============================] - 0s 113us/sample - loss: 0.0100 - val_loss: 0.0087\n",
            "Epoch 174/200\n",
            "2554/2554 [==============================] - 0s 110us/sample - loss: 0.0100 - val_loss: 0.0088\n",
            "Epoch 175/200\n",
            "2554/2554 [==============================] - 0s 107us/sample - loss: 0.0100 - val_loss: 0.0087\n",
            "Epoch 176/200\n",
            "2554/2554 [==============================] - 0s 121us/sample - loss: 0.0100 - val_loss: 0.0087\n",
            "Epoch 177/200\n",
            "2554/2554 [==============================] - 0s 117us/sample - loss: 0.0100 - val_loss: 0.0087\n",
            "Epoch 178/200\n",
            "2554/2554 [==============================] - 0s 116us/sample - loss: 0.0100 - val_loss: 0.0087\n",
            "Epoch 179/200\n",
            "2554/2554 [==============================] - 0s 113us/sample - loss: 0.0100 - val_loss: 0.0087\n",
            "Epoch 180/200\n",
            "2554/2554 [==============================] - 0s 117us/sample - loss: 0.0100 - val_loss: 0.0087\n",
            "Epoch 181/200\n",
            "2554/2554 [==============================] - 0s 115us/sample - loss: 0.0100 - val_loss: 0.0087\n",
            "Epoch 182/200\n",
            "2554/2554 [==============================] - 0s 111us/sample - loss: 0.0100 - val_loss: 0.0087\n",
            "Epoch 183/200\n",
            "2554/2554 [==============================] - 0s 120us/sample - loss: 0.0100 - val_loss: 0.0087\n",
            "Epoch 184/200\n",
            "2554/2554 [==============================] - 0s 116us/sample - loss: 0.0100 - val_loss: 0.0087\n",
            "Epoch 185/200\n",
            "2554/2554 [==============================] - 0s 114us/sample - loss: 0.0100 - val_loss: 0.0087\n",
            "Epoch 186/200\n",
            "2554/2554 [==============================] - 0s 124us/sample - loss: 0.0100 - val_loss: 0.0087\n",
            "Epoch 187/200\n",
            "2554/2554 [==============================] - 0s 123us/sample - loss: 0.0100 - val_loss: 0.0087\n",
            "Epoch 188/200\n",
            "2554/2554 [==============================] - 0s 132us/sample - loss: 0.0100 - val_loss: 0.0087\n",
            "Epoch 189/200\n",
            "2554/2554 [==============================] - 0s 126us/sample - loss: 0.0100 - val_loss: 0.0087\n",
            "Epoch 190/200\n",
            "2554/2554 [==============================] - 0s 126us/sample - loss: 0.0100 - val_loss: 0.0088\n",
            "Epoch 191/200\n",
            "2554/2554 [==============================] - 0s 116us/sample - loss: 0.0100 - val_loss: 0.0087\n",
            "Epoch 192/200\n",
            "2554/2554 [==============================] - 0s 126us/sample - loss: 0.0100 - val_loss: 0.0087\n",
            "Epoch 193/200\n",
            "2554/2554 [==============================] - 0s 117us/sample - loss: 0.0100 - val_loss: 0.0087\n",
            "Epoch 194/200\n",
            "2554/2554 [==============================] - 0s 118us/sample - loss: 0.0100 - val_loss: 0.0090\n",
            "Epoch 195/200\n",
            "2554/2554 [==============================] - 0s 111us/sample - loss: 0.0100 - val_loss: 0.0088\n",
            "Epoch 196/200\n",
            "2554/2554 [==============================] - 0s 119us/sample - loss: 0.0100 - val_loss: 0.0087\n",
            "Epoch 197/200\n",
            "2554/2554 [==============================] - 0s 118us/sample - loss: 0.0100 - val_loss: 0.0087\n",
            "Epoch 198/200\n",
            "2554/2554 [==============================] - 0s 114us/sample - loss: 0.0100 - val_loss: 0.0087\n",
            "Epoch 199/200\n",
            "2554/2554 [==============================] - 0s 112us/sample - loss: 0.0100 - val_loss: 0.0087\n",
            "Epoch 200/200\n",
            "2554/2554 [==============================] - 0s 115us/sample - loss: 0.0100 - val_loss: 0.0087\n"
          ],
          "name": "stdout"
        },
        {
          "output_type": "execute_result",
          "data": {
            "text/plain": [
              "<tensorflow.python.keras.callbacks.History at 0x7f86cbf4eb70>"
            ]
          },
          "metadata": {
            "tags": []
          },
          "execution_count": 140
        }
      ]
    },
    {
      "cell_type": "markdown",
      "metadata": {
        "id": "FfvCfpcivJKy",
        "colab_type": "text"
      },
      "source": [
        "## Make Predictions and Evaluate your model"
      ]
    },
    {
      "cell_type": "code",
      "metadata": {
        "colab_type": "code",
        "id": "85Ip5wrq7Jyi",
        "colab": {}
      },
      "source": [
        "#Get prediction for both Training and Test Data\n",
        "trainPredict = model.predict(X_train)\n",
        "testPredict = model.predict(X_test)"
      ],
      "execution_count": 0,
      "outputs": []
    },
    {
      "cell_type": "code",
      "metadata": {
        "id": "9-enCxT4FRdB",
        "colab_type": "code",
        "colab": {
          "base_uri": "https://localhost:8080/",
          "height": 35
        },
        "outputId": "92a37afc-d942-44d9-d407-bfa85da0a659"
      },
      "source": [
        "loss = model.evaluate(X_test,y_test)"
      ],
      "execution_count": 142,
      "outputs": [
        {
          "output_type": "stream",
          "text": [
            "1094/1094 [==============================] - 0s 43us/sample - loss: 0.0087\n"
          ],
          "name": "stdout"
        }
      ]
    },
    {
      "cell_type": "code",
      "metadata": {
        "id": "uSub0ILcGUlO",
        "colab_type": "code",
        "colab": {
          "base_uri": "https://localhost:8080/",
          "height": 35
        },
        "outputId": "6382c6ce-558b-4f6d-ed3c-1185d67d176c"
      },
      "source": [
        "loss"
      ],
      "execution_count": 143,
      "outputs": [
        {
          "output_type": "execute_result",
          "data": {
            "text/plain": [
              "0.008673494516563698"
            ]
          },
          "metadata": {
            "tags": []
          },
          "execution_count": 143
        }
      ]
    },
    {
      "cell_type": "markdown",
      "metadata": {
        "id": "VFpV72J5vJK4",
        "colab_type": "text"
      },
      "source": [
        "## Plot the results"
      ]
    },
    {
      "cell_type": "code",
      "metadata": {
        "colab_type": "code",
        "id": "FHbIWp-D7Jyn",
        "colab": {}
      },
      "source": [
        "#Un-normalize the predited data\n",
        "trainPredict = scaler.inverse_transform(trainPredict)\n",
        "testPredict = scaler.inverse_transform(testPredict)"
      ],
      "execution_count": 0,
      "outputs": []
    },
    {
      "cell_type": "code",
      "metadata": {
        "id": "ODcceg9WH_3U",
        "colab_type": "code",
        "colab": {
          "base_uri": "https://localhost:8080/",
          "height": 35
        },
        "outputId": "a8a34fcf-5eee-425c-9b45-52be688db20d"
      },
      "source": [
        "trainPredict[0]"
      ],
      "execution_count": 147,
      "outputs": [
        {
          "output_type": "execute_result",
          "data": {
            "text/plain": [
              "array([1.7340236], dtype=float32)"
            ]
          },
          "metadata": {
            "tags": []
          },
          "execution_count": 147
        }
      ]
    },
    {
      "cell_type": "code",
      "metadata": {
        "id": "qcPN2OA4IDBN",
        "colab_type": "code",
        "colab": {}
      },
      "source": [
        "import matplotlib.pyplot as plt"
      ],
      "execution_count": 0,
      "outputs": []
    },
    {
      "cell_type": "code",
      "metadata": {
        "id": "6ombTVGAIKE6",
        "colab_type": "code",
        "colab": {
          "base_uri": "https://localhost:8080/",
          "height": 613
        },
        "outputId": "654278a4-804d-48c6-b34f-25edffd237c2"
      },
      "source": [
        "trainPredictPlot = np.empty_like(scaled)\n",
        "trainPredictPlot[:, :] = np.nan\n",
        "trainPredictPlot[window_size:len(trainPredict)+window_size, :] = trainPredict\n",
        "\n",
        "# shift test predictions for plotting\n",
        "testPredictPlot = np.empty_like(scaled)\n",
        "testPredictPlot[:, :] = np.nan\n",
        "testPredictPlot[len(trainPredict)+(window_size*2):len(scaled), :] = testPredict\n",
        "\n",
        "# plot baseline and predictions\n",
        "plt.figure(figsize=(20,10))\n",
        "plt.plot(scaler.inverse_transform(scaled))\n",
        "plt.plot(trainPredictPlot)\n",
        "plt.plot(testPredictPlot)\n",
        "plt.show()"
      ],
      "execution_count": 149,
      "outputs": [
        {
          "output_type": "display_data",
          "data": {
            "image/png": "[encoded data removed]",
            "text/plain": [
              "<Figure size 1440x720 with 1 Axes>"
            ]
          },
          "metadata": {
            "tags": []
          }
        }
      ]
    }
  ]
}